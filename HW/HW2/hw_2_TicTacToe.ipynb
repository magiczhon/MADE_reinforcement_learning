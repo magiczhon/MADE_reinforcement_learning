{
 "cells": [
  {
   "cell_type": "code",
   "execution_count": 1,
   "id": "efa388b8",
   "metadata": {},
   "outputs": [],
   "source": [
    "import numpy as np\n",
    "import gym\n",
    "import math\n",
    "\n",
    "from tqdm import tqdm\n",
    "from matplotlib import pyplot as plt\n",
    "import torch\n",
    "import torch.nn as nn\n",
    "import torch.optim as optim\n",
    "import torch.nn.functional as F\n",
    "import torchvision.transforms as T\n",
    "from torch.autograd import Variable\n",
    "from pprint import pprint"
   ]
  },
  {
   "cell_type": "code",
   "execution_count": 2,
   "id": "794e47ba",
   "metadata": {},
   "outputs": [],
   "source": [
    "N_ROWS, N_COLS, N_WIN = 3, 3, 3\n",
    "class Observation:\n",
    "    def __init__(self, state_hash, board, actions, cur_turn):\n",
    "        self.hash = state_hash\n",
    "        self.board = board\n",
    "        self.actions = actions\n",
    "        self.cur_turn = cur_turn\n",
    "    \n",
    "    def __repr__(self):\n",
    "        return f'hash: {self.hash},\\n board:\\n {self.board},\\n actions:{self.actions},\\n turn:{self.cur_turn}'\n",
    "\n",
    "\n",
    "class TicTacToe(gym.Env):\n",
    "    def __init__(self, n_rows=N_ROWS, n_cols=N_COLS, n_win=N_WIN):\n",
    "        self.n_rows = n_rows\n",
    "        self.n_cols = n_cols\n",
    "        self.n_win = n_win\n",
    "\n",
    "        self.board = np.zeros((self.n_rows, self.n_cols), dtype=int)\n",
    "        self.gameOver = False\n",
    "        self.boardHash = None\n",
    "        # ход первого игрока\n",
    "        self.curTurn = 1\n",
    "        self.emptySpaces = None\n",
    "        self.empty_spaces = None\n",
    "        \n",
    "        self.reset()\n",
    "\n",
    "    def getEmptySpaces(self):\n",
    "        if self.emptySpaces is None:\n",
    "            res = np.where(self.board == 0)\n",
    "            self.emptySpaces = np.array([ (i, j) for i,j in zip(res[0], res[1]) ])\n",
    "        return self.emptySpaces\n",
    "\n",
    "    def get_empty_spaces(self):\n",
    "        if self.empty_spaces is None:\n",
    "            res = np.where(self.board == 0)\n",
    "            self.empty_spaces = np.array([ self.int_from_action((i, j)) for i,j in zip(res[0], res[1])])\n",
    "        return self.empty_spaces\n",
    "        \n",
    "    def makeMove(self, player, i, j):\n",
    "        self.board[i, j] = player\n",
    "        self.emptySpaces = None\n",
    "        self.empty_spaces = None\n",
    "        self.boardHash = None\n",
    "\n",
    "    def getHash(self):\n",
    "        if self.boardHash is None:\n",
    "            self.boardHash = ''.join(['%s' % (x+1) for x in self.board.reshape(self.n_rows * self.n_cols)])\n",
    "        return self.boardHash\n",
    "\n",
    "    def isTerminal(self):\n",
    "        # проверим, не закончилась ли игра\n",
    "        cur_marks, cur_p = np.where(self.board == self.curTurn), self.curTurn\n",
    "        for i,j in zip(cur_marks[0], cur_marks[1]):\n",
    "            win = False\n",
    "            if i <= self.n_rows - self.n_win:\n",
    "                if np.all(self.board[i:i+self.n_win, j] == cur_p):\n",
    "                    win = True\n",
    "            if not win:\n",
    "                if j <= self.n_cols - self.n_win:\n",
    "                    if np.all(self.board[i,j:j+self.n_win] == cur_p):\n",
    "                        win = True\n",
    "            if not win:\n",
    "                if i <= self.n_rows - self.n_win and j <= self.n_cols - self.n_win:\n",
    "                    if np.all(np.array([ self.board[i+k,j+k] == cur_p for k in range(self.n_win) ])):\n",
    "                        win = True\n",
    "            if not win:\n",
    "                if i <= self.n_rows - self.n_win and j >= self.n_win-1:\n",
    "                    if np.all(np.array([ self.board[i+k,j-k] == cur_p for k in range(self.n_win) ])):\n",
    "                        win = True\n",
    "            if win:\n",
    "                self.gameOver = True\n",
    "                return self.curTurn\n",
    "\n",
    "        if len(self.getEmptySpaces()) == 0:\n",
    "            self.gameOver = True\n",
    "            return 0\n",
    "\n",
    "        self.gameOver = False\n",
    "        return None\n",
    "\n",
    "    def printBoard(self):\n",
    "        for i in range(0, self.n_rows):\n",
    "            print('----'*(self.n_cols)+'-')\n",
    "            out = '| '\n",
    "            for j in range(0, self.n_cols):\n",
    "                if self.board[i, j] == 1:\n",
    "                    token = 'x'\n",
    "                if self.board[i, j] == -1:\n",
    "                    token = 'o'\n",
    "                if self.board[i, j] == 0:\n",
    "                    token = ' '\n",
    "                out += token + ' | '\n",
    "            print(out)\n",
    "        print('----'*(self.n_cols)+'-')\n",
    "\n",
    "    def getState(self) -> Observation:\n",
    "        return Observation(self.getHash(), self.board, self.get_empty_spaces(), self.curTurn)\n",
    "\n",
    "    def action_from_int(self, action_int):\n",
    "        return ( int(action_int / self.n_cols), int(action_int % self.n_cols))\n",
    "\n",
    "    def int_from_action(self, action):\n",
    "        return action[0] * self.n_cols + action[1]\n",
    "    \n",
    "    def _step(self, action):\n",
    "        if self.board[action[0], action[1]] != 0:\n",
    "            return self.getState(), -10 * self.curTurn, True, {}\n",
    "        self.makeMove(self.curTurn, action[0], action[1])\n",
    "        reward = self.isTerminal()\n",
    "        self.curTurn = -self.curTurn\n",
    "        return self.getState(), 0 if reward is None else reward, reward is not None, {}\n",
    "    \n",
    "    def step(self, num):\n",
    "        state, reward, done, info = self._step(self.action_from_int(num))        \n",
    "        return state, reward, done, info\n",
    "\n",
    "    def reset(self)-> Observation:\n",
    "        self.board = np.zeros((self.n_rows, self.n_cols), dtype=int)\n",
    "        self.boardHash = None\n",
    "        self.gameOver = False\n",
    "        self.emptySpaces = None\n",
    "        self.empty_spaces = None\n",
    "        self.curTurn = 1\n",
    "        return self.getState()"
   ]
  },
  {
   "cell_type": "code",
   "execution_count": 3,
   "id": "0e812fb9",
   "metadata": {},
   "outputs": [],
   "source": [
    "class BaseAgent:\n",
    "    def __init__(self, env: TicTacToe):\n",
    "        self.env = env\n",
    "        self.actions_count = env.n_rows * env.n_cols\n",
    "    \n",
    "    def learn(self, state, action, reward, new_state):\n",
    "        pass\n",
    "    \n",
    "    def get_action(self, state: Observation, eps=0.01):\n",
    "        pass"
   ]
  },
  {
   "cell_type": "code",
   "execution_count": 63,
   "id": "267329b0",
   "metadata": {},
   "outputs": [],
   "source": [
    "def plot_result(data, title): \n",
    "    plt.figure(figsize=(10,8))\n",
    "    plt.plot(data[0], data[1], label='X')\n",
    "    plt.plot(data[0], data[2], label='0')\n",
    "    plt.legend()\n",
    "    plt.xlabel('Episodes')\n",
    "    plt.ylabel('Mean reward')\n",
    "    plt.title(title)\n",
    "    plt.grid()\n",
    "    plt.show()\n",
    "    "
   ]
  },
  {
   "cell_type": "markdown",
   "id": "94cda5de",
   "metadata": {},
   "source": [
    "## Часть первая: крестики-нолики при помощи Q-обучения\n",
    "\n",
    "1. Реализуйте обычное (табличное) Q-обучение. Обучите стратегии крестиков и ноликов для доски 3х3.\n",
    "\n",
    "Будем обучать двух агентов, которые на обучаются по отдельности против случайной стратегии, но иногда соревнуются друг с другом.\n",
    "\n",
    "EPS-greedy Q-learning:"
   ]
  },
  {
   "cell_type": "code",
   "execution_count": 16,
   "id": "af2e8188",
   "metadata": {},
   "outputs": [],
   "source": [
    "class QLearning(BaseAgent):\n",
    "    def __init__(self, env, alpha=0.1, gamma=0.85):\n",
    "        super().__init__(env)\n",
    "        self.gamma = gamma\n",
    "        self.alpha = alpha\n",
    "        self.Q = {}\n",
    "    \n",
    "    def learn(self, state: Observation, action, reward, new_state: Observation):\n",
    "        if state.hash not in self.Q:\n",
    "            self.Q[state.hash] = np.random.random(size=self.actions_count)\n",
    "        if new_state.hash not in self.Q:\n",
    "            self.Q[new_state.hash] = np.zeros(shape=self.actions_count)\n",
    "        Q = self.Q[state.hash][action]\n",
    "        Qmax = np.max(self.Q[new_state.hash][state.actions])\n",
    "        self.Q[state.hash][action] += self.alpha * (reward + self.gamma * Qmax - Q)\n",
    "    \n",
    "    def get_action(self, state: Observation, eps=0.0):\n",
    "        if np.random.random() > eps:\n",
    "            if state.hash not in self.Q:\n",
    "                self.Q[state.hash] = np.zeros(shape=self.actions_count)\n",
    "            return state.actions[np.argmax(self.Q[state.hash][state.actions])]\n",
    "        return state.actions[np.random.randint(0, len(state.actions))]"
   ]
  },
  {
   "cell_type": "code",
   "execution_count": 17,
   "id": "6ada8228",
   "metadata": {},
   "outputs": [],
   "source": [
    "class RandomAgent(BaseAgent):\n",
    "    def get_action(self, state, eps=0):\n",
    "        return state.actions[np.random.randint(0, len(state.actions))]"
   ]
  },
  {
   "cell_type": "code",
   "execution_count": 60,
   "id": "6bd57a71",
   "metadata": {},
   "outputs": [],
   "source": [
    "class TicTacToeSupervisor:\n",
    "    def __init__(self, env: TicTacToe, agent1: BaseAgent, agent2: BaseAgent, agent3: BaseAgent):\n",
    "        self.agent1 = agent1\n",
    "        self.agent2 = agent2\n",
    "        self.random_agent = agent3\n",
    "        self.env = env\n",
    "        self.eps = 0.1\n",
    "\n",
    "    def run_episode(self, cross, nought, eps=0.1):\n",
    "        done = False\n",
    "        prevc_state = self.env.reset()\n",
    "        cross_action = cross.get_action(prevc_state, eps)\n",
    "        prevn_state, reward, done, _ = self.env.step(cross_action)\n",
    "        while True:\n",
    "            nought_action = nought.get_action(prevn_state, eps)\n",
    "            curc_state, reward, done, _ = self.env.step(nought_action)\n",
    "            cross.learn(prevc_state, cross_action, reward, curc_state)\n",
    "            if done:\n",
    "                nought.learn(prevn_state, nought_action, -reward, curc_state)\n",
    "                break\n",
    "            prevc_state = curc_state\n",
    "            cross_action = cross.get_action(prevc_state, eps)\n",
    "            curn_state, reward, done, _ = self.env.step(cross_action)\n",
    "            nought.learn(prevn_state, nought_action, -reward, curn_state)\n",
    "            if done:\n",
    "                cross.learn(prevc_state, cross_action, reward, curn_state)\n",
    "                break\n",
    "            prevn_state = curn_state\n",
    "    \n",
    "    def evaluate(self, crosses: BaseAgent, noughts: BaseAgent, eps=0.0):\n",
    "        done = False\n",
    "        state = self.env.reset()\n",
    "        while not done:\n",
    "            state, reward, done, _ = self.env.step(crosses.get_action(state, eps))\n",
    "            if done:\n",
    "                break\n",
    "            state, reward, done, _ = self.env.step(noughts.get_action(state, eps))\n",
    "        \n",
    "        return reward\n",
    "    \n",
    "    def fit(self, episodes, experiments, every, verbose=False):\n",
    "        x = np.arange(0, episodes, every)\n",
    "        scores = [np.zeros((episodes + every - 1) // every) for i in range(3)]\n",
    "        measure_count = 0\n",
    "        \n",
    "        for i in tqdm(range(episodes)):\n",
    "            self.run_episode(self.agent1, self.random_agent, self.eps)\n",
    "            self.run_episode(self.random_agent, self.agent2, self.eps)\n",
    "\n",
    "            if every > 0 and i % every == 0:\n",
    "                for j in range(experiments):\n",
    "                    scores[0][measure_count] += self.evaluate(self.agent1, self.random_agent)\n",
    "                    scores[1][measure_count] -= self.evaluate(self.random_agent, self.agent2)\n",
    "                for j in range(0, 2):\n",
    "                    scores[j][measure_count] /= experiments\n",
    "                if verbose:\n",
    "                    print(f'Episode #{i} score:\\t X:{scores[0][measure_count]}, | \\tO:{scores[1][measure_count]}')\n",
    "                measure_count += 1\n",
    "        \n",
    "        return (x, *scores)"
   ]
  },
  {
   "cell_type": "code",
   "execution_count": 61,
   "id": "3917cc06",
   "metadata": {},
   "outputs": [
    {
     "name": "stderr",
     "output_type": "stream",
     "text": [
      " 29%|████████████████████████████                                                                      | 286/1000 [00:00<00:00, 1092.54it/s]"
     ]
    },
    {
     "name": "stdout",
     "output_type": "stream",
     "text": [
      "Episode #0 score:\t X:0.63, | \tO:-0.14\n"
     ]
    },
    {
     "name": "stderr",
     "output_type": "stream",
     "text": [
      " 66%|████████████████████████████████████████████████████████████████▉                                  | 656/1000 [00:00<00:00, 973.87it/s]"
     ]
    },
    {
     "name": "stdout",
     "output_type": "stream",
     "text": [
      "Episode #300 score:\t X:0.79, | \tO:0.26\n",
      "Episode #600 score:\t X:0.83, | \tO:0.3\n"
     ]
    },
    {
     "name": "stderr",
     "output_type": "stream",
     "text": [
      "100%|██████████████████████████████████████████████████████████████████████████████████████████████████| 1000/1000 [00:01<00:00, 995.03it/s]"
     ]
    },
    {
     "name": "stdout",
     "output_type": "stream",
     "text": [
      "Episode #900 score:\t X:0.88, | \tO:0.44\n"
     ]
    },
    {
     "name": "stderr",
     "output_type": "stream",
     "text": [
      "\n"
     ]
    }
   ],
   "source": [
    "env = TicTacToe()\n",
    "superviser = TicTacToeSupervisor(env, QLearning(env, alpha=0.1, gamma=0.85), QLearning(env, alpha=0.1, gamma=0.85), RandomAgent(env))\n",
    "data = superviser.fit(1000, 100, 300, True)"
   ]
  },
  {
   "cell_type": "markdown",
   "id": "3d1bbbbd",
   "metadata": {},
   "source": [
    "Обучим на доске 3х3"
   ]
  },
  {
   "cell_type": "code",
   "execution_count": 65,
   "id": "c017f0ea",
   "metadata": {},
   "outputs": [
    {
     "data": {
      "text/plain": [
       "(array([     0,   2000,   4000,   6000,   8000,  10000,  12000,  14000,\n",
       "         16000,  18000,  20000,  22000,  24000,  26000,  28000,  30000,\n",
       "         32000,  34000,  36000,  38000,  40000,  42000,  44000,  46000,\n",
       "         48000,  50000,  52000,  54000,  56000,  58000,  60000,  62000,\n",
       "         64000,  66000,  68000,  70000,  72000,  74000,  76000,  78000,\n",
       "         80000,  82000,  84000,  86000,  88000,  90000,  92000,  94000,\n",
       "         96000,  98000, 100000, 102000, 104000, 106000, 108000, 110000,\n",
       "        112000, 114000, 116000, 118000, 120000, 122000, 124000, 126000,\n",
       "        128000, 130000, 132000, 134000, 136000, 138000, 140000, 142000,\n",
       "        144000, 146000, 148000, 150000, 152000, 154000, 156000, 158000,\n",
       "        160000, 162000, 164000, 166000, 168000, 170000, 172000, 174000,\n",
       "        176000, 178000, 180000, 182000, 184000, 186000, 188000, 190000,\n",
       "        192000, 194000, 196000, 198000]),\n",
       " array([0.45, 0.89, 0.98, 0.93, 0.93, 0.92, 0.96, 0.95, 0.88, 0.94, 0.97,\n",
       "        0.95, 0.92, 0.95, 0.99, 0.95, 0.96, 0.99, 0.98, 1.  , 0.99, 1.  ,\n",
       "        0.95, 0.96, 0.98, 0.98, 0.96, 1.  , 0.97, 1.  , 0.99, 1.  , 1.  ,\n",
       "        1.  , 0.99, 0.99, 0.98, 1.  , 1.  , 0.99, 0.98, 1.  , 0.99, 0.99,\n",
       "        1.  , 0.99, 1.  , 0.98, 0.99, 0.99, 0.99, 1.  , 1.  , 1.  , 0.99,\n",
       "        0.99, 0.98, 0.98, 1.  , 0.99, 1.  , 0.99, 1.  , 1.  , 0.98, 0.99,\n",
       "        0.99, 0.98, 0.99, 1.  , 0.99, 0.99, 1.  , 1.  , 0.98, 1.  , 1.  ,\n",
       "        1.  , 1.  , 0.98, 0.99, 1.  , 1.  , 1.  , 0.99, 0.98, 0.99, 0.98,\n",
       "        1.  , 0.99, 1.  , 1.  , 0.99, 1.  , 1.  , 1.  , 1.  , 1.  , 1.  ,\n",
       "        1.  ]),\n",
       " array([-0.21,  0.58,  0.55,  0.72,  0.64,  0.67,  0.7 ,  0.69,  0.72,\n",
       "         0.7 ,  0.69,  0.76,  0.69,  0.81,  0.76,  0.76,  0.82,  0.83,\n",
       "         0.84,  0.85,  0.76,  0.79,  0.74,  0.77,  0.79,  0.83,  0.82,\n",
       "         0.67,  0.84,  0.79,  0.91,  0.91,  0.83,  0.75,  0.84,  0.87,\n",
       "         0.82,  0.91,  0.8 ,  0.85,  0.81,  0.88,  0.88,  0.75,  0.87,\n",
       "         0.76,  0.83,  0.91,  0.8 ,  0.85,  0.78,  0.82,  0.9 ,  0.9 ,\n",
       "         0.82,  0.82,  0.85,  0.79,  0.84,  0.89,  0.83,  0.79,  0.86,\n",
       "         0.91,  0.84,  0.87,  0.85,  0.88,  0.86,  0.86,  0.77,  0.9 ,\n",
       "         0.87,  0.87,  0.88,  0.91,  0.81,  0.82,  0.84,  0.93,  0.93,\n",
       "         0.8 ,  0.89,  0.82,  0.83,  0.83,  0.76,  0.88,  0.92,  0.82,\n",
       "         0.92,  0.89,  0.85,  0.83,  0.82,  0.79,  0.9 ,  0.88,  0.9 ,\n",
       "         0.89]),\n",
       " array([0., 0., 0., 0., 0., 0., 0., 0., 0., 0., 0., 0., 0., 0., 0., 0., 0.,\n",
       "        0., 0., 0., 0., 0., 0., 0., 0., 0., 0., 0., 0., 0., 0., 0., 0., 0.,\n",
       "        0., 0., 0., 0., 0., 0., 0., 0., 0., 0., 0., 0., 0., 0., 0., 0., 0.,\n",
       "        0., 0., 0., 0., 0., 0., 0., 0., 0., 0., 0., 0., 0., 0., 0., 0., 0.,\n",
       "        0., 0., 0., 0., 0., 0., 0., 0., 0., 0., 0., 0., 0., 0., 0., 0., 0.,\n",
       "        0., 0., 0., 0., 0., 0., 0., 0., 0., 0., 0., 0., 0., 0., 0.]))"
      ]
     },
     "execution_count": 65,
     "metadata": {},
     "output_type": "execute_result"
    }
   ],
   "source": [
    "data"
   ]
  },
  {
   "cell_type": "code",
   "execution_count": 62,
   "id": "9b4fd368",
   "metadata": {},
   "outputs": [
    {
     "name": "stderr",
     "output_type": "stream",
     "text": [
      "100%|█████████████████████████████████████████████████████████████████████████████████████████████| 200000/200000 [02:18<00:00, 1447.61it/s]\n"
     ]
    }
   ],
   "source": [
    "env = TicTacToe()\n",
    "superviser = TicTacToeSupervisor(env, QLearning(env, alpha=0.1, gamma=0.85), QLearning(env, alpha=0.1, gamma=0.85), RandomAgent(env))\n",
    "every=2000\n",
    "data = superviser.fit(200000, 100, every, False)"
   ]
  },
  {
   "cell_type": "code",
   "execution_count": 76,
   "id": "c49e37b9",
   "metadata": {},
   "outputs": [
    {
     "name": "stdout",
     "output_type": "stream",
     "text": [
      "\n",
      "Средний выигрыш за последние 20000 эпизодов у агента Х: 0.999\n",
      "Средний выигрыш за последние 20000 эпизодов у агента 0: 0.867\n",
      "\n"
     ]
    },
    {
     "data": {
      "image/png": "[encoded data removed]",
      "text/plain": [
       "<Figure size 720x576 with 1 Axes>"
      ]
     },
     "metadata": {
      "needs_background": "light"
     },
     "output_type": "display_data"
    }
   ],
   "source": [
    "k = 10\n",
    "print(f'''\n",
    "Средний выигрыш за последние {every * k} эпизодов у агента Х: {data[1][-k:].sum() / k}\n",
    "Средний выигрыш за последние {every * k} эпизодов у агента 0: {data[2][-k:].sum() / k}\n",
    "''')\n",
    "plot_result(data, \n",
    "            '''График среднего выигрыша агентов Х и 0 против случайного агента, \n",
    "            обученных при помощи EPS-greedy strategy 3x3'''\n",
    "           )"
   ]
  },
  {
   "cell_type": "code",
   "execution_count": null,
   "id": "fdfe6bb8",
   "metadata": {},
   "outputs": [],
   "source": []
  },
  {
   "cell_type": "markdown",
   "id": "7f1623c6",
   "metadata": {},
   "source": [
    "2. Попробуйте обучить стратегии крестиков и ноликов для доски 4х4 и/или 5х5.\n",
    "Обучим для доски 4х4."
   ]
  },
  {
   "cell_type": "code",
   "execution_count": 77,
   "id": "b49fbea9",
   "metadata": {},
   "outputs": [
    {
     "name": "stderr",
     "output_type": "stream",
     "text": [
      "100%|██████████████████████████████████████████████████████████████████████████████████████████████| 500000/500000 [12:33<00:00, 663.55it/s]\n"
     ]
    }
   ],
   "source": [
    "env = TicTacToe(n_rows=4, n_cols=4, n_win=4)\n",
    "superviser = TicTacToeSupervisor(env, QLearning(env, alpha=0.2, gamma=1), QLearning(env, alpha=0.2, gamma=1), RandomAgent(env))\n",
    "every = 10000\n",
    "data = superviser.fit(500000, 50, every, False)"
   ]
  },
  {
   "cell_type": "code",
   "execution_count": null,
   "id": "8ef00576",
   "metadata": {},
   "outputs": [],
   "source": []
  },
  {
   "cell_type": "code",
   "execution_count": 78,
   "id": "607c8de3",
   "metadata": {},
   "outputs": [
    {
     "name": "stdout",
     "output_type": "stream",
     "text": [
      "\n",
      "Средний выигрыш за последние 200000 эпизодов у агента Х: 0.796\n",
      "Средний выигрыш за последние 200000 эпизодов у агента 0: 0.5599999999999999\n",
      "\n"
     ]
    },
    {
     "data": {
      "image/png": "[encoded data removed]",
      "text/plain": [
       "<Figure size 720x576 with 1 Axes>"
      ]
     },
     "metadata": {
      "needs_background": "light"
     },
     "output_type": "display_data"
    }
   ],
   "source": [
    "k = 10\n",
    "print(f'''\n",
    "Средний выигрыш за последние {every * k} эпизодов у агента Х: {data[1][-k:].sum() / k}\n",
    "Средний выигрыш за последние {every * k} эпизодов у агента 0: {data[2][-k:].sum() / k}\n",
    "''')\n",
    "plot_result(data, \n",
    "            '''График среднего выигрыша агентов Х и 0 против случайного агента, \n",
    "            обученных при помощи EPS-greedy strategy 3x3'''\n",
    "           )"
   ]
  },
  {
   "cell_type": "code",
   "execution_count": null,
   "id": "f7dd2d9b",
   "metadata": {},
   "outputs": [],
   "source": []
  },
  {
   "cell_type": "code",
   "execution_count": null,
   "id": "4ff00170",
   "metadata": {},
   "outputs": [],
   "source": []
  },
  {
   "cell_type": "code",
   "execution_count": null,
   "id": "ac0c39a2",
   "metadata": {},
   "outputs": [],
   "source": []
  },
  {
   "cell_type": "code",
   "execution_count": null,
   "id": "594f7811",
   "metadata": {},
   "outputs": [],
   "source": []
  },
  {
   "cell_type": "code",
   "execution_count": null,
   "id": "c0cf25ed",
   "metadata": {},
   "outputs": [],
   "source": []
  },
  {
   "cell_type": "code",
   "execution_count": null,
   "id": "00289f8e",
   "metadata": {},
   "outputs": [],
   "source": []
  },
  {
   "cell_type": "code",
   "execution_count": null,
   "id": "597c8567",
   "metadata": {},
   "outputs": [],
   "source": []
  }
 ],
 "metadata": {
  "kernelspec": {
   "display_name": "Python 3 (ipykernel)",
   "language": "python",
   "name": "python3"
  },
  "language_info": {
   "codemirror_mode": {
    "name": "ipython",
    "version": 3
   },
   "file_extension": ".py",
   "mimetype": "text/x-python",
   "name": "python",
   "nbconvert_exporter": "python",
   "pygments_lexer": "ipython3",
   "version": "3.8.8"
  }
 },
 "nbformat": 4,
 "nbformat_minor": 5
}
