{
 "cells": [
  {
   "cell_type": "code",
   "execution_count": null,
   "id": "f18b8e25",
   "metadata": {},
   "outputs": [],
   "source": []
  },
  {
   "cell_type": "code",
   "execution_count": null,
   "id": "71182b1a",
   "metadata": {},
   "outputs": [],
   "source": []
  },
  {
   "cell_type": "markdown",
   "id": "af8d3943",
   "metadata": {},
   "source": [
    "## Часть первая, с блекджеком и стратегиями\n",
    "Мы будем обучаться играть в очень простую, но знаменитую и популярную игру: блекджек.\n",
    "\n",
    "Правила блекджека достаточно просты; давайте начнём с самой базовой версии, которая реализована в OpenAI Gym:\n",
    "- численные значения карт равны от 2 до 10 для карт от двойки до десятки, 10 для валетов, дам и королей;\n",
    "- туз считается за 11 очков, если общая сумма карт на руке при этом не превосходит 21 (по-английски в этом случае говорят, что на руке есть usable ace), и за 1 очко, если превосходит;\n",
    "- игроку раздаются две карты, дилеру — одна в открытую и одна в закрытую;\n",
    "- игрок может совершать одно из двух действий:\n",
    "    - hit — взять ещё одну карту;\n",
    "    - stand — не брать больше карт;\n",
    "- если сумма очков у игрока на руках больше 21, он проигрывает (bust);\n",
    "- если игрок выбирает stand с суммой не больше 21, дилер добирает карты, пока сумма карт в его руке меньше 17;\n",
    "- после этого игрок выигрывает, если дилер либо превышает 21, либо получает сумму очков меньше, чем сумма очков у игрока; при равенстве очков объявляется ничья (ставка возвращается);\n",
    "- в исходных правилах есть ещё дополнительный бонус за natural blackjack: если\n",
    "игрок набирает 21 очко с раздачи, двумя картами, он выигрывает не +1, а +1.5 (полторы ставки).\n",
    "\n",
    "\n",
    "Именно этот простейший вариант блекджека реализован в OpenAI Gym:\n",
    "https://github.com/openai/gym/blob/master/gym/envs/toy_text/blackjack.py\n",
    "\n",
    "\n",
    "1. Рассмотрим очень простую стратегию: говорить stand, если у нас на руках комбинация в 19, 20 или 21 очко, во всех остальных случаях говорить hit. Используйте методы Монте-Карло, чтобы оценить выигрыш от этой стратегии.\n",
    "2. Реализуйте метод обучения с подкреплением без модели (можно Q-обучение, но рекомендую попробовать и другие, например Monte Carlo control) для обучения стратегии в блекджеке, используя окружение BlackjackEnv из OpenAI Gym.\n",
    "3. Сколько выигрывает казино у вашей стратегии? Нарисуйте графики среднего дохода вашего метода (усреднённого по крайней мере по 100000 раздач, а лучше больше) по ходу обучения. Попробуйте подобрать оптимальные гиперпараметры.\n"
   ]
  },
  {
   "cell_type": "code",
   "execution_count": null,
   "id": "5101e2ea",
   "metadata": {},
   "outputs": [],
   "source": []
  },
  {
   "cell_type": "code",
   "execution_count": 30,
   "id": "c36a5bff",
   "metadata": {},
   "outputs": [],
   "source": [
    "import gym\n",
    "import numpy as np\n",
    "\n",
    "import matplotlib.pyplot as plt\n",
    "import seaborn as sns\n",
    "import plotly.express as px\n",
    "\n",
    "from tqdm import tqdm\n",
    "from collections import defaultdict\n",
    "\n",
    "sns.set_style(\"whitegrid\")\n",
    "sns.set_palette(\"colorblind\")\n",
    "palette = sns.color_palette()\n",
    "figsize = (15,8)\n",
    "legend_fontsize = 16\n",
    "\n",
    "K = 1000 # количество предыдущих эпизодов, по которому усредняем доход за эпизод для графиков\n",
    "\n",
    "N = 100000"
   ]
  },
  {
   "cell_type": "code",
   "execution_count": 2,
   "id": "69f52838",
   "metadata": {},
   "outputs": [],
   "source": [
    "env = gym.make('Blackjack-v1', natural=True)"
   ]
  },
  {
   "cell_type": "markdown",
   "id": "14a3dfb6",
   "metadata": {},
   "source": [
    "1. Рассмотрим очень простую стратегию: говорить stand, если у нас на руках комбинация в 19, 20 или 21 очко, во всех остальных случаях говорить hit. Используйте методы Монте-Карло, чтобы оценить выигрыш от этой стратегии."
   ]
  },
  {
   "cell_type": "code",
   "execution_count": 21,
   "id": "d809357c",
   "metadata": {},
   "outputs": [
    {
     "name": "stderr",
     "output_type": "stream",
     "text": [
      "100%|█████████████████████████████████████████████████████████████████████████████████████████████████████████████████████████████████████████████████████| 2/2 [00:00<00:00, 1008.12it/s]"
     ]
    },
    {
     "name": "stdout",
     "output_type": "stream",
     "text": [
      "start game: 0\n",
      "(10, 2, False)\n",
      "(18, 2, False) 0.0 False\n",
      "(28, 2, False) -1.0 True\n",
      "end game: 0\n",
      "start game: 1\n",
      "(19, 10, False)\n",
      "(19, 10, False) 1.0 True\n",
      "end game: 1\n"
     ]
    },
    {
     "name": "stderr",
     "output_type": "stream",
     "text": [
      "\n"
     ]
    },
    {
     "data": {
      "text/plain": [
       "([-1.0, 1.0], [-1.0, 0.0])"
      ]
     },
     "execution_count": 21,
     "metadata": {},
     "output_type": "execute_result"
    }
   ],
   "source": [
    "def monte_carlo(N, debug=False):\n",
    "    good_points = [19, 20, 21]\n",
    "    total_rewards = []\n",
    "    mean_rewards = []\n",
    "    for i in tqdm(range(N)):\n",
    "        if debug: print(f\"start game: {i}\")\n",
    "        observation, info = env.reset()\n",
    "        if debug: print(observation)\n",
    "        action = 0\n",
    "        end_game = False\n",
    "        while not end_game:\n",
    "            if observation[0] in good_points:\n",
    "                action = 0 # stop = 0\n",
    "            else:\n",
    "                action = 1 # get card = 0\n",
    "            observation, reward, end_game, info, _ = env.step(action)\n",
    "            if debug: print(observation, reward, end_game)\n",
    "        total_rewards.append(reward) # добавляем награды\n",
    "        mean_rewards.append(np.mean(total_rewards[-K:]))\n",
    "        if debug: print(f\"end game: {i}\")\n",
    "    return total_rewards, mean_rewards\n",
    "   \n",
    "monte_carlo(N=2, debug=True)"
   ]
  },
  {
   "cell_type": "code",
   "execution_count": 22,
   "id": "21a76222",
   "metadata": {},
   "outputs": [
    {
     "name": "stderr",
     "output_type": "stream",
     "text": [
      "100%|███████████████████████████████████████████████████████████████████████████████████████████████████████████████████████████████████████████| 100000/100000 [00:14<00:00, 7103.56it/s]\n"
     ]
    }
   ],
   "source": [
    "# сыграем N игр и посмотрим результаты простой стратегии\n",
    "total_reward_monte_carlo, mean_reward_monte_carlo = monte_carlo(N)"
   ]
  },
  {
   "cell_type": "code",
   "execution_count": 23,
   "id": "68067730",
   "metadata": {},
   "outputs": [
    {
     "name": "stdout",
     "output_type": "stream",
     "text": [
      "Количество эпизодов: 100000\n",
      "Средний выигрыш за игру: -0.19445\n",
      "Средний выигрыш за игру за первые 1000 игр: -0.162\n",
      "Средний выигрыш за игру за последние 1000 игр: -0.177\n",
      "Общий выигрыш по всем эпизодам: -19445.0\n"
     ]
    }
   ],
   "source": [
    "print(f'Количество эпизодов: {N}')\n",
    "print(f'Средний выигрыш за игру: {np.mean(total_reward_monte_carlo)}')\n",
    "print(f'Средний выигрыш за игру за первые {K} игр: {mean_reward_monte_carlo[K]}')\n",
    "print(f'Средний выигрыш за игру за последние {K} игр: {mean_reward_monte_carlo[-1]}')\n",
    "print(f'Общий выигрыш по всем эпизодам: {np.sum(total_reward_monte_carlo)}')"
   ]
  },
  {
   "cell_type": "code",
   "execution_count": null,
   "id": "5bb530ec",
   "metadata": {},
   "outputs": [],
   "source": []
  },
  {
   "cell_type": "code",
   "execution_count": 24,
   "id": "63925e11",
   "metadata": {},
   "outputs": [
    {
     "data": {
      "image/svg+xml": [
       "<svg class=\"main-svg\" xmlns=\"http://www.w3.org/2000/svg\" xmlns:xlink=\"http://www.w3.org/1999/xlink\" width=\"900\" height=\"800\" style=\"\" viewBox=\"0 0 900 800\"><rect x=\"0\" y=\"0\" width=\"900\" height=\"800\" style=\"fill: rgb(255, 255, 255); fill-opacity: 1;\"/><defs id=\"defs-926aaa\"><g class=\"clips\"><clipPath id=\"clip926aaaxyplot\" class=\"plotclip\"><rect width=\"845\" height=\"674\"/></clipPath><clipPath class=\"axesclip\" id=\"clip926aaax\"><rect x=\"55\" y=\"0\" width=\"845\" height=\"800\"/></clipPath><clipPath class=\"axesclip\" id=\"clip926aaay\"><rect x=\"0\" y=\"30\" width=\"900\" height=\"674\"/></clipPath><clipPath class=\"axesclip\" id=\"clip926aaaxy\"><rect x=\"55\" y=\"30\" width=\"845\" height=\"674\"/></clipPath></g><g class=\"gradients\"/><g class=\"patterns\"/></defs><g class=\"bglayer\"><rect class=\"bg\" x=\"55\" y=\"30\" width=\"845\" height=\"674\" style=\"fill: rgb(229, 236, 246); fill-opacity: 1; stroke-width: 0;\"/></g><g class=\"layer-below\"><g class=\"imagelayer\"/><g class=\"shapelayer\"/></g><g class=\"cartesianlayer\"><g class=\"subplot xy\"><g class=\"layer-subplot\"><g class=\"shapelayer\"/><g class=\"imagelayer\"/></g><g class=\"minor-gridlayer\"><g class=\"x\"/><g class=\"y\"/></g><g class=\"gridlayer\"><g class=\"x\"><path class=\"xgrid crisp\" transform=\"translate(252.95,0)\" d=\"M0,30v674\" style=\"stroke: rgb(255, 255, 255); stroke-opacity: 1; stroke-width: 1px;\"/><path class=\"xgrid crisp\" transform=\"translate(402.65,0)\" d=\"M0,30v674\" style=\"stroke: rgb(255, 255, 255); stroke-opacity: 1; stroke-width: 1px;\"/><path class=\"xgrid crisp\" transform=\"translate(552.35,0)\" d=\"M0,30v674\" style=\"stroke: rgb(255, 255, 255); stroke-opacity: 1; stroke-width: 1px;\"/><path class=\"xgrid crisp\" transform=\"translate(702.06,0)\" d=\"M0,30v674\" style=\"stroke: rgb(255, 255, 255); stroke-opacity: 1; stroke-width: 1px;\"/><path class=\"xgrid crisp\" transform=\"translate(851.76,0)\" d=\"M0,30v674\" style=\"stroke: rgb(255, 255, 255); stroke-opacity: 1; stroke-width: 1px;\"/></g><g class=\"y\"><path class=\"ygrid crisp\" transform=\"translate(0,664.3)\" d=\"M55,0h845\" style=\"stroke: rgb(255, 255, 255); stroke-opacity: 1; stroke-width: 1px;\"/><path class=\"ygrid crisp\" transform=\"translate(0,535.3199999999999)\" d=\"M55,0h845\" style=\"stroke: rgb(255, 255, 255); stroke-opacity: 1; stroke-width: 1px;\"/><path class=\"ygrid crisp\" transform=\"translate(0,406.34)\" d=\"M55,0h845\" style=\"stroke: rgb(255, 255, 255); stroke-opacity: 1; stroke-width: 1px;\"/><path class=\"ygrid crisp\" transform=\"translate(0,277.36)\" d=\"M55,0h845\" style=\"stroke: rgb(255, 255, 255); stroke-opacity: 1; stroke-width: 1px;\"/><path class=\"ygrid crisp\" transform=\"translate(0,148.38)\" d=\"M55,0h845\" style=\"stroke: rgb(255, 255, 255); stroke-opacity: 1; stroke-width: 1px;\"/></g></g><g class=\"zerolinelayer\"><path class=\"xzl zl crisp\" transform=\"translate(103.25,0)\" d=\"M0,30v674\" style=\"stroke: rgb(255, 255, 255); stroke-opacity: 1; stroke-width: 2px;\"/></g><path class=\"xlines-below\"/><path class=\"ylines-below\"/><g class=\"overlines-below\"/><g class=\"xaxislayer-below\"/><g class=\"yaxislayer-below\"/><g class=\"overaxes-below\"/><g class=\"plot\" transform=\"translate(55,30)\" clip-path=\"url(#clip926aaaxyplot)\"/><g class=\"overplot\"/><path class=\"xlines-above crisp\" d=\"M0,0\" style=\"fill: none;\"/><path class=\"ylines-above crisp\" d=\"M0,0\" style=\"fill: none;\"/><g class=\"overlines-above\"/><g class=\"xaxislayer-above\"><g class=\"xtick\"><text text-anchor=\"middle\" x=\"0\" y=\"717\" transform=\"translate(103.25,0)\" style=\"font-family: 'Open Sans', verdana, arial, sans-serif; font-size: 12px; fill: rgb(42, 63, 95); fill-opacity: 1; white-space: pre; opacity: 1;\">0</text></g><g class=\"xtick\"><text text-anchor=\"middle\" x=\"0\" y=\"717\" style=\"font-family: 'Open Sans', verdana, arial, sans-serif; font-size: 12px; fill: rgb(42, 63, 95); fill-opacity: 1; white-space: pre; opacity: 1;\" transform=\"translate(252.95,0)\">20k</text></g><g class=\"xtick\"><text text-anchor=\"middle\" x=\"0\" y=\"717\" style=\"font-family: 'Open Sans', verdana, arial, sans-serif; font-size: 12px; fill: rgb(42, 63, 95); fill-opacity: 1; white-space: pre; opacity: 1;\" transform=\"translate(402.65,0)\">40k</text></g><g class=\"xtick\"><text text-anchor=\"middle\" x=\"0\" y=\"717\" style=\"font-family: 'Open Sans', verdana, arial, sans-serif; font-size: 12px; fill: rgb(42, 63, 95); fill-opacity: 1; white-space: pre; opacity: 1;\" transform=\"translate(552.35,0)\">60k</text></g><g class=\"xtick\"><text text-anchor=\"middle\" x=\"0\" y=\"717\" style=\"font-family: 'Open Sans', verdana, arial, sans-serif; font-size: 12px; fill: rgb(42, 63, 95); fill-opacity: 1; white-space: pre; opacity: 1;\" transform=\"translate(702.06,0)\">80k</text></g><g class=\"xtick\"><text text-anchor=\"middle\" x=\"0\" y=\"717\" style=\"font-family: 'Open Sans', verdana, arial, sans-serif; font-size: 12px; fill: rgb(42, 63, 95); fill-opacity: 1; white-space: pre; opacity: 1;\" transform=\"translate(851.76,0)\">100k</text></g></g><g class=\"yaxislayer-above\"><g class=\"ytick\"><text text-anchor=\"end\" x=\"54\" y=\"4.199999999999999\" transform=\"translate(0,664.3)\" style=\"font-family: 'Open Sans', verdana, arial, sans-serif; font-size: 12px; fill: rgb(42, 63, 95); fill-opacity: 1; white-space: pre; opacity: 1;\">−1</text></g><g class=\"ytick\"><text text-anchor=\"end\" x=\"54\" y=\"4.199999999999999\" style=\"font-family: 'Open Sans', verdana, arial, sans-serif; font-size: 12px; fill: rgb(42, 63, 95); fill-opacity: 1; white-space: pre; opacity: 1;\" transform=\"translate(0,535.3199999999999)\">−0.8</text></g><g class=\"ytick\"><text text-anchor=\"end\" x=\"54\" y=\"4.199999999999999\" style=\"font-family: 'Open Sans', verdana, arial, sans-serif; font-size: 12px; fill: rgb(42, 63, 95); fill-opacity: 1; white-space: pre; opacity: 1;\" transform=\"translate(0,406.34)\">−0.6</text></g><g class=\"ytick\"><text text-anchor=\"end\" x=\"54\" y=\"4.199999999999999\" style=\"font-family: 'Open Sans', verdana, arial, sans-serif; font-size: 12px; fill: rgb(42, 63, 95); fill-opacity: 1; white-space: pre; opacity: 1;\" transform=\"translate(0,277.36)\">−0.4</text></g><g class=\"ytick\"><text text-anchor=\"end\" x=\"54\" y=\"4.199999999999999\" style=\"font-family: 'Open Sans', verdana, arial, sans-serif; font-size: 12px; fill: rgb(42, 63, 95); fill-opacity: 1; white-space: pre; opacity: 1;\" transform=\"translate(0,148.38)\">−0.2</text></g></g><g class=\"overaxes-above\"/></g></g><g class=\"polarlayer\"/><g class=\"smithlayer\"/><g class=\"ternarylayer\"/><g class=\"geolayer\"/><g class=\"funnelarealayer\"/><g class=\"pielayer\"/><g class=\"iciclelayer\"/><g class=\"treemaplayer\"/><g class=\"sunburstlayer\"/><g class=\"glimages\"><image xmlns=\"http://www.w3.org/2000/svg\" xlink:href=\"data:image/png;base64,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\" preserveAspectRatio=\"none\" x=\"0\" y=\"0\" width=\"900px\" height=\"800px\"/><image xmlns=\"http://www.w3.org/2000/svg\" xlink:href=\"data:image/png;base64,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\" preserveAspectRatio=\"none\" x=\"0\" y=\"0\" width=\"900px\" height=\"800px\"/></g><defs id=\"topdefs-926aaa\"><g class=\"clips\"/><clipPath id=\"legend926aaa\"><rect width=\"119\" height=\"29\" x=\"0\" y=\"0\"/></clipPath></defs><g class=\"layer-above\"><g class=\"imagelayer\"/><g class=\"shapelayer\"/></g><g class=\"infolayer\"><g class=\"legend\" pointer-events=\"all\" transform=\"translate(418,771)\"><rect class=\"bg\" shape-rendering=\"crispEdges\" width=\"119\" height=\"29\" x=\"0\" y=\"0\" style=\"stroke: rgb(68, 68, 68); stroke-opacity: 1; fill: rgb(255, 255, 255); fill-opacity: 1; stroke-width: 0px;\"/><g class=\"scrollbox\" transform=\"\" clip-path=\"url(#legend926aaa)\"><text class=\"legendtitletext\" text-anchor=\"start\" x=\"2\" y=\"18.2\" style=\"font-family: 'Open Sans', verdana, arial, sans-serif; font-size: 14px; fill: rgb(42, 63, 95); fill-opacity: 1; white-space: pre;\">variable</text><g class=\"groups\" transform=\"\"><g class=\"traces\" transform=\"translate(65.828125,14.5)\" style=\"opacity: 1;\"><text class=\"legendtext\" text-anchor=\"start\" x=\"40\" y=\"4.680000000000001\" style=\"font-family: 'Open Sans', verdana, arial, sans-serif; font-size: 12px; fill: rgb(42, 63, 95); fill-opacity: 1; white-space: pre;\">0</text><g class=\"layers\" style=\"opacity: 1;\"><g class=\"legendfill\"/><g class=\"legendlines\"/><g class=\"legendsymbols\"><g class=\"legendpoints\"><path class=\"scatterpts\" transform=\"translate(20,0)\" d=\"M3,0A3,3 0 1,1 0,-3A3,3 0 0,1 3,0Z\" style=\"opacity: 1; stroke-width: 0px; fill: rgb(99, 110, 250); fill-opacity: 1;\"/></g></g></g><rect class=\"legendtoggle\" x=\"0\" y=\"-9.5\" width=\"50.140625\" height=\"19\" style=\"fill: rgb(0, 0, 0); fill-opacity: 0;\"/></g></g></g><rect class=\"scrollbar\" rx=\"20\" ry=\"3\" width=\"0\" height=\"0\" x=\"0\" y=\"0\" style=\"fill: rgb(128, 139, 164); fill-opacity: 1;\"/></g><g class=\"g-gtitle\"><text class=\"gtitle\" x=\"45\" y=\"15\" text-anchor=\"start\" dy=\"0em\" style=\"font-family: 'Open Sans', verdana, arial, sans-serif; font-size: 17px; fill: rgb(42, 63, 95); opacity: 1; font-weight: normal; white-space: pre;\">Monte-Carlo strategy</text></g><g class=\"g-xtitle\"><text class=\"xtitle\" x=\"477.5\" y=\"744.3\" text-anchor=\"middle\" style=\"font-family: 'Open Sans', verdana, arial, sans-serif; font-size: 14px; fill: rgb(42, 63, 95); opacity: 1; font-weight: normal; white-space: pre;\">Games</text></g><g class=\"g-ytitle\" transform=\"translate(14.2529296875,0)\"><text class=\"ytitle\" transform=\"rotate(-90,-0.25312499999999716,367)\" x=\"-0.25312499999999716\" y=\"367\" text-anchor=\"middle\" style=\"font-family: 'Open Sans', verdana, arial, sans-serif; font-size: 14px; fill: rgb(42, 63, 95); opacity: 1; font-weight: normal; white-space: pre;\">Mean rewards</text></g></g></svg>"
      ]
     },
     "metadata": {},
     "output_type": "display_data"
    }
   ],
   "source": [
    "fig = px.scatter(mean_reward_monte_carlo, \n",
    "                 trendline=\"ols\", \n",
    "                 trendline_color_override='red',\n",
    "                )\n",
    "\n",
    "fig.update_layout(legend_orientation=\"h\",\n",
    "                  legend=dict(x=.5, xanchor=\"center\"),\n",
    "                  title=\"Monte-Carlo strategy\",\n",
    "                  xaxis_title=\"Games\",\n",
    "                  yaxis_title=\"Mean rewards\",\n",
    "                  margin=dict(l=0, r=0, t=30, b=0))\n",
    "\n",
    "fig.show(renderer=\"svg\", width=900, height=800)"
   ]
  },
  {
   "cell_type": "markdown",
   "id": "ab767ecc",
   "metadata": {},
   "source": [
    "**Эксперименты показали, что в среднем мы проигрываем 0.19445 за игру**"
   ]
  },
  {
   "cell_type": "markdown",
   "id": "1ea9d8fd",
   "metadata": {},
   "source": [
    "2. Реализуйте метод обучения с подкреплением без модели (можно Q-обучение, но рекомендую попробовать и другие, например Monte Carlo control) для обучения стратегии в блекджеке, используя окружение BlackjackEnv из OpenAI Gym."
   ]
  },
  {
   "cell_type": "markdown",
   "id": "8061d0bd",
   "metadata": {},
   "source": [
    "Будем использовать $ \\epsilon $-жадную стратегию Q_learning стратегию"
   ]
  },
  {
   "cell_type": "code",
   "execution_count": 55,
   "id": "1fc8068d",
   "metadata": {},
   "outputs": [],
   "source": [
    "def get_states(actions=2, N=1000):\n",
    "    states = set()\n",
    "    for i in tqdm(range(N)):\n",
    "        observation = env.reset()  # первая раздача\n",
    "        states.add(observation[0])\n",
    "        done = False\n",
    "        while not done:\n",
    "            action = np.random.randint(0, actions)\n",
    "            observation, reward, done, info, _ = env.step(action)\n",
    "            states.add(observation)\n",
    "        env.close()\n",
    "    return list(states)  # дублированные состояния"
   ]
  },
  {
   "cell_type": "code",
   "execution_count": 56,
   "id": "2e4a4c35",
   "metadata": {},
   "outputs": [
    {
     "name": "stderr",
     "output_type": "stream",
     "text": [
      "100%|████████████████████████████████████████████████████████████████████████████████████████████████████████████████████████████████████████████| 10000/10000 [00:00<00:00, 12071.35it/s]"
     ]
    },
    {
     "name": "stdout",
     "output_type": "stream",
     "text": [
      "|S|=380\n"
     ]
    },
    {
     "name": "stderr",
     "output_type": "stream",
     "text": [
      "\n"
     ]
    }
   ],
   "source": [
    "A = [0, 1]  # Пространство возможных действий\n",
    "S = get_states(N=10000)  # Пространство исследованных возможных состояний\n",
    "print(f'|S|={len(S)}')\n",
    "\n",
    "action_to_id = {a: i for i, a in enumerate(A)}\n",
    "id_to_action = {i: a for i, a in enumerate(A)}\n",
    "state_to_id = {s: i for i, s in enumerate(S)}\n",
    "id_to_state = {i: s for i, s in enumerate(S)}"
   ]
  },
  {
   "cell_type": "code",
   "execution_count": 243,
   "id": "4b0c7bd0",
   "metadata": {},
   "outputs": [],
   "source": [
    "def eps_greedy_Q_learning_strategy(alpha=0.1, epsilon=0.1, gamma=0.95, N=10000, debug=False):\n",
    "    Q = np.zeros((len(S), len(A)))  # Инициализируем матрицу Q нулями\n",
    "    total_rewards = []  # массив наград за все эпизоды\n",
    "    mean_rewards = []  # средний доход за эпизод (усредняем по K последним раздачам) \n",
    "    for i in tqdm(range(N), disable=debug^1):\n",
    "        if debug: print('\\nSTART_episode')\n",
    "        observation = env.reset()  # первая раздача\n",
    "        total_score = observation[0][0]  # стартовое количество очков\n",
    "        state_id = state_to_id[observation[0]]\n",
    "        done = False\n",
    "        while not done:\n",
    "            if debug: print(f'total_score={total_score}')\n",
    "            # argmax с вероятностью 1-eps и случайное действие с вероятностью eps\n",
    "            if np.random.rand() > epsilon:\n",
    "                action_id = np.argmax(Q[state_id])\n",
    "            else:\n",
    "                action_id = np.random.choice(list(action_to_id.keys()))\n",
    "            if debug: print(f'    action: {action_id}')\n",
    "            observation, reward, done, info, _ = env.step(id_to_action[action_id])\n",
    "            total_score, _, _ = observation\n",
    "            state_id_new = state_to_id[observation]\n",
    "            Q[state_id, action_id] = (1 - alpha) * Q[state_id, action_id] + alpha * (reward + gamma * np.max(Q[state_id_new]))\n",
    "            state_id = state_id_new\n",
    "        total_rewards.append(reward)\n",
    "        mean_rewards.append(np.mean(total_rewards[-K:]))\n",
    "        if debug: print(f'episode_reward={reward}')\n",
    "        if debug: print('END_episode\\n')\n",
    "        env.close()\n",
    "    return total_rewards, mean_rewards, Q"
   ]
  },
  {
   "cell_type": "code",
   "execution_count": 244,
   "id": "c82500e6",
   "metadata": {},
   "outputs": [
    {
     "name": "stderr",
     "output_type": "stream",
     "text": [
      "100%|██████████████████████████████████████████████████████████████████████████████████████████████████████████████████████████████████████████████████████| 3/3 [00:00<00:00, 855.63it/s]"
     ]
    },
    {
     "name": "stdout",
     "output_type": "stream",
     "text": [
      "\n",
      "START_episode\n",
      "total_score=14\n",
      "    action: 1\n",
      "total_score=17\n",
      "    action: 0\n",
      "episode_reward=1.0\n",
      "END_episode\n",
      "\n",
      "\n",
      "START_episode\n",
      "total_score=15\n",
      "    action: 0\n",
      "episode_reward=1.0\n",
      "END_episode\n",
      "\n",
      "\n",
      "START_episode\n",
      "total_score=17\n",
      "    action: 0\n",
      "episode_reward=-1.0\n",
      "END_episode\n",
      "\n"
     ]
    },
    {
     "name": "stderr",
     "output_type": "stream",
     "text": [
      "\n"
     ]
    },
    {
     "data": {
      "text/plain": [
       "([1.0, 1.0, -1.0],\n",
       " [1.0, 1.0, 0.3333333333333333],\n",
       " array([[ 0. ,  0. ],\n",
       "        [ 0. ,  0. ],\n",
       "        [ 0. ,  0. ],\n",
       "        [ 0. ,  0. ],\n",
       "        [ 0. ,  0. ],\n",
       "        [ 0. ,  0. ],\n",
       "        [ 0. ,  0. ],\n",
       "        [ 0. ,  0. ],\n",
       "        [ 0. ,  0. ],\n",
       "        [ 0. ,  0. ],\n",
       "        [ 0. ,  0. ],\n",
       "        [ 0. ,  0. ],\n",
       "        [ 0. ,  0. ],\n",
       "        [ 0. ,  0. ],\n",
       "        [ 0. ,  0. ],\n",
       "        [ 0. ,  0. ],\n",
       "        [ 0. ,  0. ],\n",
       "        [ 0. ,  0. ],\n",
       "        [ 0. ,  0. ],\n",
       "        [ 0. ,  0. ],\n",
       "        [ 0. ,  0. ],\n",
       "        [ 0. ,  0. ],\n",
       "        [ 0. ,  0. ],\n",
       "        [ 0. ,  0. ],\n",
       "        [ 0. ,  0. ],\n",
       "        [ 0. ,  0. ],\n",
       "        [ 0. ,  0. ],\n",
       "        [ 0. ,  0. ],\n",
       "        [ 0. ,  0. ],\n",
       "        [ 0. ,  0. ],\n",
       "        [ 0. ,  0. ],\n",
       "        [ 0. ,  0. ],\n",
       "        [ 0. ,  0. ],\n",
       "        [ 0. ,  0. ],\n",
       "        [ 0. ,  0. ],\n",
       "        [ 0. ,  0. ],\n",
       "        [ 0. ,  0. ],\n",
       "        [ 0. ,  0. ],\n",
       "        [ 0. ,  0. ],\n",
       "        [ 0. ,  0. ],\n",
       "        [ 0. ,  0. ],\n",
       "        [ 0. ,  0. ],\n",
       "        [ 0. ,  0. ],\n",
       "        [ 0. ,  0. ],\n",
       "        [ 0. ,  0. ],\n",
       "        [ 0. ,  0. ],\n",
       "        [ 0. ,  0. ],\n",
       "        [ 0. ,  0. ],\n",
       "        [ 0. ,  0. ],\n",
       "        [ 0. ,  0. ],\n",
       "        [ 0. ,  0. ],\n",
       "        [ 0. ,  0. ],\n",
       "        [ 0. ,  0. ],\n",
       "        [ 0. ,  0. ],\n",
       "        [ 0. ,  0. ],\n",
       "        [ 0. ,  0. ],\n",
       "        [ 0. ,  0. ],\n",
       "        [ 0. ,  0. ],\n",
       "        [ 0. ,  0. ],\n",
       "        [ 0. ,  0. ],\n",
       "        [ 0. ,  0. ],\n",
       "        [ 0. ,  0. ],\n",
       "        [ 0. ,  0. ],\n",
       "        [ 0. ,  0. ],\n",
       "        [ 0. ,  0. ],\n",
       "        [ 0. ,  0. ],\n",
       "        [ 0. ,  0. ],\n",
       "        [ 0. ,  0. ],\n",
       "        [ 0. ,  0. ],\n",
       "        [ 0. ,  0. ],\n",
       "        [ 0. ,  0. ],\n",
       "        [ 0. ,  0. ],\n",
       "        [ 0.1,  0. ],\n",
       "        [ 0. ,  0. ],\n",
       "        [ 0. ,  0. ],\n",
       "        [ 0. ,  0. ],\n",
       "        [ 0. ,  0. ],\n",
       "        [ 0. ,  0. ],\n",
       "        [ 0. ,  0. ],\n",
       "        [ 0. ,  0. ],\n",
       "        [ 0. ,  0. ],\n",
       "        [ 0. ,  0. ],\n",
       "        [ 0. ,  0. ],\n",
       "        [ 0. ,  0. ],\n",
       "        [ 0. ,  0. ],\n",
       "        [ 0. ,  0. ],\n",
       "        [ 0. ,  0. ],\n",
       "        [ 0. ,  0. ],\n",
       "        [ 0. ,  0. ],\n",
       "        [ 0. ,  0. ],\n",
       "        [ 0. ,  0. ],\n",
       "        [ 0. ,  0. ],\n",
       "        [ 0. ,  0. ],\n",
       "        [ 0. ,  0. ],\n",
       "        [ 0. ,  0. ],\n",
       "        [ 0. ,  0. ],\n",
       "        [ 0. ,  0. ],\n",
       "        [ 0. ,  0. ],\n",
       "        [ 0. ,  0. ],\n",
       "        [ 0. ,  0. ],\n",
       "        [ 0. ,  0. ],\n",
       "        [ 0. ,  0. ],\n",
       "        [ 0. ,  0. ],\n",
       "        [ 0. ,  0. ],\n",
       "        [ 0. ,  0. ],\n",
       "        [ 0. ,  0. ],\n",
       "        [ 0. ,  0. ],\n",
       "        [ 0. ,  0. ],\n",
       "        [ 0. ,  0. ],\n",
       "        [ 0. ,  0. ],\n",
       "        [ 0. ,  0. ],\n",
       "        [ 0. ,  0. ],\n",
       "        [ 0. ,  0. ],\n",
       "        [ 0. ,  0. ],\n",
       "        [ 0. ,  0. ],\n",
       "        [ 0. ,  0. ],\n",
       "        [ 0. ,  0. ],\n",
       "        [ 0. ,  0. ],\n",
       "        [ 0. ,  0. ],\n",
       "        [ 0. ,  0. ],\n",
       "        [ 0. ,  0. ],\n",
       "        [ 0. ,  0. ],\n",
       "        [ 0. ,  0. ],\n",
       "        [ 0. ,  0. ],\n",
       "        [ 0. ,  0. ],\n",
       "        [ 0. ,  0. ],\n",
       "        [ 0. ,  0. ],\n",
       "        [ 0. ,  0. ],\n",
       "        [ 0. ,  0. ],\n",
       "        [ 0. ,  0. ],\n",
       "        [ 0. ,  0. ],\n",
       "        [ 0. ,  0. ],\n",
       "        [ 0. ,  0. ],\n",
       "        [ 0. ,  0. ],\n",
       "        [ 0. ,  0. ],\n",
       "        [ 0. ,  0. ],\n",
       "        [ 0. ,  0. ],\n",
       "        [ 0. ,  0. ],\n",
       "        [ 0. ,  0. ],\n",
       "        [ 0. ,  0. ],\n",
       "        [ 0. ,  0. ],\n",
       "        [ 0. ,  0. ],\n",
       "        [ 0. ,  0. ],\n",
       "        [ 0. ,  0. ],\n",
       "        [ 0. ,  0. ],\n",
       "        [ 0. ,  0. ],\n",
       "        [ 0. ,  0. ],\n",
       "        [ 0. ,  0. ],\n",
       "        [ 0. ,  0. ],\n",
       "        [ 0. ,  0. ],\n",
       "        [ 0. ,  0. ],\n",
       "        [ 0. ,  0. ],\n",
       "        [ 0. ,  0. ],\n",
       "        [ 0. ,  0. ],\n",
       "        [ 0. ,  0. ],\n",
       "        [ 0. ,  0. ],\n",
       "        [ 0. ,  0. ],\n",
       "        [ 0. ,  0. ],\n",
       "        [ 0. ,  0. ],\n",
       "        [ 0. ,  0. ],\n",
       "        [ 0. ,  0. ],\n",
       "        [ 0. ,  0. ],\n",
       "        [ 0. ,  0. ],\n",
       "        [ 0. ,  0. ],\n",
       "        [ 0. ,  0. ],\n",
       "        [ 0. ,  0. ],\n",
       "        [ 0. ,  0. ],\n",
       "        [ 0. ,  0. ],\n",
       "        [ 0. ,  0. ],\n",
       "        [ 0. ,  0. ],\n",
       "        [ 0. ,  0. ],\n",
       "        [ 0. ,  0. ],\n",
       "        [ 0. ,  0. ],\n",
       "        [ 0. ,  0. ],\n",
       "        [ 0. ,  0. ],\n",
       "        [ 0. ,  0. ],\n",
       "        [ 0. ,  0. ],\n",
       "        [ 0. ,  0. ],\n",
       "        [ 0. ,  0. ],\n",
       "        [ 0. ,  0. ],\n",
       "        [ 0. ,  0. ],\n",
       "        [ 0. ,  0. ],\n",
       "        [ 0. ,  0. ],\n",
       "        [ 0. ,  0. ],\n",
       "        [ 0. ,  0. ],\n",
       "        [ 0. ,  0. ],\n",
       "        [ 0. ,  0. ],\n",
       "        [ 0. ,  0. ],\n",
       "        [ 0. ,  0. ],\n",
       "        [ 0. ,  0. ],\n",
       "        [ 0. ,  0. ],\n",
       "        [ 0. ,  0. ],\n",
       "        [ 0. ,  0. ],\n",
       "        [ 0. ,  0. ],\n",
       "        [ 0. ,  0. ],\n",
       "        [ 0. ,  0. ],\n",
       "        [ 0. ,  0. ],\n",
       "        [ 0. ,  0. ],\n",
       "        [ 0. ,  0. ],\n",
       "        [ 0. ,  0. ],\n",
       "        [ 0. ,  0. ],\n",
       "        [ 0. ,  0. ],\n",
       "        [ 0. ,  0. ],\n",
       "        [ 0. ,  0. ],\n",
       "        [ 0. ,  0. ],\n",
       "        [ 0. ,  0. ],\n",
       "        [ 0. ,  0. ],\n",
       "        [ 0. ,  0. ],\n",
       "        [ 0. ,  0. ],\n",
       "        [ 0. ,  0. ],\n",
       "        [ 0. ,  0. ],\n",
       "        [ 0. ,  0. ],\n",
       "        [ 0. ,  0. ],\n",
       "        [ 0. ,  0. ],\n",
       "        [ 0. ,  0. ],\n",
       "        [ 0. ,  0. ],\n",
       "        [ 0. ,  0. ],\n",
       "        [ 0. ,  0. ],\n",
       "        [ 0. ,  0. ],\n",
       "        [ 0. ,  0. ],\n",
       "        [ 0. ,  0. ],\n",
       "        [ 0. ,  0. ],\n",
       "        [ 0. ,  0. ],\n",
       "        [ 0. ,  0. ],\n",
       "        [ 0. ,  0. ],\n",
       "        [ 0. ,  0. ],\n",
       "        [ 0. ,  0. ],\n",
       "        [ 0. ,  0. ],\n",
       "        [ 0. ,  0. ],\n",
       "        [ 0. ,  0. ],\n",
       "        [ 0. ,  0. ],\n",
       "        [ 0. ,  0. ],\n",
       "        [ 0. ,  0. ],\n",
       "        [ 0. ,  0. ],\n",
       "        [ 0. ,  0. ],\n",
       "        [ 0. ,  0. ],\n",
       "        [ 0. ,  0. ],\n",
       "        [ 0. ,  0. ],\n",
       "        [ 0. ,  0. ],\n",
       "        [ 0. ,  0. ],\n",
       "        [ 0. ,  0. ],\n",
       "        [ 0. ,  0. ],\n",
       "        [ 0. ,  0. ],\n",
       "        [ 0. ,  0. ],\n",
       "        [ 0. ,  0. ],\n",
       "        [ 0. ,  0. ],\n",
       "        [ 0. ,  0. ],\n",
       "        [ 0. ,  0. ],\n",
       "        [ 0. ,  0. ],\n",
       "        [ 0. ,  0. ],\n",
       "        [ 0. ,  0. ],\n",
       "        [ 0. ,  0. ],\n",
       "        [ 0. ,  0. ],\n",
       "        [ 0. ,  0. ],\n",
       "        [ 0. ,  0. ],\n",
       "        [ 0. ,  0. ],\n",
       "        [ 0. ,  0. ],\n",
       "        [ 0. ,  0. ],\n",
       "        [ 0. ,  0. ],\n",
       "        [ 0. ,  0. ],\n",
       "        [ 0. ,  0. ],\n",
       "        [ 0. ,  0. ],\n",
       "        [ 0. ,  0. ],\n",
       "        [ 0. ,  0. ],\n",
       "        [ 0. ,  0. ],\n",
       "        [ 0. ,  0. ],\n",
       "        [ 0. ,  0. ],\n",
       "        [ 0. ,  0. ],\n",
       "        [ 0. ,  0. ],\n",
       "        [ 0. ,  0. ],\n",
       "        [ 0. ,  0. ],\n",
       "        [ 0. ,  0. ],\n",
       "        [ 0. ,  0. ],\n",
       "        [ 0. ,  0. ],\n",
       "        [ 0. ,  0. ],\n",
       "        [ 0. ,  0. ],\n",
       "        [ 0. ,  0. ],\n",
       "        [ 0. ,  0. ],\n",
       "        [ 0. ,  0. ],\n",
       "        [ 0. ,  0. ],\n",
       "        [ 0. ,  0. ],\n",
       "        [ 0. ,  0. ],\n",
       "        [ 0. ,  0. ],\n",
       "        [ 0. ,  0. ],\n",
       "        [ 0. ,  0. ],\n",
       "        [ 0. ,  0. ],\n",
       "        [ 0. ,  0. ],\n",
       "        [ 0. ,  0. ],\n",
       "        [ 0. ,  0. ],\n",
       "        [ 0. ,  0. ],\n",
       "        [ 0. ,  0. ],\n",
       "        [ 0. ,  0. ],\n",
       "        [ 0. ,  0. ],\n",
       "        [ 0. ,  0. ],\n",
       "        [ 0. ,  0. ],\n",
       "        [ 0. ,  0. ],\n",
       "        [ 0. ,  0. ],\n",
       "        [ 0. ,  0. ],\n",
       "        [ 0. ,  0. ],\n",
       "        [ 0. ,  0. ],\n",
       "        [ 0. ,  0. ],\n",
       "        [ 0. ,  0. ],\n",
       "        [ 0. ,  0. ],\n",
       "        [ 0. ,  0. ],\n",
       "        [ 0. ,  0. ],\n",
       "        [ 0. ,  0. ],\n",
       "        [ 0. ,  0. ],\n",
       "        [ 0. ,  0. ],\n",
       "        [ 0. ,  0. ],\n",
       "        [ 0. ,  0. ],\n",
       "        [ 0. ,  0. ],\n",
       "        [ 0. ,  0. ],\n",
       "        [ 0. ,  0. ],\n",
       "        [ 0. ,  0. ],\n",
       "        [ 0. ,  0. ],\n",
       "        [ 0. ,  0. ],\n",
       "        [ 0. ,  0. ],\n",
       "        [ 0. ,  0. ],\n",
       "        [ 0. ,  0. ],\n",
       "        [ 0. ,  0. ],\n",
       "        [ 0. ,  0. ],\n",
       "        [ 0. ,  0. ],\n",
       "        [ 0. ,  0. ],\n",
       "        [ 0. ,  0. ],\n",
       "        [ 0. ,  0. ],\n",
       "        [ 0. ,  0. ],\n",
       "        [ 0. ,  0. ],\n",
       "        [ 0. ,  0. ],\n",
       "        [ 0. ,  0. ],\n",
       "        [ 0. ,  0. ],\n",
       "        [ 0. ,  0. ],\n",
       "        [ 0. ,  0. ],\n",
       "        [ 0. ,  0. ],\n",
       "        [ 0. ,  0. ],\n",
       "        [ 0. ,  0. ],\n",
       "        [ 0. ,  0. ],\n",
       "        [ 0. ,  0. ],\n",
       "        [ 0. ,  0. ],\n",
       "        [ 0. ,  0. ],\n",
       "        [ 0. ,  0. ],\n",
       "        [ 0. ,  0. ],\n",
       "        [ 0. ,  0. ],\n",
       "        [ 0. ,  0. ],\n",
       "        [ 0. ,  0. ],\n",
       "        [ 0. ,  0. ],\n",
       "        [ 0. ,  0. ],\n",
       "        [ 0. ,  0. ],\n",
       "        [ 0. ,  0. ],\n",
       "        [ 0. ,  0. ],\n",
       "        [ 0. ,  0. ],\n",
       "        [ 0. ,  0. ],\n",
       "        [ 0. ,  0. ],\n",
       "        [ 0. ,  0. ],\n",
       "        [ 0. ,  0. ],\n",
       "        [ 0. ,  0. ],\n",
       "        [ 0. ,  0. ],\n",
       "        [ 0. ,  0. ],\n",
       "        [ 0. ,  0. ],\n",
       "        [ 0. ,  0. ],\n",
       "        [ 0. ,  0. ],\n",
       "        [ 0. ,  0. ],\n",
       "        [ 0. ,  0. ],\n",
       "        [ 0. ,  0. ],\n",
       "        [ 0. ,  0. ],\n",
       "        [ 0. ,  0. ],\n",
       "        [ 0. ,  0. ],\n",
       "        [ 0. ,  0. ],\n",
       "        [ 0. ,  0. ],\n",
       "        [ 0. ,  0. ],\n",
       "        [ 0.1,  0. ],\n",
       "        [ 0. ,  0. ],\n",
       "        [ 0. ,  0. ],\n",
       "        [ 0. ,  0. ],\n",
       "        [ 0. ,  0. ],\n",
       "        [ 0. ,  0. ],\n",
       "        [ 0. ,  0. ],\n",
       "        [-0.1,  0. ],\n",
       "        [ 0. ,  0. ],\n",
       "        [ 0. ,  0. ],\n",
       "        [ 0. ,  0. ]]))"
      ]
     },
     "execution_count": 244,
     "metadata": {},
     "output_type": "execute_result"
    }
   ],
   "source": [
    "eps_greedy_Q_learning_strategy(epsilon=0.5, N=3, debug=True)"
   ]
  },
  {
   "cell_type": "code",
   "execution_count": 245,
   "id": "b3e4368a",
   "metadata": {},
   "outputs": [],
   "source": [
    "# Возьмем пока alpha=0.05, epsilon=0.1, gamma=0.9\n",
    "total_reward_q, mean_reward_q, Q = eps_greedy_Q_learning_strategy(N=N)"
   ]
  },
  {
   "cell_type": "code",
   "execution_count": 246,
   "id": "979de929",
   "metadata": {},
   "outputs": [
    {
     "name": "stdout",
     "output_type": "stream",
     "text": [
      "Количество эпизодов: 100000\n",
      "Средний выигрыш за эпизод: -0.18031\n",
      "Средний выигрыш за эпизод за первые 1000 эпизодов: -0.175\n",
      "Средний выигрыш за эпизод за последние 1000 эпизодов: -0.152\n",
      "Общий выигрыш по всем эпизодам: -18031.0\n"
     ]
    }
   ],
   "source": [
    "print(f'Количество эпизодов: {N}')\n",
    "print(f'Средний выигрыш за эпизод: {np.mean(total_reward_q)}')\n",
    "print(f'Средний выигрыш за эпизод за первые {K} эпизодов: {mean_reward_q[K]}')\n",
    "print(f'Средний выигрыш за эпизод за последние {K} эпизодов: {mean_reward_q[-1]}')\n",
    "print(f'Общий выигрыш по всем эпизодам: {np.sum(total_reward_q)}')"
   ]
  },
  {
   "cell_type": "code",
   "execution_count": null,
   "id": "e7091cad",
   "metadata": {},
   "outputs": [],
   "source": []
  },
  {
   "cell_type": "code",
   "execution_count": 247,
   "id": "102ddc05",
   "metadata": {},
   "outputs": [
    {
     "data": {
      "image/svg+xml": [
       "<svg class=\"main-svg\" xmlns=\"http://www.w3.org/2000/svg\" xmlns:xlink=\"http://www.w3.org/1999/xlink\" width=\"900\" height=\"800\" style=\"\" viewBox=\"0 0 900 800\"><rect x=\"0\" y=\"0\" width=\"900\" height=\"800\" style=\"fill: rgb(255, 255, 255); fill-opacity: 1;\"/><defs id=\"defs-c860e9\"><g class=\"clips\"><clipPath id=\"clipc860e9xyplot\" class=\"plotclip\"><rect width=\"845\" height=\"656\"/></clipPath><clipPath class=\"axesclip\" id=\"clipc860e9x\"><rect x=\"55\" y=\"0\" width=\"845\" height=\"800\"/></clipPath><clipPath class=\"axesclip\" id=\"clipc860e9y\"><rect x=\"0\" y=\"30\" width=\"900\" height=\"656\"/></clipPath><clipPath class=\"axesclip\" id=\"clipc860e9xy\"><rect x=\"55\" y=\"30\" width=\"845\" height=\"656\"/></clipPath></g><g class=\"gradients\"/><g class=\"patterns\"/></defs><g class=\"bglayer\"><rect class=\"bg\" x=\"55\" y=\"30\" width=\"845\" height=\"656\" style=\"fill: rgb(229, 236, 246); fill-opacity: 1; stroke-width: 0;\"/></g><g class=\"layer-below\"><g class=\"imagelayer\"/><g class=\"shapelayer\"/></g><g class=\"cartesianlayer\"><g class=\"subplot xy\"><g class=\"layer-subplot\"><g class=\"shapelayer\"/><g class=\"imagelayer\"/></g><g class=\"minor-gridlayer\"><g class=\"x\"/><g class=\"y\"/></g><g class=\"gridlayer\"><g class=\"x\"><path class=\"xgrid crisp\" transform=\"translate(251.15,0)\" d=\"M0,30v656\" style=\"stroke: rgb(255, 255, 255); stroke-opacity: 1; stroke-width: 1px;\"/><path class=\"xgrid crisp\" transform=\"translate(402.05,0)\" d=\"M0,30v656\" style=\"stroke: rgb(255, 255, 255); stroke-opacity: 1; stroke-width: 1px;\"/><path class=\"xgrid crisp\" transform=\"translate(552.95,0)\" d=\"M0,30v656\" style=\"stroke: rgb(255, 255, 255); stroke-opacity: 1; stroke-width: 1px;\"/><path class=\"xgrid crisp\" transform=\"translate(703.86,0)\" d=\"M0,30v656\" style=\"stroke: rgb(255, 255, 255); stroke-opacity: 1; stroke-width: 1px;\"/><path class=\"xgrid crisp\" transform=\"translate(854.76,0)\" d=\"M0,30v656\" style=\"stroke: rgb(255, 255, 255); stroke-opacity: 1; stroke-width: 1px;\"/></g><g class=\"y\"><path class=\"ygrid crisp\" transform=\"translate(0,650.2)\" d=\"M55,0h845\" style=\"stroke: rgb(255, 255, 255); stroke-opacity: 1; stroke-width: 1px;\"/><path class=\"ygrid crisp\" transform=\"translate(0,504.1)\" d=\"M55,0h845\" style=\"stroke: rgb(255, 255, 255); stroke-opacity: 1; stroke-width: 1px;\"/><path class=\"ygrid crisp\" transform=\"translate(0,211.9)\" d=\"M55,0h845\" style=\"stroke: rgb(255, 255, 255); stroke-opacity: 1; stroke-width: 1px;\"/><path class=\"ygrid crisp\" transform=\"translate(0,65.8)\" d=\"M55,0h845\" style=\"stroke: rgb(255, 255, 255); stroke-opacity: 1; stroke-width: 1px;\"/></g></g><g class=\"zerolinelayer\"><path class=\"xzl zl crisp\" transform=\"translate(100.25,0)\" d=\"M0,30v656\" style=\"stroke: rgb(255, 255, 255); stroke-opacity: 1; stroke-width: 2px;\"/><path class=\"yzl zl crisp\" transform=\"translate(0,358)\" d=\"M55,0h845\" style=\"stroke: rgb(255, 255, 255); stroke-opacity: 1; stroke-width: 2px;\"/></g><path class=\"xlines-below\"/><path class=\"ylines-below\"/><g class=\"overlines-below\"/><g class=\"xaxislayer-below\"/><g class=\"yaxislayer-below\"/><g class=\"overaxes-below\"/><g class=\"plot\" transform=\"translate(55,30)\" clip-path=\"url(#clipc860e9xyplot)\"/><g class=\"overplot\"/><path class=\"xlines-above crisp\" d=\"M0,0\" style=\"fill: none;\"/><path class=\"ylines-above crisp\" d=\"M0,0\" style=\"fill: none;\"/><g class=\"overlines-above\"/><g class=\"xaxislayer-above\"><g class=\"xtick\"><text text-anchor=\"middle\" x=\"0\" y=\"699\" transform=\"translate(100.25,0)\" style=\"font-family: 'Open Sans', verdana, arial, sans-serif; font-size: 12px; fill: rgb(42, 63, 95); fill-opacity: 1; white-space: pre; opacity: 1;\">0</text></g><g class=\"xtick\"><text text-anchor=\"middle\" x=\"0\" y=\"699\" style=\"font-family: 'Open Sans', verdana, arial, sans-serif; font-size: 12px; fill: rgb(42, 63, 95); fill-opacity: 1; white-space: pre; opacity: 1;\" transform=\"translate(251.15,0)\">20k</text></g><g class=\"xtick\"><text text-anchor=\"middle\" x=\"0\" y=\"699\" style=\"font-family: 'Open Sans', verdana, arial, sans-serif; font-size: 12px; fill: rgb(42, 63, 95); fill-opacity: 1; white-space: pre; opacity: 1;\" transform=\"translate(402.05,0)\">40k</text></g><g class=\"xtick\"><text text-anchor=\"middle\" x=\"0\" y=\"699\" style=\"font-family: 'Open Sans', verdana, arial, sans-serif; font-size: 12px; fill: rgb(42, 63, 95); fill-opacity: 1; white-space: pre; opacity: 1;\" transform=\"translate(552.95,0)\">60k</text></g><g class=\"xtick\"><text text-anchor=\"middle\" x=\"0\" y=\"699\" style=\"font-family: 'Open Sans', verdana, arial, sans-serif; font-size: 12px; fill: rgb(42, 63, 95); fill-opacity: 1; white-space: pre; opacity: 1;\" transform=\"translate(703.86,0)\">80k</text></g><g class=\"xtick\"><text text-anchor=\"middle\" x=\"0\" y=\"699\" style=\"font-family: 'Open Sans', verdana, arial, sans-serif; font-size: 12px; fill: rgb(42, 63, 95); fill-opacity: 1; white-space: pre; opacity: 1;\" transform=\"translate(854.76,0)\">100k</text></g></g><g class=\"yaxislayer-above\"><g class=\"ytick\"><text text-anchor=\"end\" x=\"54\" y=\"4.199999999999999\" transform=\"translate(0,650.2)\" style=\"font-family: 'Open Sans', verdana, arial, sans-serif; font-size: 12px; fill: rgb(42, 63, 95); fill-opacity: 1; white-space: pre; opacity: 1;\">−1</text></g><g class=\"ytick\"><text text-anchor=\"end\" x=\"54\" y=\"4.199999999999999\" style=\"font-family: 'Open Sans', verdana, arial, sans-serif; font-size: 12px; fill: rgb(42, 63, 95); fill-opacity: 1; white-space: pre; opacity: 1;\" transform=\"translate(0,504.1)\">−0.5</text></g><g class=\"ytick\"><text text-anchor=\"end\" x=\"54\" y=\"4.199999999999999\" style=\"font-family: 'Open Sans', verdana, arial, sans-serif; font-size: 12px; fill: rgb(42, 63, 95); fill-opacity: 1; white-space: pre; opacity: 1;\" transform=\"translate(0,358)\">0</text></g><g class=\"ytick\"><text text-anchor=\"end\" x=\"54\" y=\"4.199999999999999\" style=\"font-family: 'Open Sans', verdana, arial, sans-serif; font-size: 12px; fill: rgb(42, 63, 95); fill-opacity: 1; white-space: pre; opacity: 1;\" transform=\"translate(0,211.9)\">0.5</text></g><g class=\"ytick\"><text text-anchor=\"end\" x=\"54\" y=\"4.199999999999999\" style=\"font-family: 'Open Sans', verdana, arial, sans-serif; font-size: 12px; fill: rgb(42, 63, 95); fill-opacity: 1; white-space: pre; opacity: 1;\" transform=\"translate(0,65.8)\">1</text></g></g><g class=\"overaxes-above\"/></g></g><g class=\"polarlayer\"/><g class=\"smithlayer\"/><g class=\"ternarylayer\"/><g class=\"geolayer\"/><g class=\"funnelarealayer\"/><g class=\"pielayer\"/><g class=\"iciclelayer\"/><g class=\"treemaplayer\"/><g class=\"sunburstlayer\"/><g class=\"glimages\"><image xmlns=\"http://www.w3.org/2000/svg\" xlink:href=\"data:image/png;base64,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\" preserveAspectRatio=\"none\" x=\"0\" y=\"0\" width=\"900px\" height=\"800px\"/><image xmlns=\"http://www.w3.org/2000/svg\" xlink:href=\"data:image/png;base64,iVBORw0KGgoAAAANSUhEUgAABwgAAAZACAYAAABt7xYzAAAgAElEQVR4XuzZQQEAAAgCMelf2iA3GzD5sXMECBAgQIAAAQIECBAgQIAAAQIECBAgQIAAAQIECGQElkkqKAECBAgQIECAAAECBAgQIECAAAECBAgQIECAAAECZyBUAgIECBAgQIAAAQIECBAgQIAAAQIECBAgQIAAAQIhAQNh6NmiEiBAgAABAgQIECBAgAABAgQIECBAgAABAgQIEDAQ6gABAgQIECBAgAABAgQIECBAgAABAgQIECBAgACBkICBMPRsUQkQIECAAAECBAgQIECAAAECBAgQIECAAAECBAgYCHWAAAECBAgQIECAAAECBAgQIECAAAECBAgQIECAQEjAQBh6tqgECBAgQIAAAQIECBAgQIAAAQIECBAgQIAAAQIEDIQ6QIAAAQIECBAgQIAAAQIECBAgQIAAAQIECBAgQCAkYCAMPVtUAgQIECBAgAABAgQIECBAgAABAgQIECBAgAABAgZCHSBAgAABAgQIECBAgAABAgQIECBAgAABAgQIECAQEjAQhp4tKgECBAgQIECAAAECBAgQIECAAAECBAgQIECAAAEDoQ4QIECAAAECBAgQIECAAAECBAgQIECAAAECBAgQCAkYCEPPFpUAAQIECBAgQIAAAQIECBAgQIAAAQIECBAgQICAgVAHCBAgQIAAAQIECBAgQIAAAQIECBAgQIAAAQIECIQEDIShZ4tKgAABAgQIECBAgAABAgQIECBAgAABAgQIECBAwECoAwQIECBAgAABAgQIECBAgAABAgQIECBAgAABAgRCAgbC0LNFJUCAAAECBAgQIECAAAECBAgQIECAAAECBAgQIGAg1AECBAgQIECAAAECBAgQIECAAAECBAgQIECAAAECIQEDYejZohIgQIAAAQIECBAgQIAAAQIECBAgQIAAAQIECBAwEOoAAQIECBAgQIAAAQIECBAgQIAAAQIECBAgQIAAgZCAgTD0bFEJECBAgAABAgQIECBAgAABAgQIECBAgAABAgQIGAh1gAABAgQIECBAgAABAgQIECBAgAABAgQIECBAgEBIwEAYeraoBAgQIECAAAECBAgQIECAAAECBAgQIECAAAECBAyEOkCAAAECBAgQIECAAAECBAgQIECAAAECBAgQIEAgJGAgDD1bVAIECBAgQIAAAQIECBAgQIAAAQIECBAgQIAAAQIGQh0gQIAAAQIECBAgQIAAAQIECBAgQIAAAQIECBAgEBIwEIaeLSoBAgQIECBAgAABAgQIECBAgAABAgQIECBAgAABA6EOECBAgAABAgQIECBAgAABAgQIECBAgAABAgQIEAgJGAhDzxaVAAECBAgQIECAAAECBAgQIECAAAECBAgQIECAgIFQBwgQIECAAAECBAgQIECAAAECBAgQIECAAAECBAiEBAyEoWeLSoAAAQIECBAgQIAAAQIECBAgQIAAAQIECBAgQMBAqAMECBAgQIAAAQIECBAgQIAAAQIECBAgQIAAAQIEQgIGwtCzRSVAgAABAgQIECBAgAABAgQIECBAgAABAgQIECBgINQBAgQIECBAgAABAgQIECBAgAABAgQIECBAgAABAiEBA2Ho2aISIECAAAECBAgQIECAAAECBAgQIECAAAECBAgQMBDqAAECBAgQIECAAAECBAgQIECAAAECBAgQIECAAIGQgIEw9GxRCRAgQIAAAQIECBAgQIAAAQIECBAgQIAAAQIECBgIdYAAAQIECBAgQIAAAQIECBAgQIAAAQIECBAgQIBASMBAGHq2qAQIECBAgAABAgQIECBAgAABAgQIECBAgAABAgQMhDpAgAABAgQIECBAgAABAgQIECBAgAABAgQIECBAICRgIAw9W1QCBAgQIECAAAECBAgQIECAAAECBAgQIECAAAECBkIdIECAAAECBAgQIECAAAECBAgQIECAAAECBAgQIBASMBCGni0qAQIECBAgQIAAAQIECBAgQIAAAQIECBAgQIAAAQOhDhAgQIAAAQIECBAgQIAAAQIECBAgQIAAAQIECBAICRgIQ88WlQABAgQIECBAgAABAgQIECBAgAABAgQIECBAgICBUAcIECBAgAABAgQIECBAgAABAgQIECBAgAABAgQIhAQMhKFni0qAAAECBAgQIECAAAECBAgQIECAAAECBAgQIEDAQKgDBAgQIECAAAECBAgQIECAAAECBAgQIECAAAECBEICBsLQs0UlQIAAAQIECBAgQIAAAQIECBAgQIAAAQIECBAgYCDUAQIECBAgQIAAAQIECBAgQIAAAQIECBAgQIAAAQIhAQNh6NmiEiBAgAABAgQIECBAgAABAgQIECBAgAABAgQIEDAQ6gABAgQIECBAgAABAgQIECBAgAABAgQIECBAgACBkICBMPRsUQkQIECAAAECBAgQIECAAAECBAgQIECAAAECBAgYCHWAAAECBAgQIECAAAECBAgQIECAAAECBAgQIECAQEjAQBh6tqgECBAgQIAAAQIECBAgQIAAAQIECBAgQIAAAQIEDIQ6QIAAAQIECBAgQIAAAQIECBAgQIAAAQIECBAgQCAkYCAMPVtUAgQIECBAgAABAgQIECBAgAABAgQIECBAgAABAgZCHSBAgAABAgQIECBAgAABAgQIECBAgAABAgQIECAQEjAQhp4tKgECBAgQIECAAAECBAgQIECAAAECBAgQIECAAAEDoQ4QIECAAAECBAgQIECAAAECBAgQIECAAAECBAgQCAkYCEPPFpUAAQIECBAgQIAAAQIECBAgQIAAAQIECBAgQICAgVAHCBAgQIAAAQIECBAgQIAAAQIECBAgQIAAAQIECIQEDIShZ4tKgAABAgQIECBAgAABAgQIECBAgAABAgQIECBAwECoAwQIECBAgAABAgQIECBAgAABAgQIECBAgAABAgRCAgbC0LNFJUCAAAECBAgQIECAAAECBAgQIECAAAECBAgQIGAg1AECBAgQIECAAAECBAgQIECAAAECBAgQIECAAAECIQEDYejZohIgQIAAAQIECBAgQIAAAQIECBAgQIAAAQIECBAwEOoAAQIECBAgQIAAAQIECBAgQIAAAQIECBAgQIAAgZCAgTD0bFEJECBAgAABAgQIECBAgAABAgQIECBAgAABAgQIGAh1gAABAgQIECBAgAABAgQIECBAgAABAgQIECBAgEBIwEAYeraoBAgQIECAAAECBAgQIECAAAECBAgQIECAAAECBAyEOkCAAAECBAgQIECAAAECBAgQIECAAAECBAgQIEAgJGAgDD1bVAIECBAgQIAAAQIECBAgQIAAAQIECBAgQIAAAQIGQh0gQIAAAQIECBAgQIAAAQIECBAgQIAAAQIECBAgEBIwEIaeLSoBAgQIECBAgAABAgQIECBAgAABAgQIECBAgAABA6EOECBAgAABAgQIECBAgAABAgQIECBAgAABAgQIEAgJGAhDzxaVAAECBAgQIECAAAECBAgQIECAAAECBAgQIECAgIFQBwgQIECAAAECBAgQIECAAAECBAgQIECAAAECBAiEBAyEoWeLSoAAAQIECBAgQIAAAQIECBAgQIAAAQIECBAgQMBAqAMECBAgQIAAAQIECBAgQIAAAQIECBAgQIAAAQIEQgIGwtCzRSVAgAABAgQIECBAgAABAgQIECBAgAABAgQIECBgINQBAgQIECBAgAABAgQIECBAgAABAgQIECBAgAABAiEBA2Ho2aISIECAAAECBAgQIECAAAECBAgQIECAAAECBAgQMBDqAAECBAgQIECAAAECBAgQIECAAAECBAgQIECAAIGQgIEw9GxRCRAgQIAAAQIECBAgQIAAAQIECBAgQIAAAQIECBgIdYAAAQIECBAgQIAAAQIECBAgQIAAAQIECBAgQIBASMBAGHq2qAQIECBAgAABAgQIECBAgAABAgQIECBAgAABAgQMhDpAgAABAgQIECBAgAABAgQIECBAgAABAgQIECBAICRgIAw9W1QCBAgQIECAAAECBAgQIECAAAECBAgQIECAAAECBkIdIECAAAECBAgQIECAAAECBAgQIECAAAECBAgQIBASMBCGni0qAQIECBAgQIAAAQIECBAgQIAAAQIECBAgQIAAAQOhDhAgQIAAAQIECBAgQIAAAQIECBAgQIAAAQIECBAICRgIQ88WlQABAgQIECBAgAABAgQIECBAgAABAgQIECBAgICBUAcIECBAgAABAgQIECBAgAABAgQIECBAgAABAgQIhAQMhKFni0qAAAECBAgQIECAAAECBAgQIECAAAECBAgQIEDAQKgDBAgQIECAAAECBAgQIECAAAECBAgQIECAAAECBEICBsLQs0UlQIAAAQIECBAgQIAAAQIECBAgQIAAAQIECBAgYCDUAQIECBAgQIAAAQIECBAgQIAAAQIECBAgQIAAAQIhAQNh6NmiEiBAgAABAgQIECBAgAABAgQIECBAgAABAgQIEDAQ6gABAgQIECBAgAABAgQIECBAgAABAgQIECBAgACBkICBMPRsUQkQIECAAAECBAgQIECAAAECBAgQIECAAAECBAgYCHWAAAECBAgQIECAAAECBAgQIECAAAECBAgQIECAQEjAQBh6tqgECBAgQIAAAQIECBAgQIAAAQIECBAgQIAAAQIEDIQ6QIAAAQIECBAgQIAAAQIECBAgQIAAAQIECBAgQCAkYCAMPVtUAgQIECBAgAABAgQIECBAgAABAgQIECBAgAABAgZCHSBAgAABAgQIECBAgAABAgQIECBAgAABAgQIECAQEjAQhp4tKgECBAgQIECAAAECBAgQIECAAAECBAgQIECAAAEDoQ4QIECAAAECBAgQIECAAAECBAgQIECAAAECBAgQCAkYCEPPFpUAAQIECBAgQIAAAQIECBAgQIAAAQIECBAgQICAgVAHCBAgQIAAAQIECBAgQIAAAQIECBAgQIAAAQIECIQEDIShZ4tKgAABAgQIECBAgAABAgQIECBAgAABAgQIECBAwECoAwQIECBAgAABAgQIECBAgAABAgQIECBAgAABAgRCAgbC0LNFJUCAAAECBAgQIECAAAECBAgQIECAAAECBAgQIGAg1AECBAgQIECAAAECBAgQIECAAAECBAgQIECAAAECIQEDYejZohIgQIAAAQIECBAgQIAAAQIECBAgQIAAAQIECBAwEOoAAQIECBAgQIAAAQIECBAgQIAAAQIECBAgQIAAgZCAgTD0bFEJECBAgAABAgQIECBAgAABAgQIECBAgAABAgQIGAh1gAABAgQIECBAgAABAgQIECBAgAABAgQIECBAgEBIwEAYeraoBAgQIECAAAECBAgQIECAAAECBAgQIECAAAECBAyEOkCAAAECBAgQIECAAAECBAgQIECAAAECBAgQIEAgJGAgDD1bVAIECBAgQIAAAQIECBAgQIAAAQIECBAgQIAAAQIGQh0gQIAAAQIECBAgQIAAAQIECBAgQIAAAQIECBAgEBIwEIaeLSoBAgQIECBAgAABAgQIECBAgAABAgQIECBAgAABA6EOECBAgAABAgQIECBAgAABAgQIECBAgAABAgQIEAgJGAhDzxaVAAECBAgQIECAAAECBAgQIECAAAECBAgQIECAgIFQBwgQIECAAAECBAgQIECAAAECBAgQIECAAAECBAiEBAyEoWeLSoAAAQIECBAgQIAAAQIECBAgQIAAAQIECBAgQMBAqAMECBAgQIAAAQIECBAgQIAAAQIECBAgQIAAAQIEQgIGwtCzRSVAgAABAgQIECBAgAABAgQIECBAgAABAgQIECBgINQBAgQIECBAgAABAgQIECBAgAABAgQIECBAgAABAiEBA2Ho2aISIECAAAECBAgQIECAAAECBAgQIECAAAECBAgQMBDqAAECBAgQIECAAAECBAgQIECAAAECBAgQIECAAIGQgIEw9GxRCRAgQIAAAQIECBAgQIAAAQIECBAgQIAAAQIECBgIdYAAAQIECBAgQIAAAQIECBAgQIAAAQIECBAgQIBASMBAGHq2qAQIECBAgAABAgQIECBAgAABAgQIECBAgAABAgQMhDpAgAABAgQIECBAgAABAgQIECBAgAABAgQIECBAICRgIAw9W1QCBAgQIECAAAECBAgQIECAAAECBAgQIECAAAECBkIdIECAAAECBAgQIECAAAECBAgQIECAAAECBAgQIBASMBCGni0qAQIECBAgQIAAAQIECBAgQIAAAQIECBAgQIAAAQOhDhAgQIAAAQIECBAgQIAAAQIECBAgQIAAAQIECBAICRgIQ88WlQABAgQIECBAgAABAgQIECBAgAABAgQIECBAgICBUAcIECBAgAABAgQIECBAgAABAgQIECBAgAABAgQIhAQMhKFni0qAAAECBAgQIECAAAECBAgQIECAAAECBAgQIEDAQKgDBAgQIECAAAECBAgQIECAAAECBAgQIECAAAECBEICBsLQs0UlQIAAAQIECBAgQIAAAQIECBAgQIAAAQIECBAgYCDUAQIECBAgQIAAAQIECBAgQIAAAQIECBAgQIAAAQIhAQNh6NmiEiBAgAABAgQIECBAgAABAgQIECBAgAABAgQIEDAQ6gABAgQIECBAgAABAgQIECBAgAABAgQIECBAgACBkICBMPRsUQkQIECAAAECBAgQIECAAAECBAgQIECAAAECBAgYCHWAAAECBAgQIECAAAECBAgQIECAAAECBAgQIECAQEjAQBh6tqgECBAgQIAAAQIECBAgQIAAAQIECBAgQIAAAQIEDIQ6QIAAAQIECBAgQIAAAQIECBAgQIAAAQIECBAgQCAkYCAMPVtUAgQIECBAgAABAgQIECBAgAABAgQIECBAgAABAgZCHSBAgAABAgQIECBAgAABAgQIECBAgAABAgQIECAQEjAQhp4tKgECBAgQIECAAAECBAgQIECAAAECBAgQIECAAAEDoQ4QIECAAAECBAgQIECAAAECBAgQIECAAAECBAgQCAkYCEPPFpUAAQIECBAgQIAAAQIECBAgQIAAAQIECBAgQICAgVAHCBAgQIAAAQIECBAgQIAAAQIECBAgQIAAAQIECIQEDIShZ4tKgAABAgQIECBAgAABAgQIECBAgAABAgQIECBAwECoAwQIECBAgAABAgQIECBAgAABAgQIECBAgAABAgRCAgbC0LNFJUCAAAECBAgQIECAAAECBAgQIECAAAECBAgQIGAg1AECBAgQIECAAAECBAgQIECAAAECBAgQIECAAAECIQEDYejZohIgQIAAAQIECBAgQIAAAQIECBAgQIAAAQIECBAwEOoAAQIECBAgQIAAAQIECBAgQIAAAQIECBAgQIAAgZCAgTD0bFEJECBAgAABAgQIECBAgAABAgQIECBAgAABAgQIGAh1gAABAgQIECBAgAABAgQIECBAgAABAgQIECBAgEBIwEAYeraoBAgQIECAAAECBAgQIECAAAECBAgQIECAAAECBAyEOkCAAAECBAgQIECAAAECBAgQIECAAAECBAgQIEAgJGAgDD1bVAIECBAgQIAAAQIECBAgQIAAAQIECBAgQIAAAQIGQh0gQIAAAQIECBAgQIAAAQIECBAgQIAAAQIECBAgEBIwEIaeLSoBAgQIECBAgAABAgQIECBAgAABAgQIECBAgAABA6EOECBAgAABAgQIECBAgAABAgQIECBAgAABAgQIEAgJGAhDzxaVAAECBAgQIECAAAECBAgQIECAAAECBAgQIECAgIFQBwgQIECAAAECBAgQIECAAAECBAgQIECAAAECBAiEBAyEoWeLSoAAAQIECBAgQIAAAQIECBAgQIAAAQIECBAgQMBAqAMECBAgQIAAAQIECBAgQIAAAQIECBAgQIAAAQIEQgIGwtCzRSVAgAABAgQIECBAgAABAgQIECBAgAABAgQIECBgINQBAgQIECBAgAABAgQIECBAgAABAgQIECBAgAABAiEBA2Ho2aISIECAAAECBAgQIECAAAECBAgQIECAAAECBAgQMBDqAAECBAgQIECAAAECBAgQIECAAAECBAgQIECAAIGQgIEw9GxRCRAgQIAAAQIECBAgQIAAAQIECBAgQIAAAQIECBgIdYAAAQIECBAgQIAAAQIECBAgQIAAAQIECBAgQIBASMBAGHq2qAQIECBAgAABAgQIECBAgAABAgQIECBAgAABAgQMhDpAgAABAgQIECBAgAABAgQIECBAgAABAgQIECBAICRgIAw9W1QCBAgQIECAAAECBAgQIECAAAECBAgQIECAAAECBkIdIECAAAECBAgQIECAAAECBAgQIECAAAECBAgQIBASMBCGni0qAQIECBAgQIAAAQIECBAgQIAAAQIECBAgQIAAAQOhDhAgQIAAAQIECBAgQIAAAQIECBAgQIAAAQIECBAICRgIQ88WlQABAgQIECBAgAABAgQIECBAgAABAgQIECBAgICBUAcIECBAgAABAgQIECBAgAABAgQIECBAgAABAgQIhAQMhKFni0qAAAECBAgQIECAAAECBAgQIECAAAECBAgQIEDAQKgDBAgQIECAAAECBAgQIECAAAECBAgQIECAAAECBEICBsLQs0UlQIAAAQIECBAgQIAAAQIECBAgQIAAAQIECBAgYCDUAQIECBAgQIAAAQIECBAgQIAAAQIECBAgQIAAAQIhAQNh6NmiEiBAgAABAgQIECBAgAABAgQIECBAgAABAgQIEDAQ6gABAgQIECBAgAABAgQIECBAgAABAgQIECBAgACBkICBMPRsUQkQIECAAAECBAgQIECAAAECBAgQIECAAAECBAgYCHWAAAECBAgQIECAAAECBAgQIECAAAECBAgQIECAQEjAQBh6tqgECBAgQIAAAQIECBAgQIAAAQIECBAgQIAAAQIEDIQ6QIAAAQIECBAgQIAAAQIECBAgQIAAAQIECBAgQCAkYCAMPVtUAgQIECBAgAABAgQIECBAgAABAgQIECBAgAABAgZCHSBAgAABAgQIECBAgAABAgQIECBAgAABAgQIECAQEjAQhp4tKgECBAgQIECAAAECBAgQIECAAAECBAgQIECAAAEDoQ4QIECAAAECBAgQIECAAAECBAgQIECAAAECBAgQCAkYCEPPFpUAAQIECBAgQIAAAQIECBAgQIAAAQIECBAgQICAgVAHCBAgQIAAAQIECBAgQIAAAQIECBAgQIAAAQIECIQEDIShZ4tKgAABAgQIECBAgAABAgQIECBAgAABAgQIECBAwECoAwQIECBAgAABAgQIECBAgAABAgQIECBAgAABAgRCAgbC0LNFJUCAAAECBAgQIECAAAECBAgQIECAAAECBAgQIGAg1AECBAgQIECAAAECBAgQIECAAAECBAgQIECAAAECIQEDYejZohIgQIAAAQIECBAgQIAAAQIECBAgQIAAAQIECBAwEOoAAQIECBAgQIAAAQIECBAgQIAAAQIECBAgQIAAgZCAgTD0bFEJECBAgAABAgQIECBAgAABAgQIECBAgAABAgQIGAh1gAABAgQIECBAgAABAgQIECBAgAABAgQIECBAgEBIwEAYeraoBAgQIECAAAECBAgQIECAAAECBAgQIECAAAECBAyEOkCAAAECBAgQIECAAAECBAgQIECAAAECBAgQIEAgJGAgDD1bVAIECBAgQIAAAQIECBAgQIAAAQIECBAgQIAAAQIGQh0gQIAAAQIECBAgQIAAAQIECBAgQIAAAQIECBAgEBIwEIaeLSoBAgQIECBAgAABAgQIECBAgAABAgQIECBAgAABA6EOECBAgAABAgQIECBAgAABAgQIECBAgAABAgQIEAgJGAhDzxaVAAECBAgQIECAAAECBAgQIECAAAECBAgQIECAgIFQBwgQIECAAAECBAgQIECAAAECBAgQIECAAAECBAiEBAyEoWeLSoAAAQIECBAgQIAAAQIECBAgQIAAAQIECBAgQMBAqAMECBAgQIAAAQIECBAgQIAAAQIECBAgQIAAAQIEQgIGwtCzRSVAgAABAgQIECBAgAABAgQIECBAgAABAgQIECBgINQBAgQIECBAgAABAgQIECBAgAABAgQIECBAgAABAiEBA2Ho2aISIECAAAECBAgQIECAAAECBAgQIECAAAECBAgQMBDqAAECBAgQIECAAAECBAgQIECAAAECBAgQIECAAIGQgIEw9GxRCRAgQIAAAQIECBAgQIAAAQIECBAgQIAAAQIECBgIdYAAAQIECBAgQIAAAQIECBAgQIAAAQIECBAgQIBASMBAGHq2qAQIECBAgAABAgQIECBAgAABAgQIECBAgAABAgQMhDpAgAABAgQIECBAgAABAgQIECBAgAABAgQIECBAICRgIAw9W1QCBAgQIECAAAECBAgQIECAAAECBAgQIECAAAECBkIdIECAAAECBAgQIECAAAECBAgQIECAAAECBAgQIBASMBCGni0qAQIECBAgQIAAAQIECBAgQIAAAQIECBAgQIAAAQOhDhAgQIAAAQIECBAgQIAAAQIECBAgQIAAAQIECBAICRgIQ88WlQABAgQIECBAgAABAgQIECBAgAABAgQIECBAgICBUAcIECBAgAABAgQIECBAgAABAgQIECBAgAABAgQIhAQMhKFni0qAAAECBAgQIECAAAECBAgQIECAAAECBAgQIEDAQKgDBAgQIECAAAECBAgQIECAAAECBAgQIECAAAECBEICBsLQs0UlQIAAAQIECBAgQIAAAQIECBAgQIAAAQIECBAgYCDUAQIECBAgQIAAAQIECBAgQIAAAQIECBAgQIAAAQIhAQNh6NmiEiBAgAABAgQIECBAgAABAgQIECBAgAABAgQIEDAQ6gABAgQIECBAgAABAusPbaEAACAASURBVAQIECBAgAABAgQIECBAgACBkICBMPRsUQkQIECAAAECBAgQIECAAAECBAgQIECAAAECBAgYCHWAAAECBAgQIECAAAECBAgQIECAAAECBAgQIECAQEjAQBh6tqgECBAgQIAAAQIECBAgQIAAAQIECBAgQIAAAQIEDIQ6QIAAAQIECBAgQIAAAQIECBAgQIAAAQIECBAgQCAkYCAMPVtUAgQIECBAgAABAgQIECBAgAABAgQIECBAgAABAgZCHSBAgAABAgQIECBAgAABAgQIECBAgAABAgQIECAQEjAQhp4tKgECBAgQIECAAAECBAgQIECAAAECBAgQIECAAAEDoQ4QIECAAAECBAgQIECAAAECBAgQIECAAAECBAgQCAkYCEPPFpUAAQIECBAgQIAAAQIECBAgQIAAAQIECBAgQICAgVAHCBAgQIAAAQIECBAgQIAAAQIECBAgQIAAAQIECIQEDIShZ4tKgAABAgQIECBAgAABAgQIECBAgAABAgQIECBAwECoAwQIECBAgAABAgQIECBAgAABAgQIECBAgAABAgRCAgbC0LNFJUCAAAECBAgQIECAAAECBAgQIECAAAECBAgQIGAg1AECBAgQIECAAAECBAgQIECAAAECBAgQIECAAAECIQEDYejZohIgQIAAAQIECBAgQIAAAQIECBAgQIAAAQIECBAwEOoAAQIECBAgQIAAAQIECBAgQIAAAQIECBAgQIAAgZCAgTD0bFEJECBAgAABAgQIECBAgAABAgQIECBAgAABAgQIGAh1gAABAgQIECBAgAABAgQIECBAgAABAgQIECBAgEBIwEAYeraoBAgQIECAAAECBAgQIECAAAECBAgQIECAAAECBAyEOkCAAAECBAgQIECAAAECBAgQIECAAAECBAgQIEAgJGAgDD1bVAIECBAgQIAAAQIECBAgQIAAAQIECBAgQIAAAQIGQh0gQIAAAQIECBAgQIAAAQIECBAgQIAAAQIECBAgEBIwEIaeLSoBAgQIECBAgAABAgQIECBAgAABAgQIECBAgAABA6EOECBAgAABAgQIECBAgAABAgQIECBAgAABAgQIEAgJGAhDzxaVAAECBAgQIECAAAECBAgQIECAAAECBAgQIECAgIFQBwgQIECAAAECBAgQIECAAAECBAgQIECAAAECBAiEBAyEoWeLSoAAAQIECBAgQIAAAQIECBAgQIAAAQIECBAgQMBAqAMECBAgQIAAAQIECBAgQIAAAQIECBAgQIAAAQIEQgIGwtCzRSVAgAABAgQIECBAgAABAgQIECBAgAABAgQIECBgINQBAgQIECBAgAABAgQIECBAgAABAgQIECBAgAABAiEBA2Ho2aISIECAAAECBAgQIECAAAECBAgQIECAAAECBAgQMBDqAAECBAgQIECAAAECBAgQIECAAAECBAgQIECAAIGQgIEw9GxRCRAgQIAAAQIECBAgQIAAAQIECBAgQIAAAQIECBgIdYAAAQIECBAgQIAAAQIECBAgQIAAAQIECBAgQIBASMBAGHq2qAQIECBAgAABAgQIECBAgAABAgQIECBAgAABAgQMhDpAgAABAgQIECBAgAABAgQIECBAgAABAgQIECBAICRgIAw9W1QCBAgQIECAAAECBAgQIECAAAECBAgQIECAAAECBkIdIECAAAECBAgQIECAAAECBAgQIECAAAECBAgQIBASMBCGni0qAQIECBAgQIAAAQIECBAgQIAAAQIECBAgQIAAAQOhDhAgQIAAAQIECBAgQIAAAQIECBAgQIAAAQIECBAICRgIQ88WlQABAgQIECBAgAABAgQIECBAgAABAgQIECBAgICBUAcIECBAgAABAgQIECBAgAABAgQIECBAgAABAgQIhAQMhKFni0qAAAECBAgQIECAAAECBAgQIECAAAECBAgQIEDAQKgDBAgQIECAAAECBAgQIECAAAECBAgQIECAAAECBEICBsLQs0UlQIAAAQIECBAgQIAAAQIECBAgQIAAAQIECBAgYCDUAQIECBAgQIAAAQIECBAgQIAAAQIECBAgQIAAAQIhAQNh6NmiEiBAgAABAgQIECBAgAABAgQIECBAgAABAgQIEDAQ6gABAgQIECBAgAABAgQIECBAgAABAgQIECBAgACBkICBMPRsUQkQIECAAAECBAgQIECAAAECBAgQIECAAAECBAgYCHWAAAECBAgQIECAAAECBAgQIECAAAECBAgQIECAQEjAQBh6tqgECBAgQIAAAQIECBAgQIAAAQIECBAgQIAAAQIEDIQ6QIAAAQIECBAgQIAAAQIECBAgQIAAAQIECBAgQCAkYCAMPVtUAgQIECBAgAABAgQIECBAgAABAgQIECBAgAABAgZCHSBAgAABAgQIECBAgAABAgQIECBAgAABAgQIECAQEjAQhp4tKgECBAgQIECAAAECBAgQIECAAAECBAgQIECAAAEDoQ4QIECAAAECBAgQIECAAAECBAgQIECAAAECBAgQCAkYCEPPFpUAAQIECBAgQIAAAQIECBAgQIAAAQIECBAgQICAgVAHCBAgQIAAAQIECBAgQIAAAQIECBAgQIAAAQIECIQEDIShZ4tKgAABAgQIECBAgAABAgQIECBAgAABAgQIECBAwECoAwQIECBAgAABAgQIECBAgAABAgQIECBAgAABAgRCAgbC0LNFJUCAAAECBAgQIECAAAECBAgQIECAAAECBAgQIGAg1AECBAgQIECAAAECBAgQIECAAAECBAgQIECAAAECIQEDYejZohIgQIAAAQIECBAgQIAAAQIECBAgQIAAAQIECBAwEOoAAQIECBAgQIAAAQIECBAgQIAAAQIECBAgQIAAgZCAgTD0bFEJECBAgAABAgQIECBAgAABAgQIECBAgAABAgQIGAh1gAABAgQIECBAgAABAgQIECBAgAABAgQIECBAgEBIwEAYeraoBAgQIECAAAECBAgQIECAAAECBAgQIECAAAECBAyEOkCAAAECBAgQIECAAAECBAgQIECAAAECBAgQIEAgJGAgDD1bVAIECBAgQIAAAQIECBAgQIAAAQIECBAgQIAAAQIGQh0gQIAAAQIECBAgQIAAAQIECBAgQIAAAQIECBAgEBIwEIaeLSoBAgQIECBAgAABAgQIECBAgAABAgQIECBAgAABA6EOECBAgAABAgQIECBAgAABAgQIECBAgAABAgQIEAgJGAhDzxaVAAECBAgQIECAAAECBAgQIECAAAECBAgQIECAgIFQBwgQIECAAAECBAgQIECAAAECBAgQIECAAAECBAiEBAyEoWeLSoAAAQIECBAgQIAAAQIECBAgQIAAAQIECBAgQMBAqAMECBAgQIAAAQIECBAgQIAAAQIECBAgQIAAAQIEQgIGwtCzRSVAgAABAgQIECBAgAABAgQIECBAgAABAgQIECBgINQBAgQIECBAgAABAgQIECBAgAABAgQIECBAgAABAiEBA2Ho2aISIECAAAECBAgQIECAAAECBAgQIECAAAECBAgQMBDqAAECBAgQIECAAAECBAgQIECAAAECBAgQIECAAIGQgIEw9GxRCRAgQIAAAQIECBAgQIAAAQIECBAgQIAAAQIECBgIdYAAAQIECBAgQIAAAQIECBAgQIAAAQIECBAgQIBASMBAGHq2qAQIECBAgAABAgQIECBAgAABAgQIECBAgAABAgQMhDpAgAABAgQIECBAgAABAgQIECBAgAABAgQIECBAICRgIAw9W1QCBAgQIECAAAECBAgQIECAAAECBAgQIECAAAECBkIdIECAAAECBAgQIECAAAECBAgQIECAAAECBAgQIBASMBCGni0qAQIECBAgQIAAAQIECBAgQIAAAQIECBAgQIAAAQOhDhAgQIAAAQIECBAgQIAAAQIECBAgQIAAAQIECBAICRgIQ88WlQABAgQIECBAgAABAgQIECBAgAABAgQIECBAgICBUAcIECBAgAABAgQIECBAgAABAgQIECBAgAABAgQIhAQMhKFni0qAAAECBAgQIECAAAECBAgQIECAAAECBAgQIEDAQKgDBAgQIECAAAECBAgQIECAAAECBAgQIECAAAECBEICBsLQs0UlQIAAAQIECBAgQIAAAQIECBAgQIAAAQIECBAgYCDUAQIECBAgQIAAAQIECBAgQIAAAQIECBAgQIAAAQIhAQNh6NmiEiBAgAABAgQIECBAgAABAgQIECBAgAABAgQIEDAQ6gABAgQIECBAgAABAgQIECBAgAABAgQIECBAgACBkICBMPRsUQkQIECAAAECBAgQIECAAAECBAgQIECAAAECBAgYCHWAAAECBAgQIECAAAECBAgQIECAAAECBAgQIECAQEjAQBh6tqgECBAgQIAAAQIECBAgQIAAAQIECBAgQIAAAQIEDIQ6QIAAAQIECBAgQIAAAQIECBAgQIAAAQIECBAgQCAkYCAMPVtUAgQIECBAgAABAgQIECBAgAABAgQIECBAgAABAgZCHSBAgAABAgQIECBAgAABAgQIECBAgAABAgQIECAQEjAQhp4tKgECBAgQIECAAAECBAgQIECAAAECBAgQIECAAAEDoQ4QIECAAAECBAgQIECAAAECBAgQIECAAAECBAgQCAkYCEPPFpUAAQIECBAgQIAAAQIECBAgQIAAAQIECBAgQICAgVAHCBAgQIAAAQIECBAgQIAAAQIECBAgQIAAAQIECIQEDIShZ4tKgAABAgQIECBAgAABAgQIECBAgAABAgQIECBAwECoAwQIECBAgAABAgQIECBAgAABAgQIECBAgAABAgRCAgbC0LNFJUCAAAECBAgQIECAAAECBAgQIECAAAECBAgQIGAg1AECBAgQIECAAAECBAgQIECAAAECBAgQIECAAAECIQEDYejZohIgQIAAAQIECBAgQIAAAQIECBAgQIAAAQIECBAwEOoAAQIECBAgQIAAAQIECBAgQIAAAQIECBAgQIAAgZCAgTD0bFEJECBAgAABAgQIECBAgAABAgQIECBAgAABAgQIGAh1gAABAgQIECBAgAABAgQIECBAgAABAgQIECBAgEBIwEAYeraoBAgQIECAAAECBAgQIECAAAECBAgQIECAAAECBAyEOkCAAAECBAgQIECAAAECBAgQIECAAAECBAgQIEAgJGAgDD1bVAIECBAgQIAAAQIECBAgQIAAAQIECBAgQIAAAQIGQh0gQIAAAQIECBAgQIAAAQIECBAgQIAAAQIECBAgEBIwEIaeLSoBAgQIECBAgAABAgQIECBAgAABAgQIECBAgAABA6EOECBAgAABAgQIECBAgAABAgQIECBAgAABAgQIEAgJGAhDzxaVAAECBAgQIECAAAECBAgQIECAAAECBAgQIECAgIFQBwgQIECAAAECBAgQIECAAAECBAgQIECAAAECBAiEBAyEoWeLSoAAAQIECBAgQIAAAQIECBAgQIAAAQIECBAgQMBAqAMECBAgQIAAAQIECBAgQIAAAQIECBAgQIAAAQIEQgIGwtCzRSVAgAABAgQIECBAgAABAgQIECBAgAABAgQIECBgINQBAgQIECBAgAABAgQIECBAgAABAgQIECBAgAABAiEBA2Ho2aISIECAAAECBAgQIECAAAECBAgQIECAAAECBAgQMBDqAAECBAgQIECAAAECBAgQIECAAAECBAgQIECAAIGQgIEw9GxRCRAgQIAAAQIECBAgQIAAAQIECBAgQIAAAQIECBgIdYAAAQIECBAgQIAAAQIECBAgQIAAAQIECBAgQIBASMBAGHq2qAQIECBAgAABAgQIECBAgAABAgQIECBAgAABAgQMhDpAgAABAgQIECBAgAABAgQIECBAgAABAgQIECBAICRgIAw9W1QCBAgQIECAAAECBAgQIECAAAECBAgQIECAAAECBkIdIECAAAECBAgQIECAAAECBAgQIECAAAECBAgQIBASMBCGni0qAQIECBAgQIAAAQIECBAgQIAAAQIECBAgQIAAAQOhDhAgQIAAAQIECBAgQIAAAQIECBAgQIAAAQIECBAICRgIQ88WlQABAgQIECBAgAABAgQIECBAgAABAgQIECBAgICBUAcIECBAgAABAgQIECBAgAABAgQIECBAgAABAgQIhAQMhKFni0qAAAECBAgQIECAAAECBAgQIECAAAECBAgQIEDAQKgDBAgQIECAAAECBAgQIECAAAECBAgQIECAAAECBEICBsLQs0UlQIAAAQIECBAgQIAAAQIECBAgQIAAAQIECBAgYCDUAQIECBAgQIAAAQIECBAgQIAAAQIECBAgQIAAAQIhAQNh6NmiEiBAgAABAgQIECBAgAABAgQIECBAgAABAgQIEDAQ6gABAgQIECBAgAABAgQIECBAgAABAgQIECBAgACBkICBMPRsUQkQIECAAAECBAgQIECAAAECBAgQIECAAAECBAgYCHWAAAECBAgQIECAAAECBAgQIECAAAECBAgQIECAQEjAQBh6tqgECBAgQIAAAQIECBAgQIAAAQIECBAgQIAAAQIEDIQ6QIAAAQIECBAgQIAAAQIECBAgQIAAAQIECBAgQCAkYCAMPVtUAgQIECBAgAABAgQIECBAgAABAgQIECBAgAABAgZCHSBAgAABAgQIECBAgAABAgQIECBAgAABAgQIECAQEjAQhp4tKgECBAgQIECAAAECBAgQIECAAAECBAgQIECAAAEDoQ4QIECAAAECBAgQIECAAAECBAgQIECAAAECBAgQCAkYCEPPFpUAAQIECBAgQIAAAQIECBAgQIAAAQIECBAgQICAgVAHCBAgQIAAAQIECBAgQIAAAQIECBAgQIAAAQIECIQEDIShZ4tKgAABAgQIECBAgAABAgQIECBAgAABAgQIECBAwECoAwQIECBAgAABAgQIECBAgAABAgQIECBAgAABAgRCAgbC0LNFJUCAAAECBAgQIECAAAECBAgQIECAAAECBAgQIGAg1AECBAgQIECAAAECBAgQIECAAAECBAgQIECAAAECIQEDYejZohIgQIAAAQIECBAgQIAAAQIECBAgQIAAAQIECBAwEOoAAQIECBAgQIAAAQIECBAgQIAAAQIECBAgQIAAgZCAgTD0bFEJECBAgAABAgQIECBAgAABAgQIECBAgAABAgQIGAh1gAABAgQIECBAgAABAgQIECBAgAABAgQIECBAgEBIwEAYeraoBAgQIECAAAECBAgQIECAAAECBAgQIECAAAECBAyEOkCAAAECBAgQIECAAAECBAgQIECAAAECBAgQIEAgJGAgDD1bVAIECBAgQIAAAQIECBAgQIAAAQIECBAgQIAAAQIGQh0gQIAAAQIECBAgQIAAAQIECBAgQIAAAQIECBAgEBIwEIaeLSoBAgQIECBAgAABAgQIECBAgAABAgQIECBAgAABA6EOECBAgAABAgQIECBAgAABAgQIECBAgAABAgQIEAgJGAhDzxaVAAECBAgQIECAAAECBAgQIECAAAECBAgQIECAgIFQBwgQIECAAAECBAgQIECAAAECBAgQIECAAAECBAiEBAyEoWeLSoAAAQIECBAgQIAAAQIECBAgQIAAAQIECBAgQMBAqAMECBAgQIAAAQIECBAgQIAAAQIECBAgQIAAAQIEQgIGwtCzRSVAgAABAgQIECBAgAABAgQIECBAgAABAgQIECBgINQBAgQIECBAgAABAgQIECBAgAABAgQIECBAgAABAiEBA2Ho2aISIECAAAECBAgQIECAAAECBAgQIECAAAECBAgQMBDqAAECBAgQIECAAAECBAgQIECAAAECBAgQIECAAIGQgIEw9GxRCRAgQIAAAQIECBAgQIAAAQIECBAgQIAAAQIECBgIdYAAAQIECBAgQIAAAQIECBAgQIAAAQIECBAgQIBASMBAGHq2qAQIECBAgAABAgQIECBAgAABAgQIECBAgAABAgQMhDpAgAABAgQIECBAgAABAgQIECBAgAABAgQIECBAICRgIAw9W1QCBAgQIECAAAECBAgQIECAAAECBAgQIECAAAECBkIdIECAAAECBAgQIECAAAECBAgQIECAAAECBAgQIBASMBCGni0qAQIECBAgQIAAAQIECBAgQIAAAQIECBAgQIAAAQOhDhAgQIAAAQIECBAgQIAAAQIECBAgQIAAAQIECBAICRgIQ88WlQABAgQIECBAgAABAgQIECBAgAABAgQIECBAgICBUAcIECBAgAABAgQIECBAgAABAgQIECBAgAABAgQIhAQMhKFni0qAAAECBAgQIECAAAECBAgQIECAAAECBAgQIEDAQKgDBAgQIECAAAECBAgQIECAAAECBAgQIECAAAECBEICBsLQs0UlQIAAAQIECBAgQIAAAQIECBAgQIAAAQIECBAgYCDUAQIECBAgQIAAAQIECBAgQIAAAQIECBAgQIAAAQIhAQNh6NmiEiBAgAABAgQIECBAgAABAgQIECBAgAABAgQIEDAQ6gABAgQIECBAgAABAgQIECBAgAABAgQIECBAgACBkICBMPRsUQkQIECAAAECBAgQIECAAAECBAgQIECAAAECBAgYCHWAAAECBAgQIECAAAECBAgQIECAAAECBAgQIECAQEjAQBh6tqgECBAgQIAAAQIECBAgQIAAAQIECBAgQIAAAQIEDIQ6QIAAAQIECBAgQIAAAQIECBAgQIAAAQIECBAgQCAkYCAMPVtUAgQIECBAgAABAgQIECBAgAABAgQIECBAgAABAgZCHSBAgAABAgQIECBAgAABAgQIECBAgAABAgQIECAQEjAQhp4tKgECBAgQIECAAAECBAgQIECAAAECBAgQIECAAAEDoQ4QIECAAAECBAgQIECAAAECBAgQIECAAAECBAgQCAkYCEPPFpUAAQIECBAgQIAAAQIECBAgQIAAAQIECBAgQICAgVAHCBAgQIAAAQIECBAgQIAAAQIECBAgQIAAAQIECIQEDIShZ4tKgAABAgQIECBAgAABAgQIECBAgAABAgQIECBAwECoAwQIECBAgAABAgQIECBAgAABAgQIECBAgAABAgRCAgbC0LNFJUCAAAECBAgQIECAAAECBAgQIECAAAECBAgQIGAg1AECBAgQIECAAAECBAgQIECAAAECBAgQIECAAAECIQEDYejZohIgQIAAAQIECBAgQIAAAQIECBAgQIAAAQIECBAwEOoAAQIECBAgQIAAAQIECBAgQIAAAQIECBAgQIAAgZCAgTD0bFEJECBAgAABAgQIECBAgAABAgQIECBAgAABAgQIGAh1gAABAgQIECBAgAABAgQIECBAgAABAgQIECBAgEBIwEAYeraoBAgQIECAAAECBAgQIECAAAECBAgQIECAAAECBAyEOkCAAAECBAgQIECAAAECBAgQIECAAAECBAgQIEAgJGAgDD1bVAIECBAgQIAAAQIECBAgQIAAAQIECBAgQIAAAQIGQh0gQIAAAQIECBAgQIAAAQIECBAgQIAAAQIECBAgEBIwEIaeLSoBAgQIECBAgAABAgQIECBAgAABAgQIECBAgAABA6EOECBAgAABAgQIECBAgAABAgQIECBAgAABAgQIEAgJGAhDzxaVAAECBAgQIECAAAECBAgQIECAAAECBAgQIECAgIFQBwgQIECAAAECBAgQIECAAAECBAgQIECAAAECBAiEBAyEoWeLSoAAAQIECBAgQIAAAQIECBAgQIAAAQIECBAgQMBAqAMECBAgQIAAAQIECBAgQIAAAQIECBAgQIAAAQIEQgIGwtCzRSVAgAABAgQIECBAgAABAgQIECBAgAABAgQIECBgINQBAgQIECBAgAABAgQIECBAgAABAgQIECBAgAABAiEBA2Ho2aISIECAAAECBAgQIECAAAECBAgQIECAAAECBAgQMBDqAAECBAgQIECAAAECBAgQIECAAAECBAgQIECAAIGQgIEw9GxRCRAgQIAAAQIECBAgQIAAAQIECBAgQIAAAQIECBgIdYAAAQIECBAgQIAAAQIECBAgQIAAAQIECBAgQIBASMBAGHq2qAQIECBAgAABAgQIECBAgAABAgQIECBAgAABAgQMhDpAgAABAgQIECBAgAABAgQIECBAgAABAgQIECBAICRgIAw9W1QCBAgQIECAAAECBAgQIECAAAECBAgQIECAAAECBkIdIECAAAECBAgQIECAAAECBAgQIECAAAECBAgQIBASMBCGni0qAQIECBAgQIAAAQIECBAgQIAAAQIECBAgQIAAAQOhDhAgQIAAAQIECBAgQIAAAQIECBAgQIAAAQIECBAICRgIQ88WlQABAgQIECBAgAABAgQIECBAgAABAgQIECBAgICBUAcIECBAgAABAgQIECBAgAABAgQIECBAgAABAgQIhAQMhKFni0qAAAECBAgQIECAAAECBAgQIECAAAECBAgQIEDAQKgDBAgQIECAAAECBAgQIECAAAECBAgQIECAAAECBEICBsLQs0UlQIAAAQIECBAgQIAAAQIECBAgQIAAAQIECBAgYCDUAQIECBAgQIAAAQIECBAgQIAAAQIECBAgQIAAAQIhAQNh6NmiEiBAgAABAgQIECBAgAABAgQIECBAgAABAgQIEDAQ6gABAgQIECBAgAABAgQIECBAgAABAgQIECBAgACBkICBMPRsUQkQIECAAAECBAgQIECAAAECBAgQIECAAAECBAgYCHWAAAECBAgQIECAAAECBAgQIECAAAECBAgQIECAQEjAQBh6tqgECBAgQIAAAQIECBAgQIAAAQIECBAgQIAAAQIEDIQ6QIAAAQIECBAgQIAAAQIECBAgQIAAAQIECBAgQCAkYCAMPVtUAgQIECBAgAABFT0EHQAAIABJREFUAgQIECBAgAABAgQIECBAgAABAgZCHSBAgAABAgQIECBAgAABAgQIECBAgAABAgQIECAQEjAQhp4tKgECBAgQIECAAAECBAgQIECAAAECBAgQIECAAAEDoQ4QIECAAAECBAgQIECAAAECBAgQIECAAAECBAgQCAkYCEPPFpUAAQIECBAgQIAAAQIECBAgQIAAAQIECBAgQICAgVAHCBAgQIAAAQIECBAgQIAAAQIECBAgQIAAAQIECIQEDIShZ4tKgAABAgQIECBAgAABAgQIECBAgAABAgQIECBAwECoAwQIECBAgAABAgQIECBAgAABAgQIECBAgAABAgRCAgbC0LNFJUCAAAECBAgQIECAAAECBAgQIECAAAECBAgQIGAg1AECBAgQIECAAAECBAgQIECAAAECBAgQIECAAAECIQEDYejZohIgQIAAAQIECBAgQIAAAQIECBAgQIAAAQIECBAwEOoAAQIECBAgQIAAAQIECBAgQIAAAQIECBAgQIAAgZCAgTD0bFEJECBAgAABAgQIECBAgAABAgQIECBAgAABAgQIGAh1gAABAgQIECBAgAABAgQIECBAgAABAgQIECBAgEBIwEAYeraoBAgQIECAAAECBAgQIECAAAECBAgQIECAAAECBAyEOkCAAAECBAgQIECAAAECBAgQIECAAAECBAgQIEAgJGAgDD1bVAIECBAgQIAAAQIECBAgQIAAAQIECBAgQIAAAQIGQh0gQIAAAQIECBAgQIAAAQIECBAgQIAAAQIECBAgEBIwEIaeLSoBAgQIECBAgAABAgQIECBAgAABAgQIECBAgAABA6EOECBAgAABAgQIECBAgAABAgQIECBAgAABAgQIEAgJGAhDzxaVAAECBAgQIECAAAECBAgQIECAAAECBAgQIECAgIFQBwgQIECAAAECBAgQIECAAAECBAgQIECAAAECBAiEBAyEoWeLSoAAAQIECBAgQIAAAQIECBAgQIAAAQIECBAgQMBAqAMECBAgQIAAAQIECBAgQIAAAQIECBAgQIAAAQIEQgIGwtCzRSVAgAABAgQIECBAgAABAgQIECBAgAABAgQIECBgINQBAgQIECBAgAABAgQIECBAgAABAgQIECBAgAABAiEBA2Ho2aISIECAAAECBAgQIECAAAECBAgQIECAAAECBAgQMBDqAAECBAgQIECAAAECBAgQIECAAAECBAgQIECAAIGQgIEw9GxRCRAgQIAAAQIECBAgQIAAAQIECBAgQIAAAQIECBgIdYAAAQIECBAgQIAAAQIECBAgQIAAAQIECBAgQIBASMBAGHq2qAQIECBAgAABAgQIECBAgAABAgQIECBAgAABAgQMhDpAgAABAgQIECBAgAABAgQIECBAgAABAgQIECBAICRgIAw9W1QCBAgQIECAAAECBAgQIECAAAECBAgQIECAAAECBkIdIECAAAECBAgQIECAAAECBAgQIECAAAECBAgQIBASMBCGni0qAQIECBAgQIAAAQIECBAgQIAAAQIECBAgQIAAAQOhDhAgQIAAAQIECBAgQIAAAQIECBAgQIAAAQIECBAICRgIQ88WlQABAgQIECBAgAABAgQIECBAgAABAgQIECBAgICBUAcIECBAgAABAgQIECBAgAABAgQIECBAgAABAgQIhAQMhKFni0qAAAECBAgQIECAAAECBAgQIECAAAECBAgQIEDAQKgDBAgQIECAAAECBAgQIECAAAECBAgQIECAAAECBEICBsLQs0UlQIAAAQIECBAgQIAAAQIECBAgQIAAAQIECBAgYCDUAQIECBAgQIAAAQIECBAgQIAAAQIECBAgQIAAAQIhAQNh6NmiEiBAgAABAgQIECBAgAABAgQIECBAgAABAgQIEDAQ6gABAgQIECBAgAABAgQIECBAgAABAgQIECBAgACBkICBMPRsUQkQIECAAAECBAgQIECAAAECBAgQIECAAAECBAgYCHWAAAECBAgQIECAAAECBAgQIECAAAECBAgQIECAQEjAQBh6tqgECBAgQIAAAQIECBAgQIAAAQIECBAgQIAAAQIEDIQ6QIAAAQIECBAgQIAAAQIECBAgQIAAAQIECBAgQCAkYCAMPVtUAgQIECBAgAABAgQIECBAgAABAgQIECBAgAABAgZCHSBAgAABAgQIECBAgAABAgQIECBAgAABAgQIECAQEjAQhp4tKgECBAgQIECAAAECBAgQIECAAAECBAgQIECAAAEDoQ4QIECAAAECBAgQIECAAAECBAgQIECAAAECBAgQCAkYCEPPFpUAAQIECBAgQIAAAQIECBAgQIAAAQIECBAgQICAgVAHCBAgQIAAAQIECBAgQIAAAQIECBAgQIAAAQIECIQEDIShZ4tKgAABAgQIECBAgAABAgQIECBAgAABAgQIECBAwECoAwQIECBAgAABAgQIECBAgAABAgQIECBAgAABAgRCAgbC0LNFJUCAAAECBAgQIECAAAECBAgQIECAAAECBAgQIGAg1AECBAgQIECAAAECBAgQIECAAAECBAgQIECAAAECIQEDYejZohIgQIAAAQIECBAgQIAAAQIECBAgQIAAAQIECBAwEOoAAQIECBAgQIAAAQIECBAgQIAAAQIECBAgQIAAgZCAgTD0bFEJECBAgAABAgQIECBAgAABAgQIECBAgAABAgQIGAh1gAABAgQIECBAgAABAgQIECBAgAABAgQIECBAgEBIwEAYeraoBAgQIECAAAECBAgQIECAAAECBAgQIECAAAECBAyEOkCAAAECBAgQIECAAAECBAgQIECAAAECBAgQIEAgJGAgDD1bVAIECBAgQIAAAQIECBAgQIAAAQIECBAgQIAAAQIGQh0gQIAAAQIECBAgQIAAAQIECBAgQIAAAQIECBAgEBIwEIaeLSoBAgQIECBAgAABAgQIECBAgAABAgQIECBAgAABA6EOECBAgAABAgQIECBAgAABAgQIECBAgAABAgQIEAgJGAhDzxaVAAECBAgQIECAAAECBAgQIECAAAECBAgQIECAgIFQBwgQIECAAAECBAgQIECAAAECBAgQIECAAAECBAiEBAyEoWeLSoAAAQIECBAgQIAAAQIECBAgQIAAAQIECBAgQMBAqAMECBAgQIAAAQIECBAgQIAAAQIECBAgQIAAAQIEQgIGwtCzRSVAgAABAgQIECBAgAABAgQIECBAgAABAgQIECBgINQBAgQIECBAgAABAgQIECBAgAABAgQIECBAgAABAiEBA2Ho2aISIECAAAECBAgQIECAAAECBAgQIECAAAECBAgQMBDqAAECBAgQIECAAAECBAgQIECAAAECBAgQIECAAIGQgIEw9GxRCRAgQIAAAQIECBAgQIAAAQIECBAgQIAAAQIECBgIdYAAAQIECBAgQIAAAQIECBAgQIAAAQIECBAgQIBASMBAGHq2qAQIECBAgAABAgQIECBAgAABAgQIECBAgAABAgQMhDpAgAABAgQIECBAgAABAgQIECBAgAABAgQIECBAICRgIAw9W1QCBAgQIECAAAECBAgQIECAAAECBAgQIECAAAECBkIdIECAAAECBAgQIECAAAECBAgQIECAAAECBAgQIBASMBCGni0qAQIECBAgQIAAAQIECBAgQIAAAQIECBAgQIAAAQOhDhAgQIAAAQIECBAgQIAAAQIECBAgQIAAAQIECBAICRgIQ88WlQABAgQIECBAgAABAgQIECBAgAABAgQIECBAgICBUAcIECBAgAABAgQIECBAgAABAgQIECBAgAABAgQIhAQMhKFni0qAAAECBAgQIECAAAECBAgQIECAAAECBAgQIEDAQKgDBAgQIECAAAECBAgQIECAAAECBAgQIECAAAECBEICBsLQs0UlQIAAAQIECBAgQIAAAQIECBAgQIAAAQIECBAgYCDUAQIECBAgQIAAAQIECBAgQIAAAQIECBAgQIAAAQIhAQNh6NmiEiBAgAABAgQIECBAgAABAgQIECBAgAABAgQIEDAQ6gABAgQIECBAgAABAgQIECBAgAABAgQIECBAgACBkICBMPRsUQkQIECAAAECBAgQIECAAAECBAgQIECAAAECBAgYCHWAAAECBAgQIECAAAECBAgQIECAAAECBAgQIECAQEjAQBh6tqgECBAgQIAAAQIECBAgQIAAAQIECBAgQIAAAQIEDIQ6QIAAAQIECBAgQIAAAQIECBAgQIAAAQIECBAgQODZs2MCAAAABGH9WxOERXD6ORJwEI7KFpUAAQIECBAgQIAAAQIECBAgQIAAAQIECBAgQICAg9AGCBAgQIAAAQIECBAgQIAAAQIECBAgQIAAAQIECIwEHISjskUlQIAAAQIECBAgQIAAAQIECBAgQIAAAQIECBAg4CC0AQIECBAgQIAAAQIECBAgQIAAAQIECBAgQIAAAQIjAQfhqGxRCRAgQIAAAQIECBAgQIAAAQIECBAgQIAAAQIECDgIbYAAAQIECBAgQIAAAQIECBAgQIAAAQIECBAgQIDASMBBOCpbVAIECBAgQIAAAQIECBAgQIAAAQIECBAgQIAAAQIOQhsgQIAAAQIECBAgQIAAAQIECBAgQIAAAQIECBAgMBJwEI7KFpUAAQIECBAgQIAAAQIECBAgQIAAAQIECBAgQICAg9AGCBAgQIAAAQIECBAgQIAAAQIECBAgQIAAAQIECIwEHISjskUlQIAAAQIECBAgQIAAAQIECBAgQIAAAQIECBAg4CC0AQIECBAgQIAAAQIECBAgQIAAAQIECBAgQIAAAQIjAQfhqGxRCRAgQIAAAQIECBAgQIAAAQIECBAgQIAAAQIECDgIbYAAAQIECBAgQIAAAQIECBAgQIAAAQIECBAgQIDASMBBOCpbVAIECBAgQIAAAQIECBAgQIAAAQIECBAgQIAAAQIOQhsgQIAAAQIECBAgQIAAAQIECBAgQIAAAQIECBAgMBJwEI7KFpUAAQIECBAgQIAAAQIECBAgQIAAAQIECBAgQICAg9AGCBAgQIAAAQIECBAgQIAAAQIECBAgQIAAAQIECIwEHISjskUlQIAAAQIECBAgQIAAAQIECBAgQIAAAQIECBAg4CC0AQIECBAgQIAAAQIECBAgQIAAAQIECBAgQIAAAQIjAQfhqGxRCRAgQIAAAQIECBAgQIAAAQIECBAgQIAAAQIECDgIbYAAAQIECBAgQIAAAQIECBAgQIAAAQIECBAgQIDASMBBOCpbVAIECBAgQIAAAQIECBAgQIAAAQIECBAgQIAAAQIOQhsgQIAAAQIECBAgQIAAAQIECBAgQIAAAQIECBAgMBJwEI7KFpUAAQIECBAgQIAAAQIECBAgQIAAAQIECBAgQICAg9AGCBAgQIAAAQIECBAgQIAAAQIECBAgQIAAAQIECIwEHISjskUlQIAAAQIECBAgQIAAAQIECBAgQIAAAQIECBAg4CC0AQIECBAgQIAAAQIECBAgQIAAAQIECBAgQIAAAQIjAQfhqGxRCRAgQIAAAQIECBAgQIAAAQIECBAgQIAAAQIECDgIbYAAAQIECBAgQIAAAQIECBAgQIAAAQIECBAgQIDASMBBOCpbVAIECBAgQIAAAQIECBAgQIAAAQIECBAgQIAAAQIOQhsgQIAAAQIECBAgQIAAAQIECBAgQIAAAQIECBAgMBJwEI7KFpUAAQIECBAgQIAAAQIECBAgQIAAAQIECBAgQICAg9AGCBAgQIAAAQIECBAgQIAAAQIECBAgQIAAAQIECIwEHISjskUlQIAAAQIECBAgQIAAAQIECBAgQIAAAQIECBAg4CC0AQIECBAgQIAAAQIECBAgQIAAAQIECBAgQIAAAQIjAQfhqGxRCRAgQIAAAQIECBAgQIAAAQIECBAgQIAAAQIECDgIbYAAAQIECBAgQIAAAQIECBAgQIAAAQIECBAgQIDASMBBOCpbVAIECBAgQIAAAQIECBAgQIAAAQIECBAgQIAAAQIOQhsgQIAAAQIECBAgQIAAAQIECBAgQIAAAQIECBAgMBJwEI7KFpUAAQIECBAgQIAAAQIECBAgQIAAAQIECBAgQICAg9AGCBAgQIAAAQIECBAgQIAAAQIECBAgQIAAAQIECIwEHISjskUlQIAAAQIECBAgQIAAAQIECBAgQIAAAQIECBAg4CC0AQIECBAgQIAAAQIECBAgQIAAAQIECBAgQIAAAQIjAQfhqGxRCRAgQIAAAQIECBAgQIAAAQIECBAgQIAAAQIECDgIbYAAAQIECBAgQIAAAQIECBAgQIAAAQIECBAgQIDASMBBOCpbVAIECBAgQIAAAQIECBAgQIAAAQIECBAgQIAAAQIOQhsgQIAAAQIECBAgQIAAAQIECBAgQIAAAQIECBAgMBJwEI7KFpUAAQIECBAgQIAAAQIECBAgQIAAAQIECBAgQICAg9AGCBAgQIAAAQIECBAgQIAAAQIECBAgQIAAAQIECIwEHISjskUlQIAAAQIECBAgQIAAAQIECBAgQIAAAQIECBAg4CC0AQIECBAgQIAAAQIECBAgQIAAAQIECBAgQIAAAQIjAQfhqGxRCRAgQIAAAQIECBAgQIAAAQIECBAgQIAAAQIECDgIbYAAAQIECBAgQIAAAQIECBAgQIAAAQIECBAgQIDASMBBOCpbVAIECBAgQIAAAQIECBAgQIAAAQIECBAgQIAAAQIOQhsgQIAAAQIECBAgQIAAAQIECBAgQIAAAQIECBAgMBJwEI7KFpUAAQIECBAgQIAAAQIECBAgQIAAAQIECBAgQICAg9AGCBAgQIAAAQIECBAgQIAAAQIECBAgQIAAAQIECIwEHISjskUlQIAAAQIECBAgQIAAAQIECBAgQIAAAQIECBAg4CC0AQIECBAgQIAAAQIECBAgQIAAAQIECBAgQIAAAQIjAQfhqGxRCRAgQIAAAQIECBAgQIAAAQIECBAgQIAAAQIECDgIbYAAAQIECBAgQIAAAQIECBAgQIAAAQIECBAgQIDASMBBOCpbVAIECBAgQIAAAQIECBAgQIAAAQIECBAgQIAAAQIOQhsgQIAAAQIECBAgQIAAAQIECBAgQIAAAQIECBAgMBJwEI7KFpUAAQIECBAgQIAAAQIECBAgQIAAAQIECBAgQICAg9AGCBAgQIAAAQIECBAgQIAAAQIECBAgQIAAAQIECIwEHISjskUlQIAAAQIECBAgQIAAAQIECBAgQIAAAQIECBAg4CC0AQIECBAgQIAAAQIECBAgQIAAAQIECBAgQIAAAQIjAQfhqGxRCRAgQIAAAQIECBAgQIAAAQIECBAgQIAAAQIECDgIbYAAAQIECBAgQIAAAQIECBAgQIAAAQIECBAgQIDASMBBOCpbVAIECBAgQIAAAQIECBAgQIAAAQIECBAgQIAAAQIOQhsgQIAAAQIECBAgQIAAAQIECBAgQIAAAQIECBAgMBJwEI7KFpUAAQIECBAgQIAAAQIECBAgQIAAAQIECBAgQICAg9AGCBAgQIAAAQIECBAgQIAAAQIECBAgQIAAAQIECIwEHISjskUlQIAAAQIECBAgQIAAAQIECBAgQIAAAQIECBAg4CC0AQIECBAgQIAAAQIECBAgQIAAAQIECBAgQIAAAQIjAQfhqGxRCRAgQIAAAQIECBAgQIAAAQIECBAgQIAAAQIECDgIbYAAAQIECBAgQIAAAQIECBAgQIAAAQIECBAgQIDASMBBOCpbVAIECBAgQIAAAQIECBAgQIAAAQIECBAgQIAAAQIOQhsgQIAAAQIECBAgQIAAAQIECBAgQIAAAQIECBAgMBJwEI7KFpUAAQIECBAgQIAAAQIECBAgQIAAAQIECBAgQICAg9AGCBAgQIAAAQIECBAgQIAAAQIECBAgQIAAAQIECIwEHISjskUlQIAAAQIECBAgQIAAAQIECBAgQIAAAQIECBAg4CC0AQIECBAgQIAAAQIECBAgQIAAAQIECBAgQIAAAQIjAQfhqGxRCRAgQIAAAQIECBAgQIAAAQIECBAgQIAAAQIECDgIbYAAAQIECBAgQIAAAQIECBAgQIAAAQIECBAgQIDASMBBOCpbVAIECBAgQIAAAQIECBAgQIAAAQIECBAgQIAAAQIOQhsgQIAAAQIECBAgQIAAAQIECBAgQIAAAQIECBAgMBJwEI7KFpUAAQIECBAgQIAAAQIECBAgQIAAAQIECBAgQICAg9AGCBAgQIAAAQIECBAgQIAAAQIECBAgQIAAAQIECIwEHISjskUlQIAAAQIECBAgQIAAAQIECBAgQIAAAQIECBAg4CC0AQIECBAgQIAAAQIECBAgQIAAAQIECBAgQIAAAQIjAQfhqGxRCRAgQIAAAQIECBAgQIAAAQIECBAgQIAAAQIECDgIbYAAAQIECBAgQIAAAQIECBAgQIAAAQIECBAgQIDASMBBOCpbVAIECBAgQIAAAQIECBAgQIAAAQIECBAgQIAAAQIOQhsgQIAAAQIECBAgQIAAAQIECBAgQIAAAQIECBAgMBJwEI7KFpUAAQIECBAgQIAAAQIECBAgQIAAAQIECBAgQICAg9AGCBAgQIAAAQIECBAgQIAAAQIECBAgQIAAAQIECIwEHISjskUlQIAAAQIECBAgQIAAAQIECBAgQIAAAQIECBAg4CC0AQIECBAgQIAAAQIECBAgQIAAAQIECBAgQIAAAQIjAQfhqGxRCRAgQIAAAQIECBAgQIAAAQIECBAgQIAAAQIECDgIbYAAAQIECBAgQIAAAQIECBAgQIAAAQIECBAgQIDASMBBOCpbVAIECBAgQIAAAQIECBAgQIAAAQIECBAgQIAAAQIOQhsgQIAAAQIECBAgQIAAAQIECBAgQIAAAQIECBAgMBJwEI7KFpUAAQIECBAgQIAAAQIECBAgQIAAAQIECBAgQICAg9AGCBAgQIAAAQIECBAgQIAAAQIECBAgQIAAAQIECIwEHISjskUlQIAAAQIECBAgQIAAAQIECBAgQIAAAQIECBAg4CC0AQIECBAgQIAAAQIECBAgQIAAAQIECBAgQIAAAQIjAQfhqGxRCRAgQIAAAQIECBAgQIAAAQIECBAgQIAAAQIECDgIbYAAAQIECBAgQIAAAQIECBAgQIAAAQIECBAgQIDASMBBOCpbVAIECBAgQIAAAQIECBAgQIAAAQIECBAgQIAAAQIOQhsgQIAAAQIECBAgQIAAAQIECBAgQIAAAQIECBAgMBJwEI7KFpUAAQIECBAgQIAAAQIECBAgQIAAAQIECBAgQICAg9AGCBAgQIAAAQIECBAgQIAAAQIECBAgQIAAAQIECIwEHISjskUlQIAAAQIECBAgQIAAAQIECBAgQIAAAQIECBAg4CC0AQIECBAgQIAAAQIECBAgQIAAAQIECBAgQIAAAQIjAQfhqGxRCRAgQIAAAQIECBAgQIAAAQIECBAgQIAAAQIECDgIbYAAAQIECBAgQIAAAQIECBAgQIAAAQIECBAgQIDASMBBOCpbVAIECBAgQIAAAQIECBAgQIAAAQIECBAgQIAAAQIOQhsgQIAAAQIECBAgQIAAAQIECBAgQIAAAQIECBAgMBJwEI7KFpUAAQIECBAgQIAAAQIECBAgQIAAAQIECBAgQICAg9AGCBAgQIAAAQIECBAgQIAAAQIECBAgQIAAAQIECIwEHISjskUlQIAAAQIECBAgQIAAAQIECBAgQIAAAQIECBAg4CC0AQIECBAgQIAAAQIECBAgQIAAAQIECBAgQIAAAQIjAQfhqGxRCRAgQIAAAQIECBAgQIAAAQIECBAgQIAAAQIECDgIbYAAAQIECBAgQIAAAQIECBAgQIAAAQIECBAgQIDASMBBOCpbVAIECBAgQIAAAQIECBAgQIAAAQIECBAgQIAAAQIOQhsgQIAAAQIECBAgQIAAAQIECBAgQIAAAQIECBAgMBJwEI7KFpUAAQIECBAgQIAAAQIECBAgQIAAAQIECBAgQICAg9AGCBAgQIAAAQIECBAgQIAAAQIECBAgQIAAAQIECIwEHISjskUlQIAAAQIECBAgQIAAAQIECBAgQIAAAQIECBAg4CC0AQIECBAgQIAAAQIECBAgQIAAAQIECBAgQIAAAQIjAQfhqGxRCRAgQIAAAQIECBAgQIAAAQIECBAgQIAAAQIECDgIbYAAAQIECBAgQIAAAQIECBAgQIAAAQIECBAgQIDASMBBOCpbVAIECBAgQIAAAQIECBAgQIAAAQIECBAgQIAAAQIOQhsgQIAAAQIECBAgQIAAAQIECBAgQIAAAQIECBAgMBJwEI7KFpUAAQIECBAgQIAAAQIECBAgQIAAAQIECBAgQICAg9AGCBAgQIAAAQIECBAgQIAAAQIECBAgQIAAAQIECIwEHISjskUlQIAAAQIECBAgQIAAAQIECBAgQIAAAQIECBAg4CC0AQIECBAgQIAAAQIECBAgQIAAAQIECBAgQIAAAQIjAQfhqGxRCRAgQIAAAQIECBAgQIAAAQIECBAgQIAAAQIECDgIbYAAAQIECBAgQIAAAQIECBAgQIAAAQIECBAgQIDASMBBOCpbVAIECBAgQIAAAQIECBAgQIAAAQIECBAgQIAAAQIOQhsgQIAAAQIECBAgQIAAAQIECBAgQIAAAQIECBAgMBJwEI7KFpUAAQIECBAgQIAAAQIECBAgQIAAAQIECBAgQICAg9AGCBAgQIAAAQIECBAgQIAAAQIECBAgQIAAAQIECIwEHISjskUlQIAAAQIECBAgQIAAAQIECBAgQIAAAQIECBAg4CC0AQIECBAgQIAAAQIECBAgQIAAAQIECBAgQIAAAQIjAQfhqGxRCRAgQIAAAQIECBAgQIAAAQIECBAgQIAAAQIECDgIbYAAAQKQUuqkAAAgAElEQVQECBAgQIAAAQIECBAgQIAAAQIECBAgQIDASMBBOCpbVAIECBAgQIAAAQIECBAgQIAAAQIECBAgQIAAAQIOQhsgQIAAAQIECBAgQIAAAQIECBAgQIAAAQIECBAgMBJwEI7KFpUAAQIECBAgQIAAAQIECBAgQIAAAQIECBAgQICAg9AGCBAgQIAAAQIECBAgQIAAAQIECBAgQIAAAQIECIwEHISjskUlQIAAAQIECBAgQIAAAQIECBAgQIAAAQIECBAg4CC0AQIECBAgQIAAAQIECBAgQIAAAQIECBAgQIAAAQIjAQfhqGxRCRAgQIAAAQIECBAgQIAAAQIECBAgQIAAAQIECDgIbYAAAQIECBAgQIAAAQIECBAgQIAAAQIECBAgQIDASMBBOCpbVAIECBAgQIAAAQIECBAgQIAAAQIECBAgQIAAAQIOQhsgQIAAAQIECBAgQIAAAQIECBAgQIAAAQIECBAgMBJwEI7KFpUAAQIECBAgQIAAAQIECBAgQIAAAQIECBAgQICAg9AGCBAgQIAAAQIECBAgQIAAAQIECBAgQIAAAQIECIwEHISjskUlQIAAAQIECBAgQIAAAQIECBAgQIAAAQIECBAg4CC0AQIECBAgQIAAAQIECBAgQIAAAQIECBAgQIAAAQIjAQfhqGxRCRAgQIAAAQIECBAgQIAAAQIECBAgQIAAAQIECDgIbYAAAQIECBAgQIAAAQIECBAgQIAAAQIECBAgQIDASMBBOCpbVAIECBAgQIAAAQIECBAgQIAAAQIECBAgQIAAAQIOQhsgQIAAAQIECBAgQIAAAQIECBAgQIAAAQIECBAgMBJwEI7KFpUAAQIECBAgQIAAAQIECBAgQIAAAQIECBAgQICAg9AGCBAgQIAAAQIECBAgQIAAAQIECBAgQIAAAQIECIwEHISjskUlQIAAAQIECBAgQIAAAQIECBAgQIAAAQIECBAg4CC0AQIECBAgQIAAAQIECBAgQIAAAQIECBAgQIAAAQIjAQfhqGxRCRAgQIAAAQIECBAgQIAAAQIECBAgQIAAAQIECDgIbYAAAQIECBAgQIAAAQIECBAgQIAAAQIECBAgQIDASMBBOCpbVAIECBAgQIAAAQIECBAgQIAAAQIECBAgQIAAAQIOQhsgQIAAAQIECBAgQIAAAQIECBAgQIAAAQIECBAgMBJwEI7KFpUAAQIECBAgQIAAAQIECBAgQIAAAQIECBAgQICAg9AGCBAgQIAAAQIECBAgQIAAAQIECBAgQIAAAQIECIwEHISjskUlQIAAAQIECBAgQIAAAQIECBAgQIAAAQIECBAg4CC0AQIECBAgQIAAAQIECBAgQIAAAQIECBAgQIAAAQIjAQfhqGxRCRAgQIAAAQIECBAgQIAAAQIECBAgQIAAAQIECDgIbYAAAQIECBAgQIAAAQIECBAgQIAAAQIECBAgQIDASMBBOCpbVAIECBAgQIAAAQIECBAgQIAAAQIECBAgQIAAAQIOQhsgQIAAAQIECBAgQIAAAQIECBAgQIAAAQIECBAgMBJwEI7KFpUAAQIECBAgQIAAAQIECBAgQIAAAQIECBAgQICAg9AGCBAgQIAAAQIECBAgQIAAAQIECBAgQIAAAQIECIwEHISjskUlQIAAAQIECBAgQIAAAQIECBAgQIAAAQIECBAg4CC0AQIECBAgQIAAAQIECBAgQIAAAQIECBAgQIAAAQIjAQfhqGxRCRAgQIAAAQIECBAgQIAAAQIECBAgQIAAAQIECDgIbYAAAQIECBAgQIAAAQIECBAgQIAAAQIECBAgQIDASMBBOCpbVAIECBAgQIAAAQIECBAgQIAAAQIECBAgQIAAAQIOQhsgQIAAAQIECBAgQIAAAQIECBAgQIAAAQIECBAgMBJwEI7KFpUAAQIECBAgQIAAAQIECBAgQIAAAQIECBAgQICAg9AGCBAgQIAAAQIECBAgQIAAAQIECBAgQIAAAQIECIwEHISjskUlQIAAAQIECBAgQIAAAQIECBAgQIAAAQIECBAg4CC0AQIECBAgQIAAAQIECBAgQIAAAQIECBAgQIAAAQIjAQfhqGxRCRAgQIAAAQIECBAgQIAAAQIECBAgQIAAAQIECDgIbYAAAQIECBAgQIAAAQIECBAgQIAAAQIECBAgQIDASMBBOCpbVAIECBAgQIAAAQIECBAgQIAAAQIECBAgQIAAAQIOQhsgQIAAAQIECBAgQIAAAQIECBAgQIAAAQIECBAgMBJwEI7KFpUAAQIECBAgQIAAAQIECBAgQIAAAQIECBAgQICAg9AGCBAgQIAAAQIECBAgQIAAAQIECBAgQIAAAQIECIwEHISjskUlQIAAAQIECBAgQIAAAQIECBAgQIAAAQIECBAg4CC0AQIECBAgQIAAAQIECBAgQIAAAQIECBAgQIAAAQIjAQfhqGxRCRAgQIAAAQIECBAgQIAAAQIECBAgQIAAAQIECDgIbYAAAQIECBAgQIAAAQIECBAgQIAAAQIECBAgQIDASMBBOCpbVAIECBAgQIAAAQIECBAgQIAAAQIECBAgQIAAAQIOQhsgQIAAAQIECBAgQIAAAQIECBAgQIAAAQIECBAgMBJwEI7KFpUAAQIECBAgQIAAAQIECBAgQIAAAQIECBAgQICAg9AGCBAgQIAAAQIECBAgQIAAAQIECBAgQIAAAQIECIwEHISjskUlQIAAAQIECBAgQIAAAQIECBAgQIAAAQIECBAg4CC0AQIECBAgQIAAAQIECBAgQIAAAQIECBAgQIAAAQIjAQfhqGxRCRAgQIAAAQIECBAgQIAAAQIECBAgQIAAAQIECDgIbYAAAQIECBAgQIAAAQIECBAgQIAAAQIECBAgQIDASMBBOCpbVAIECBAgQIAAAQIECBAgQIAAAQIECBAgQIAAAQIOQhsgQIAAAQIECBAgQIAAAQIECBAgQIAAAQIECBAgMBJwEI7KFpUAAQIECBAgQIAAAQIECBAgQIAAAQIECBAgQICAg9AGCBAgQIAAAQIECBAgQIAAAQIECBAgQIAAAQIECIwEHISjskUlQIAAAQIECBAgQIAAAQIECBAgQIAAAQIECBAg4CC0AQIECBAgQIAAAQIECBAgQIAAAQIECBAgQIAAAQIjAQfhqGxRCRAgQIAAAQIECBAgQIAAAQIECBAgQIAAAQIECDgIbYAAAQIECBAgQIAAAQIECBAgQIAAAQIECBAgQIDASMBBOCpbVAIECBAgQIAAAQIECBAgQIAAAQIECBAgQIAAAQIOQhsgQIAAAQIECBAgQIAAAQIECBAgQIAAAQIECBAgMBJwEI7KFpUAAQIECBAgQIAAAQIECBAgQIAAAQIECBAgQICAg9AGCBAgQIAAAQIECBAgQIAAAQIECBAgQIAAAQIECIwEHISjskUlQIAAAQIECBAgQIAAAQIECBAgQIAAAQIECBAg4CC0AQIECBAgQIAAAQIECBAgQIAAAQIECBAgQIAAAQIjAQfhqGxRCRAgQIAAAQIECBAgQIAAAQIECBAgQIAAAQIECDgIbYAAAQIECBAgQIAAAQIECBAgQIAAAQIECBAgQIDASMBBOCpbVAIECBAgQIAAAQIECBAgQIAAAQIECBAgQIAAAQIOQhsgQIAAAQIECBAgQIAAAQIECBAgQIAAAQIECBAgMBJwEI7KFpUAAQIECBAgQIAAAQIECBAgQIAAAQIECBAgQICAg9AGCBAgQIAAAQIECBAgQIAAAQIECBAgQIAAAQIECIwEHISjskUlQIAAAQIECBAgQIAAAQIECBAgQIAAAQIECBAg4CC0AQIECBAgQIAAAQIECBAgQIAAAQIECBAgQIAAAQIjAQfhqGxRCRAgQIAAAQIECBAgQIAAAQIECBAgQIAAAQIECDgIbYAAAQIECBAgQIAAAQIECBAgQIAAAQIECBAgQIDASMBBOCpbVAIECBAgQIAAAQIECBAgQIAAAQIECBAgQIAAAQIOQhsgQIAAAQIECBAgQIAAAQIECBAgQIAAAQIECBAgMBJwEI7KFpUAAQIECBAgQIAAAQIECBAgQIAAAQIECBAgQICAg9AGCBAgQIAAAQIECBAgQIAAAQIECBAgQIAAAQIECIwEHISjskUlQIAAAQIECBAgQIAAAQIECBAgQIAAAQIECBAg4CC0AQIECBAgQIAAAQIECBAgQIAAAQIECBAgQIAAAQIjAQfhqGxRCRAgQIAAAQIECBAgQIAAAQIECBAgQIAAAQIECDgIbYAAAQIECBAgQIAAAQIECBAgQIAAAQIECBAgQIDASMBBOCpbVAIECBAgQIAAAQIECBAgQIAAAQIECBAgQIAAAQIOQhsgQIAAAQIECBAgQIAAAQIECBAgQIAAAQIECBAgMBJwEI7KFpUAAQIECBAgQIAAAQIECBAgQIAAAQIECBAgQICAg9AGCBAgQIAAAQIECBAgQIAAAQIECBAgQIAAAQIECIwEHISjskUlQIAAAQIECBAgQIAAAQIECBAgQIAAAQIECBAg4CC0AQIECBAgQIAAAQIECBAgQIAAAQIECBAgQIAAAQIjAQfhqGxRCRAgQIAAAQIECBAgQIAAAQIECBAgQIAAAQIECDgIbYAAAQIECBAgQIAAAQIECBAgQIAAAQIECBAgQIDASMBBOCpbVAIECBAgQIAAAQIECBAgQIAAAQIECBAgQIAAAQIOQhsgQIAAAQIECBAgQIAAAQIECBAgQIAAAQIECBAgMBJwEI7KFpUAAQIECBAgQIAAAQIECBAgQIAAAQIECBAgQICAg9AGCBAgQIAAAQIECBAgQIAAAQIECBAgQIAAAQIECIwEHISjskUlQIAAAQIECBAgQIAAAQIECBAgQIAAAQIECBAg4CC0AQIECBAgQIAAAQIECBAgQIAAAQIECBAgQIAAAQIjAQfhqGxRCRAgQIAAAQIECBAgQIAAAQIECBAgQIAAAQIECDgIbYAAAQIECBAgQIAAAQIECBAgQIAAAQIECBAgQIDASMBBOCpbVAIECBAgQIAAAQIECBAgQIAAAQIECBAgQIAAAQIOQhsgQIAAAQIECBAgQIAAAQIECBAgQIAAAQIECBAgMBJwEI7KFpUAAQIECBAgQIAAAQIECBAgQIAAAQIECBAgQICAg9AGCBAgQIAAAQIECBAgQIAAAQIECBAgQIAAAQIECIwEHISjskUlQIAAAQIECBAgQIAAAQIECBAgQIAAAQIECBAg4CC0AQIECBAgQIAAAQIECBAgQIAAAQIECBAgQIAAAQIjAQfhqGxRCRAgQIAAAQIECBAgQIAAAQIECBAgQIAAAQIECDgIbYAAAQIECBAgQIAAAQIECBAgQIAAAQIECBAgQIDASMBBOCpbVAIECBAgQIAAAQIECBAgQIAAAQIECBAgQIAAAQIOQhsgQIAAAQIECBAgQIAAAQIECBAgQIAAAQIECBAgMBJwEI7KFpUAAQIECBAgQIAAAQIECBAgQIAAAQIECBAgQICAg9AGCBAgQIAAAQIECBAgQIAAAQIECBAgQIAAAQIECIwEHISjskUlQIAAAQIECBAgQIAAAQIECBAgQIAAAQIECBAg4CC0AQIECBAgQIAAAQIECBAgQIAAAQIECBAgQIAAAQIjAQfhqGxRCRAgQIAAAQIECBAgQIAAAQIECBAgQIAAAQIECDgIbYAAAQIECBAgQIAAAQIECBAgQIAAAQIECBAgQIDASMBBOCpbVAIECBAgQIAAAQIECBAgQIAAAQIECBAgQIAAAQIOQhsgQIAAAQIECBAgQIAAAQIECBAgQIAAAQIECBAgMBJwEI7KFpUAAQIECBAgQIAAAQIECBAgQIAAAQIECBAgQICAg9AGCBAgQIAAAQIECBAgQIAAAQIECBAgQIAAAQIECIwEHISjskUlQIAAAQIECBAgQIAAAQIECBAgQIAAAQIECBAg4CC0AQIECBAgQIAAAQIECBAgQIAAAQIECBAgQIAAAQIjAQfhqGxRCRAgQIAAAQIECBAgQIAAAQIECBAgQIAAAQIECDgIbYAAAQIECBAgQIAAAQIECBAgQIAAAQIECBAgQIDASMBBOCpbVAIECBAgQIAAAQIECBAgQIAAAQIECBAgQIAAAQIOQhsgQIAAAQIECBAgQIAAAQIECBAgQIAAAQIECBAgMBJwEI7KFpUAAQIECBAgQIAAAQIECBAgQIAAAQIECBAgQICAg9AGCBAgQIAAAQIECBAgQIAAAQIECBAgQIAAAQIECIwEHISjskUlQIAAAQIECBAgQIAAAQIECBAgQIAAAQIECBAg4CC0AQIECBAgQIAAAQIECBAgQIAAAQIECBAgQIAAAQIjAQfhqGxRCRAgQIAAAQIECBAgQIAAAQIECBAgQIAAAQIECDgIbYAAAQIECBAgQIAAAQIECBAgQIAAAQIECBAgQIDASMBBOCpbVAIECBAgQIAAAQIECBAgQIAAAQIECBAgQIAAAQIOQhsgQIAAAQIECBAgQIAAAQIECBAgQIAAAQIECBAgMBJwEI7KFpUAAQIECBAgQIAAAQIECBAgQIAAAQIECBAgQICAg9AGCBAgQIAAAQIECBAgQIAAAQIECBAgQIAAAQIECIwEHISjskUlQIAAAQIECBAgQIAAAQIECBAgQIAAAQIECBAg4CC0AQIECBAgQIAAAQIECBAgQIAAAQIECBAgQIAAAQIjAQfhqGxRCRAgQIAAAQIECBAgQIAAAQIECBAgQIAAAQIECDgIbYAAAQIECBAgQIAAAQIECBAgQIAAAQIECBAgQIDASMBBOCpbVAIECBAgQIAAAQIECBAgQIAAAQIECBAgQIAAAQIOQhsgQIAAAQIECBAgQIAAAQIECBAgQIAAAQIECBAgMBJwEI7KFpUAAQIECBAgQIAAAQIECBAgQIAAAQIECBAgQICAg9AGCBAgQIAAAQIECBAgQIAAAQIECBAgQIAAAQIECIwEHISjskUlQIAAAQIECBAgQIAAAQIECBAgQIAAAQIECBAg4CC0AQIECBAgQIAAAQIECBAgQIAAAQIECBAgQIAAAQIjAQfhqGxRCRAgQIAAAQIECBAgQIAAAQIECBAgQIAAAQIECDgIbYAAAQIECBAgQIAAAQIECBAgQIAAAQIECBAgQIDASMBBOCpbVAIECBAgQIAAAQIECBAgQIAAAQIECBAgQIAAAQIOQhsgQIAAAQIECBAgQIAAAQIECBAgQIAAAQIECBAgMBJwEI7KFpUAAQIECBAgQIAAAQIECBAgQIAAAQIECBAgQICAg9AGCBAgQIAAAQIECBAgQIAAAQIECBAgQIAAAQIECIwEHISjskUlQIAAAQIECBAgQIAAAQIECBAgQIAAAQIECBAg4CC0AQIECBAgQIAAAQIECBAgQIAAAQIECBAgQIAAAQIjAQfhqGxRCRAgQIAAAQIECBAgQIAAAQIECBAgQIAAAQIECDgIbYAAAQIECBAgQIAAAQIECBAgQIAAAQIECBAgQIDASMBBOCpbVAIECBAgQIAAAQIECBAgQIAAAQIECBAgQIAAAQIOQhsgQIAAAQIECBAgQIAAAQIECBAgQIAAAQIECBAgMBJwEI7KFpUAAQIECBAgQIAAAQIECBAgQIAAAQIECBAgQICAg9AGCBAgQIAAAQIECBAgQIAAAQIECBAgQIAAAQIECIwEHISjskUlQIAAAQIECBAgQIAAAQIECBAgQIAAAQIECBAg4CC0AQIECBAgQIAAAQIECBAgQIAAAQIECBAgQIAAAQIjAQfhqGxRCRAgQIAAAQIECBAgQIAAAQIECBAgQIAAAQIECDgIbYAAAQIECBAgQIAAAQIECBAgQIAAAQIECBAgQIDASMBBOCpbVAIECBAgQIAAAQIECBAgQIAAAQIECBAgQIAAAQIOQhsgQIAAAQIECBAgQIAAAQIECBAgQIAAAQIECBAgMBJwEI7KFpUAAQIECBAgQIAAAQIECBAgQIAAAQIECBAgQICAg9AGCBAgQIAAAQIECBAgQIAAAQIECBAgQIAAAQIECIwEHISjskUlQIAAAQIECBAgQIAAAQIECBAgQIAAAQIECBAg4CC0AQIECBAgQIAAAQIECBAgQIAAAQIECBAgQIAAAQIjAQfhqGxRCRAgQIAAAQIECBAgQIAAAQIECBAgQIAAAQIECDgIbYAAAQIECBAgQIAAAQIECBAgQIAAAQIECBAgQIDASMBBOCpbVAIECBAgQIAAAQIECBAgQIAAAQIECBAgQIAAAQIOQhsgQIAAAQIECBAgQIAAAQIECBAgQIAAAQIECBAgMBJwEI7KFpUAAQIECBAgQIAAAQIECBAgQIAAAQIECBAgQICAg9AGCBAgQIAAAQIECBAgQIAAAQIECBAgQIAAAQIECIwEHISjskUlQIAAAQIECBAgQIAAAQIECBAgQIAAAQIECBAg4CC0AQIECBAgQIAAAQIECBAgQIAAAQIECBAgQIAAAQIjAQfhqGxRCRAgQIAAAQIECBAgQIAAAQIECBAgQIAAAQIECDgIbYAAAQIECBAgQIAAAQIECBAgQIAAAQIECBAgQIDASMBBOCpbVAIECBAgQIAAAQIECBAgQIAAAQIECBAgQIAAAQIOQhsgQIAAAQIECBAgQIAAAQIECBAgQIAAAQIECBAgMBJwEI7KFpUAAQIECBAgQIAAAQIECBAgQIAAAQIECBAgQICAg9AGCBAgQIAAAQIECBAgQIAAAQIECBAgQIAAAQIECIwEHISjskUlQIAAAQIECBAgQIAAAQIECBAgQIAAAQIECBAg4CC0AQIECBAgQIAAAQIECBAgQIAAAQIECBAgQIAAAQIjAQfhqGxRCRAgQIAAAQIECBAgQIAAAQIECBAgQIAAAQIECDgIbYAAAQIECBAgQIAAAQIECBAgQIAAAQIECBAgQIDASMBBOCpbVAIECBAgQIAAAQIECBAgQIAAAQIECBAgQIAAAQIOQhsgQIAAAQIECBAgQIAAAQIECBAgQIAAAQIECBAgMBJwEI7KFpUAAQIECBAgQIAAAQIECBAgQIAAAQIECBAgQICAg9AGCBAgQIAAAQIECBAgQIAAAQIECBAgQIAAAQIECIwEHISjskUlQIAAAQIECBAgQIAAAQIECBAgQIAAAQIECBAg4CC0AQIECBAgQIAAAQIECBAgQIAAAQIECBAgQIAAAQIjAQfhqGxRCRAgQIAAAQIECBAgQIAAAQIECBAgQIAAAQIECDgIbYAAAQIECBAgQIAAAQIECBAgQIAAAQIECBAgQIDASMBBOCpbVAIECBAgQIAAAQIECBAgQIAAAQIECBAgQIAAAQIOQhsgQIAAAQIECBAgQIAAAQIECBAgQIAAAQIECBAgMBJwEI7KFpUAAQIECBAgQIAAAQIECBAgQIAAAQIECBAgQICAg9AGCBAgQIAAAQIECBAgQIAAAQIECBAgQIAAAQIECIwEHISjskUlQIAAAQIECBAgQIAAAQIECBAgQIAAAQIECBAg4CC0AQIECBAgQIAAAQIECBAgQIAAAQIECBAgQIAAAQIjAQfhqGxRCRAgQIAAAQIECBAgQIAAAQIECBAgQIAAAQIECDgIbYAAAQIECBAgQIAAAQIECBAgQIAAAQIECBAgQIDASMBBOCpbVAIECBAgQIAAAQIECBAgQIAAAQIECBAgQIAAAQIOQhsgQIAAAQIECBAgQIAAAQIECBAgQIAAAQIECBAgMBJwEI7KFpUAAQIECBAgQIAAAQIECBAgQIAAAQIECBAgQICAg9AGCBAgQIAAAQIECBAgQIAAAQIECBAgQIAAAQIECIwEHISjskUlQIAAAQIECBAgQIAAAQIECBAgQIAAAQIECBAg4CC0AQIECBAgQIAAAQIECBAgQIAAAQIECBAgQIAAAQIjAQfhqGxRCRAgQIAAAQIECBAgQIAAAQIECBAgQIAAAQIECDgIbYAAAQIECBAgQIAAAQIECBAgQIAAAQIECBAgQIDASMBBOCpbVAIECBAgQIAAAQIECBAgQIAAAQIECBAgQIAAAQIOQhsgQIAAAQIECBAgQIAAAQIECBAgQIAAAQIECBAgMBJwEI7KFpUAAQIECBAgQIAAAQIECBAgQIAAAQIECBAgQICAg9AGCBAgQIAAAQIECBAgQIAAAQIECBAgQIAAAQIECIwEHISjskUlQIAAAQIECBAgQIAAAQIECBAgQIAAAQIECBAg4CC0AQIECBAgQIAAAQIECBAgQIAAAQIECBAgQIAAAQIjAQfhqGxRCRAgQIAAAQIECBAgQIAAAQIECBAgQIAAAQIECDgIbYAAAQIECBAgQIAAAQIECBAgQIAAAQIECBAgQIDASMBBOCpbVAIECBAgQIAAAQIECBAgQIAAAQIECBAgQIAAAQIOQhsgQIAAAQIECBAgQIAAAQIECBAgQIAAAQIECBAgMBJwEI7KFpUAAQIECBAgQIAAAQIECBAgQIAAAQIECBAgQICAg9AGCBAgQIAAAQIECBAgQIAAAQIECBAgQIAAAQIECIwEHISjskUlQIAAAQIECBAgQIAAAQIECBAgQIAAAQIECBAg4CC0AQIECBAgQIAAAQIECBAgQIAAAQIECBAgQIAAAQIjAQfhqGxRCRAgQIAAAQIECBAgQIAAAQIECBAgQIAAAQIECDgIbYAAAQIECBAgQIAAAQIECBAgQIAAAQIECBAgQIDASMBBOCpbVAIECBAgQIAAAQIECBAgQIAAAQIECBAgQIAAAQIOQhsgQIAAAQIECBAgQIAAAQIECBAgQIAAAQIECBAgMBJwEI7KFpUAAQIECBAgQIAAAQIECBAgQIAAAQIECBAgQICAg9AGCBAgQIAAAQIECBAgQIAAAQIECBAgQIAAAQIECIwEHISjskUlQIAAAQIECBAgQIAAAQIECI85jIMAACAASURBVBAgQIAAAQIECBAg4CC0AQIECBAgQIAAAQIECBAgQIAAAQIECBAgQIAAAQIjAQfhqGxRCRAgQIAAAQIECBAgQIAAAQIECBAgQIAAAQIECDgIbYAAAQIECBAgQIAAAQIECBAgQIAAAQIECBAgQIDASMBBOCpbVAIECBAgQIAAAQIECBAgQIAAAQIECBAgQIAAAQIOQhsgQIAAAQIECBAgQIAAAQIECBAgQIAAAQIECBAgMBJwEI7KFpUAAQIECBAgQIAAAQIECBAgQIAAAQIECBAgQICAg9AGCBAgQIAAAQIECBAgQIAAAQIECBAgQIAAAQIECIwEHISjskUlQIAAAQIECBAgQIAAAQIECBAgQIAAAQIECBAg4CC0AQIECBAgQIAAAQIECBAgQIAAAQIECBAgQIAAAQIjAQfhqGxRCRAgQIAAAQIECBAgQIAAAQIECBAgQIAAAQIECDgIbYAAAQIECBAgQIAAAQIECBAgQIAAAQIECBAgQIDASMBBOCpbVAIECBAgQIAAAQIECBAgQIAAAQIECBAgQIAAAQIOQhsgQIAAAQIECBAgQIAAAQIECBAgQIAAAQIECBAgMBJwEI7KFpUAAQIECBAgQIAAAQIECBAgQIAAAQIECBAgQICAg9AGCBAgQIAAAQIECBAgQIAAAQIECBAgQIAAAQIECIwEHISjskUlQIAAAQIECBAgQIAAAQIECBAgQIAAAQIECBAg4CC0AQIECBAgQIAAAQIECBAgQIAAAQIECBAgQIAAAQIjAQfhqGxRCRAgQIAAAQIECBAgQIAAAQIECBAgQIAAAQIECDgIbYAAAQIECBAgQIAAAQIECBAgQIAAAQIECBAgQIDASMBBOCpbVAIECBAgQIAAAQIECBAgQIAAAQIECBAgQIAAAQIOQhsgQIAAAQIECBAgQIAAAQIECBAgQIAAAQIECBAgMBJwEI7KFpUAAQIECBAgQIAAAQIECBAgQIAAAQIECBAgQICAg9AGCBAgQIAAAQIECBAgQIAAAQIECBAgQIAAAQIECIwEHISjskUlQIAAAQIECBAgQIAAAQIECBAgQIAAAQIECBAg4CC0AQIECBAgQIAAAQIECBAgQIAAAQIECBAgQIAAAQIjAQfhqGxRCRAgQIAAAQIECBAgQIAAAQIECBAgQIAAAQIECDgIbYAAAQIECBAgQIAAAQIECBAgQIAAAQIECBAgQIDASMBBOCpbVAIECBAgQIAAAQIECBAgQIAAAQIECBAgQIAAAQIOQhsgQIAAAQIECBAgQIAAAQIECBAgQIAAAQIECBAgMBJwEI7KFpUAAQIECBAgQIAAAQIECBAgQIAAAQIECBAgQICAg9AGCBAgQIAAAQIECBAgQIAAAQIECBAgQIAAAQIECIwEHISjskUlQIAAAQIECBAgQIAAAQIECBAgQIAAAQIECBAg4CC0AQIECBAgQIAAAQIECBAgQIAAAQIECBAgQIAAAQIjAQfhqGxRCRAgQIAAAQIECBAgQIAAAQIECBAgQIAAAQIECDgIbYAAAQIECBAgQIAAAQIECBAgQIAAAQIECBAgQIDASMBBOCpbVAIECBAgQIAAAQIECBAgQIAAAQIECBAgQIAAAQIOQhsgQIAAAQIECBAgQIAAAQIECBAgQIAAAQIECBAgMBJwEI7KFpUAAQIECBAgQIAAAQIECBAgQIAAAQIECBAgQICAg9AGCBAgQIAAAQIECBAgQIAAAQIECBAgQIAAAQIECIwEHISjskUlQIAAAQIECBAgQIAAAQIECBAgQIAAAQIECBAg4CC0AQIECBAgQIAAAQIECBAgQIAAAQIECBAgQIAAAQIjAQfhqGxRCRAgQIAAAQIECBAgQIAAAQIECBAgQIAAAQIECDgIbYAAAQIECBAgQIAAAQIECBAgQIAAAQIECBAgQIDASMBBOCpbVAIECBAgQIAAAQIECBAgQIAAAQIECBAgQIAAAQIOQhsgQIAAAQIECBAgQIAAAQIECBAgQIAAAQIECBAgMBJwEI7KFpUAAQIECBAgQIAAAQIECBAgQIAAAQIECBAgQICAg9AGCBAgQIAAAQIECBAgQIAAAQIECBAgQIAAAQIECIwEHISjskUlQIAAAQIECBAgQIAAAQIECBAgQIAAAQIECBAg4CC0AQIECBAgQIAAAQIECBAgQIAAAQIECBAgQIAAAQIjAQfhqGxRCRAgQIAAAQIECBAgQIAAAQIECBAgQIAAAQIECDgIbYAAAQIECBAgQIAAAQIECBAgQIAAAQIECBAgQIDASMBBOCpbVAIECBAgQIAAAQIECBAgQIAAAQIECBAgQIAAAQIOQhsgQIAAAQIECBAgQIAAAQIECBAgQIAAAQIECBAgMBJwEI7KFpUAAQIECBAgQIAAAQIECBAgQIAAAQIECBAgQICAg9AGCBAgQIAAAQIECBAgQIAAAQIECBAgQIAAAQIECIwEHISjskUlQIAAAQIECBAgQIAAAQIECBAgQIAAAQIECBAg4CC0AQIECBAgQIAAAQIECBAgQIAAAQIECBAgQIAAAQIjAQfhqGxRCRAgQIAAAQIECBAgQIAAAQIECBAgQIAAAQIECDgIbYAAAQIECBAgQIAAAQIECBAgQIAAAQIECBAgQIDASMBBOCpbVAIECBAgQIAAAQIECBAgQIAAAQIECBAgQIAAAQIOQhsgQIAAAQIECBAgQIAAAQIECBAgQIAAAQIECBAgMBJwEI7KFpUAAQIECBAgQIAAAQIECBAgQIAAAQIECBAgQICAg9AGCBAgQIAAAQIECBAgQIAAAQIECBAgQIAAAQIECIwEHISjskUlQIAAAQIECBAgQIAAAQIECBAgQIAAAQIECBAg4CC0AQIECBAgQIAAAQIECBAgQIAAAQIECBAgQIAAAQIjAQfhqGxRCRAgQIAAAQIECBAgQIAAAQIECBAgQIAAAQIECDgIbYAAAQIECBAgQIAAAQIECBAgQIAAAQIECBAgQIDASMBBOCpbVAIECBAgQIAAAQIECBAgQIAAAQIECBAgQIAAAQIOQhsgQIAAAQIECBAgQIAAAQIECBAgQIAAAQIECBAgMBJwEI7KFpUAAQIECBAgQIAAAQIECBAgQIAAAQIECBAgQICAg9AGCBAgQIAAAQIECBAgQIAAAQIECBAgQIAAAQIECIwEHISjskUlQIAAAQIECBAgQIAAAQIECBAgQIAAAQIECBAg4CC0AQIECBAgQIAAAQIECBAgQIAAAQIECBAgQIAAAQIjAQfhqGxRCRAgQIAAAQIECBAgQIAAAQIECBAgQIAAAQIECDgIbYAAAQIECBAgQIAAAQIECBAgQIAAAQIECBAgQIDASMBBOCpbVAIECBAgQIAAAQIECBAgQIAAAQIECBAgQIAAAQIOQhsgQIAAAQIECBAgQIAAAQIECBAgQIAAAQIECBAgMBJwEI7KFpUAAQIECBAgQIAAAQIECBAgQIAAAQIECBAgQICAg9AGCBAgQIAAAQIECBAgQIAAAQIECBAgQIAAAQIECIwEHISjskUlQIAAAQIECBAgQIAAAQIECBAgQIAAAQIECBAg4CC0AQIECBAgQIAAAQIECBAgQIAAAQIECBAgQIAAAQIjAQfhqGxRCRAgQIAAAQIECBAgQIAAAQIECBAgQIAAAQIECDgIbYAAAQIECBAgQIAAAQIECBAgQIAAAQIECBAgQIDASMBBOCpbVAIECBAgQIAAAQIECBAgQIAAAQIECBAgQIAAAQIOQhsgQIAAAQIECBAgQIAAAQIECBAgQIAAAQIECBAgMBJwEI7KFpUAAQIECBAgQIAAAQIECBAgQIAAAQIECBAgQICAg9AGCBAgQIAAAQIECBAgQIAAAQIECBAgQIAAAQIECIwEHISjskUlQIAAAQIECBAgQIAAAQIECBAgQIAAAQIECBAg4CC0AQIECBAgQIAAAQIECBAgQIAAAQIECBAgQIAAAQIjAQfhqGxRCRAgQIAAAQIECBAgQIAAAQIECBAgQIAAAQIECDgIbYAAAQIECBAgQIAAAQIECBAgQIAAAQIECBAgQIDASMBBOCpbVAIECBAgQIAAAQIECBAgQIAAAQIECBAgQIAAAQIOQhsgQIAAAQIECBAgQIAAAQIECBAgQIAAAQIECBAgMBJwEI7KFpUAAQIECBAgQIAAAQIECBAgQIAAAQIECBAgQICAg9AGCBAgQIAAAQIECBAgQIAAAQIECBAgQIAAAQIECIwEHISjskUlQIAAAQIECBAgQIAAAQIECBAgQIAAAQIECBAg4CC0AQIECBAgQIAAAQIECBAgQIAAAQIECBAgQIAAAQIjAQfhqGxRCRAgQIAAAQIECBAgQIAAAQIECBAgQIAAAQIECDgIbYAAAQIECBAgQIAAAQIECBAgQIAAAQIECBAgQIDASMBBOCpbVAIECBAgQIAAAQIECBAgQIAAAQIECBAgQIAAAQIOQhsgQIAAAQIECBAgQIAAAQIECBAgQIAAAQIECBAgMBJwEI7KFpUAAQIECBAgQIAAAQIECBAgQIAAAQIECBAgQICAg9AGCBAgQIAAAQIECBAgQIAAAQIECBAgQIAAAQIECIwEHISjskUlQIAAAQIECBAgQIAAAQIECBAgQIAAAQIECBAg4CC0AQIECBAgQIAAAQIECBAgQIAAAQIECBAgQIAAAQIjAQfhqGxRCRAgQIAAAQIECBAgQIAAAQIECBAgQIAAAQIECDgIbYAAAQIECBAgQIAAAQIECBAgQIAAAQIECBAgQIDASMBBOCpbVAIECBAgQIAAAQIECBAgQIAAAQIECBAgQIAAAQIOQhsgQIAAAQIECBAgQIAAAQIECBAgQIAAAQIECBAgMBJwEI7KFpUAAQIECBAgQIAAAQIECBAgQIAAAQIECBAgQICAg9AGCBAgQIAAAQIECBAgQIAAAQIECBAgQIAAAQIECIwEHISjskUlQIAAAQIECBAgQIAAAQIECBAgQIAAAQIECBAg4CC0AQIECBAgQIAAAQIECBAgQIAAAQIECBAgQIAAAQIjAQfhqGxRCRAgQIAAAQIECBAgQIAAAQIECBAgQIAAAQIECDgIbYAAAQIECBAgQIAAAQIECBAgQIAAAQIECBAgQIDASMBBOCpbVAIECBAgQIAAAQIECBAgQIAAAQIECBAgQIAAAQIOQhsgQIAAAQIECBAgQIAAAQIECBAgQIAAAQIECBAgMBJwEI7KFpUAAQIECBAgQIAAAQIECBAgQIAAAQIECBAgQICAg9AGCBAgQIAAAQIECBAgQIAAAQIECBAgQIAAAQIECIwEHISjskUlQIAAAQIECBAgQIAAAQIECBAgQIAAAQIECBAg4CC0AQIECBAgQIAAAQIECBAgQIAAAQIECBAgQIAAAQIjAQfhqGxRCRAgQIAAAQIECBAgQIAAAQIECBAgQIAAAQIECDgIbYAAAQIECBAgQIAAAQIECBAgQIAAAQIECBAgQIDASMBBOCpbVAIECBAgQIAAAQIECBAgQIAAAQIECBAgQIAAAQIOQhsgQIAAAQIECBAgQIAAAQIECBAgQIAAAQIECBAgMBJwEI7KFpUAAQIECBAgQIAAAQIECBAgQIAAAQIECBAgQICAg9AGCBAgQIAAAQIECBAgQIAAAQIECBAgQIAAAQIECIwEHISjskUlQIAAAQIECBAgQIAAAQIECBAgQIAAAQIECBAg4CC0AQIECBAgQIAAAQIECBAgQIAAAQIECBAgQIAAAQIjAQfhqGxRCRAgQIAAAQIECBAgQIAAAQIECBAgQIAAAQIECDgIbYAAAQIECBAgQIAAAQIECBAgQIAAAQIECBAgQIDASMBBOCpbVAIECBAgQIAAAQIECBAgQIAAAQIECBAgQIAAAQIOQhsgQIAAAQIECBAgQIAAAQIECBAgQIAAAQIECBAgMBJwEI7KFpUAAQIECBAgQIAAAQIECBAgQIAAAQIECBAgQICAg9AGCBAgQIAAAQIECBAgQIAAAQIECBAgQIAAAQIECIwEHISjskUlQIAAAQIECBAgQIAAAQIECBAgQIAAAQIECBAg4CC0AQIECBAgQIAAAQIECBAgQIAAAQIECBAgQIAAAQIjAQfhqGxRCRAgQIAAAQIECBAgQIAAAQIECBAgQIAAAQIECDgIbYAAAQIECBAgQIAAAQIECBAgQIAAAQIECBAgQIDASMBBOCpbVAIECBAgQIAAAQIECBAgQIAAAQIECBAgQIAAAQIOQhsgQIAAAQIECBAgQIAAAQIECBAgQIAAAQIECBAgMBJwEI7KFpUAAQIECBAgQIAAAQIECBAgQIAAAQIECBAgQICAg9AGCBAgQIAAAQIECBAgQIAAAQIECBAgQIAAAQIECIwEHISjskUlQIAAAQIECBAgQIAAAQIECBAgQIAAAQIECBAg4CC0AQIECBAgQIAAAQIECBAgQIAAAQIECBAgQIAAAQIjAQfhqGxRCRAgQIAAAQIECBAgQIAAAQIECBAgQIAAAQIECDgIbYAAAQIECBAgQIAAAQIECBAgQIAAAQIECBAgQIDASMBBOCpbVAIECBAgQIAAAQIECBAgQIAAAQIECBAgQIAAAQIOQhsgQIAAAQIECBAgQIAAAQIECBAgQIAAAQIECBAgMBJwEI7KFpUAAQIECBAgQIAAAQIECBAgQIAAAQIECBAgQICAg9AGCBAgQIAAAQIECBAgQIAAAQIECBAgQIAAAQIECIwEHISjskUlQIAAAQIECBAgQIAAAQIECBAgQIAAAQIECBAg4CC0AQIECBAgQIAAAQIECBAgQIAAAQIECBAgQIAAAQIjAQfhqGxRCRAgQIAAAQIECBAgQIAAAQIECBAgQIAAAQIECDgIbYAAAQIECBAgQIAAAQIECBAgQIAAAQIECBAgQIDASMBBOCpbVAIECBAgQIAAAQIECBAgQIAAAQIECBAgQIAAAQIOQhsgQIAAAQIECBAgQIAAAQIECBAgQIAAAQIECBAgMBJwEI7KFpUAAQIECBAgQIAAAQIECBAgQIAAAQIECBAgQICAg9AGCBAgQIAAAQIECBAgQIAAAQIECBAgQIAAAQIECIwEHISjskUlQIAAAQIECBAgQIAAAQIECBAgQIAAAQIECBAg4CC0AQIECBAgQIAAAQIECBAgQIAAAQIECBAgQIAAAQIjAQfhqGxRCRAgQIAAAQIECBAgQIAAAQIECBAgQIAAAQIECDgIbYAAAQIECBAgQIAAAQIECBAgQIAAAQIECBAgQIDASMBBOCpbVAIECBAgQIAAAQIECBAgQIAAAQIECBAgQIAAAQIOQhsgQIAAAQIECBAgQIAAAQIECBAgQIAAAQIECBAgMBJwEI7KFpUAAQIECBAgQIAAAQIECBAgQIAAAQIECBAgQICAg9AGCBAgQIAAAQIECBAgQIAAAQIECBAgQIAAAQIECIwEHISjskUlQIAAAQIECBAgQIAAAQIECBAgQIAAAQIECBAg4CC0AQIECBAgQIAAAQIECBAgQIAAAQIECBAgQIAAAQIjAQfhqGxRCRAgQIAAAQIECBAgQIAAAQIECBAgQIAAAQIECDgIbYAAAQIECBAgQIAAAQIECBAgQIAAAQIECBAgQIDASMBBOCpbVAIECBAgQIAAAQIECBAgQIAAAQIECBAgQIAAAQIOQhsgQIAAAQIECBAgQIAAAQIECBAgQIAAAQIECBAgMBJwEI7KFpUAAQIECBAgQIAAAQIECBAgQIAAAQIECBAgQICAg9AGCBAgQIAAAQIECBAgQIAAAQIECBAgQIAAAQIECIwEHISjskUlQIAAAQIECBAgQIAAAQIECBAgQIAAAQIECBAg4CC0AQIECBAgQIAAAQIECBAgQIAAAQIECBAgQIAAAQIjAQfhqGxRCRAgQIAAAQIECBAgQIAAAQIECBAgQIAAAQIECDgIbYAAAQIECBAgQIAAAQIECBAgQIAAAQIECBAgQIDASMBBOCpbVAIECBAgQIAAAQIECBAgQIAAAQIECBAgQIAAAQIOQhsgQIAAAQIECBAgQIAAAQIECBAgQIAAAQIECBAgMBJwEI7KFpUAAQIECBAgQIAAAQIECBAgQIAAAQIECBAgQICAg9AGCBAgQIAAAQIECBAgQIAAAQIECBAgQIAAAQIECIwEHISjskUlQIAAAQIECBAgQIAAAQIECBAgQIAAAQIECBAg4CC0AQIECBAgQIAAAQIECBAgQIAAAQIECBAgQIAAAQIjAQfhqGxRCRAgQIAAAQIECBAgQIAAAQIECBAgQIAAAQIECDgIbYAAAQIECBAgQIAAAQIECBAgQIAAAQIECBAgQIDASMBBOCpbVAIECBAgQIAAAQIECBAgQIAAAQIECBAgQIAAAQIOQhsgQIAAAQIECBAgQIAAAQIECBAgQIAAAQIECBAgMBJwEI7KFpUAAQIECBAgQIAAAQIECBAgQIAAAQIECBAgQICAg9AGas+OCQAAABCE9W9NEBbB6ScBAgQIECBAgAABAgQIECBAgAABAgQIECBAgACBkYCDcFS2qAQIECBAgAABAgQIECBAgAABAgQIECBAgAABAgQchDZAgAABAgQIECBAgAABAgQIECBAgAABAgQIECBAYCTgIByVLSoBAgQIECBAgAABAgQIECBAgAABAgQIECBAgAABB6ENECBAgAABAgQIECBAgAABAgQIECBAgAABAgQIEBgJOAhHZYtKgAABAgQIECBAgAABAgQIECBAgAABAgQIECBAwEFoAwQIECBAgAABAgQIECBAgAABAgQIECBAgAABAgRGAg7CUdmiEiBAgAABAgQIECBAgAABAgQIECBAgAABAgQIEHAQ2gABAgQIECBAgAABAgQIECBAgAABAgQIECBAgACBkYCDcFS2qAQIECBAgAABAgQIECBAgAABAgQIECBAgAABAgQchDZAgAABAgQIECBAgAABAgQIECBAgAABAgQIECBAYCTgIByVLSoBAgQIECBAgAABAgQIECBAgAABAgQIECBAgAABB6ENECBAgAABAgQIECBAgAABAgQIECBAgAABAgQIEBgJOAhHZYtKgAABAgQIECBAgAABAgQIECBAgAABAgQIECBAwEFoAwQIECBAgAABAgQIECBAgAABAgQIECBAgAABAgRGAg7CUdmiEiBAgAABAgQIECBAgAABAgQIECBAgAABAgQIEHAQ2gABAgQIECBAgAABAgQIECBAgAABAgQIECBAgACBkYCDcFS2qAQIECBAgAABAgQIECBAgAABAgQIECBAgAABAgQchDZAgAABAgQIECBAgAABAgQIECBAgAABAgQIECBAYCTgIByVLSoBAgQIECBAgAABAgQIECBAgAABAgQIECBAgAABB6ENECBAgAABAgQIECBAgAABAgQIECBAgAABAgQIEBgJOAhHZYtKgAABAgQIECBAgAABAgQIECBAgAABAgQIECBAwEFoAwQIECBAgAABAgQIECBAgAABAgQIECBAgAABAgRGAg7CUdmiEiBAgAABAgQIECBAgAABAgQIECBAgAABAgQIEHAQ2gABAgQIECBAgAABAgQIECBAgAABAgQIECBAgACBkYCDcFS2qAQIECBAgAABAgQIECBAgAABAgQIECBAgAABAgQchDZAgAABAgQIECBAgAABAgQIECBAgAABAgQIECBAYCTgIByVLSoBAgQIECBAgAABAgQIECBAgAABAgQIECBAgAABB6ENECBAgAABAgQIECBAgAABAgQIECBAgAABAgQIEBgJOAhHZYtKgAABAgQIECBAgAABAgQIECBAgAABAgQIECBAwEFoAwQIECBAgAABAgQIECBAgAABAgQIECBAgAABAgRGAg7CUdmiEiBAgAABAgQIECBAgAABAgQIECBAgAABAgQIEHAQ2gABAgQIECBAgAABAgQIECBAgAABAgQIECBAgACBkYCDcFS2qAQIECBAgAABAgQIECBAgAABAgQIECBAgAABAgQchDZAgAABAgQIECBAgAABAgQIECBAgAABAgQIECBAYCTgIByVLSoBAgQIECBAgAABAgQIECBAgAABAgQIECBAgAABB6ENECBAgAABAgQIECBAgAABAgQIECBAgAABAgQIEBgJOAhHZYtKgAABAgQIECBAgAABAgQIECBAgAABAgQIECBAwEFoAwQIECBAgAABAgQIECBAgAABAgQIECBAgAABAgRGAg7CUdmiEiBAgAABAgQIECBAgAABAgQIECBAgAABAgQIEHAQ2gABAgQIECBAgAABAgQIECBAgAABAgQIECBAgACBkYCDcFS2qAQIECBAgAABAgQIECBAgAABAgQIECBAgAABAgQchDZAgAABAgQIECBAgAABAgQIECBAgAABAgQIECBAYCTgIByVLSoBAgQIECBAgAABAgQIECBAgAABAgQIECBAgAABB6ENECBAgAABAgQIECBAgAABAgQIECBAgAABAgQIEBgJOAhHZYtKgAABAgQIECBAgAABAgQIECBAgAABAgQIECBAwEFoAwQIECBAgAABAgQIECBAgAABAgQIECBAgAABAgRGAg7CUdmiEiBAgAABAgQIECBAgAABAgQIECBAgAABAgQIEHAQ2gABAgQIECBAgAABAgQIECBAgAABAgQIECBAgACBkYCDcFS2qAQIECBAgAABAgQIECBAgAABAgQIECBAgAABAgQchDZAgAABAgQIECBAgAABAgQIECBAgAABAgQIECBAYCTgIByVLSoBAgQIECBAgAABAgQIECBAgAABAgQIECBAgAABB6ENECBAgAABAgQIECBAgAABAgQIECBAgAABAgQIEBgJOAhHZYtKgAABAgQIECBAgAABAgQIECBAgAABAgQIECBAwEFoAwQIECBAgAABAgQIECBAgAABD1LYOAAAIABJREFUAgQIECBAgAABAgRGAg7CUdmiEiBAgAABAgQIECBAgAABAgQIECBAgAABAgQIEHAQ2gABAgQIECBAgAABAgQIECBAgAABAgQIECBAgACBkYCDcFS2qAQIECBAgAABAgQIECBAgAABAgQIECBAgAABAgQchDZAgAABAgQIECBAgAABAgQIECBAgAABAgQIECBAYCTgIByVLSoBAgQIECBAgAABAgQIECBAgAABAgQIECBAgAABB6ENECBAgAABAgQIECBAgAABAgQIECBAgAABAgQIEBgJOAhHZYtKgAABAgQIECBAgAABAgQIECBAgAABAgQIECBAwEFoAwQIECBAgAABAgQIECBAgAABAgQIECBAgAABAgRGAg7CUdmiEiBAgAABAgQIECBAgAABAgQIECBAgAABAgQIEHAQ2gABAgQIECBAgAABAgQIECBAgAABAgQIECBAgACBkYCDcFS2qAQIECBAgAABAgQIECBAgAABAgQIECBAgAABAgQchDZAgAABAgQIECBAgAABAgQIECBAgAABAgQIECBAYCTgIByVLSoBAgQIECBAgAABAgQIECBAgAABAgQIECBAgAABB6ENECBAgAABAgQIECBAgAABAgQIECBAgAABAgQIEBgJOAhHZYtKgAABAgQIECBAgAABAgQIECBAgAABAgQIECBAwEFoAwQIECBAgAABAgQIECBAgAABAgQIECBAgAABAgRGAg7CUdmiEiBAgAABAgQIECBAgAABAgQIECBAgAABAgQIEHAQ2gABAgQIECBAgAABAgQIECBAgAABAgQIECBAgACBkYCDcFS2qAQIECBAgAABAgQIECBAgAABAgQIECBAgAABAgQchDZAgAABAgQIECBAgAABAgQIECBAgAABAgQIECBAYCTgIByVLSoBAgQIECBAgAABAgQIECBAgAABAgQIECBAgAABB6ENECBAgAABAgQIECBAgAABAgQIECBAgAABAgQIEBgJOAhHZYtKgAABAgQIECBAgAABAgQIECBAgAABAgQIECBAwEFoAwQIECBAgAABAgQIECBAgAABAgQIECBAgAABAgRGAg7CUdmiEiBAgAABAgQIECBAgAABAgQIECBAgAABAgQIEHAQ2gABAgQIECBAgAABAgQIECBAgAABAgQIECBAgACBkYCDcFS2qAQIECBAgAABAgQIECBAgAABAgQIECBAgAABAgQchDZAgAABAgQIECBAgAABAgQIECBAgAABAgQIECBAYCTgIByVLSoBAgQIECBAgAABAgQIECBAgAABAgQIECBAgAABB6ENECBAgAABAgQIECBAgAABAgQIECBAgAABAgQIEBgJOAhHZYtKgAABAgQIECBAgAABAgQIECBAgAABAgQIECBAwEFoAwQIECBAgAABAgQIECBAgAABAgQIECBAgAABAgRGAg7CUdmiEiBAgAABAgQIECBAgAABAgQIECBAgAABAgQIEHAQ2gABAgQIECBAgAABAgQIECBAgAABAgQIECBAgACBkYCDcFS2qAQIECBAgAABAgQIECBAgAABAgQIECBAgAABAgQchDZAgAABAgQIECBAgAABAgQIECBAgAABAgQIECBAYCTgIByVLSoBAgQIECBAgAABAgQIECBAgAABAgQIECBAgAABB6ENECBAgAABAgQIECBAgAABAgQIECBAgAABAgQIEBgJOAhHZYtKgAABAgQIECBAgAABAgQIECBAgAABAgQIECBAwEFoAwQIECBAgAABAgQIECBAgAABAgQIECBAgAABAgRGAg7CUdmiEiBAgAABAgQIECBAgAABAgQIECBAgAABAgQIEHAQ2gABAgQIECBAgAABAgQIECBAgAABAgQIECBAgACBkYCDcFS2qAQIECBAgAABAgQIECBAgAABAgQIECBAgAABAgQchDZAgAABAgQIECBAgAABAgQIECBAgAABAgQIECBAYCTgIByVLSoBAgQIECBAgAABAgQIECBAgAABAgQIECBAgAABB6ENECBAgAABAgQIECBAgAABAgQIECBAgAABAgQIEBgJOAhHZYtKgAABAgQIECBAgAABAgQIECBAgAABAgQIECBAwEFoAwQIECBAgAABAgQIECBAgAABAgQIECBAgAABAgRGAg7CUdmiEiBAgAABAgQIECBAgAABAgQIECBAgAABAgQIEHAQ2gABAgQIECBAgAABAgQIECBAgAABAgQIECBAgACBkYCDcFS2qAQIECBAgAABAgQIECBAgAABAgQIECBAgAABAgQchDZAgAABAgQIECBAgAABAgQIECBAgAABAgQIECBAYCTgIByVLSoBAgQIECBAgAABAgQIECBAgAABAgQIECBAgAABB6ENECBAgAABAgQIECBAgAABAgQIECBAgAABAgQIEBgJOAhHZYtKgAABAgQIECBAgAABAgQIECBAgAABAgQIECBAwEFoAwQIECBAgAABAgQIECBAgAABAgQIECBAgAABAgRGAg7CUdmiEiBAgAABAgQIECBAgAABAgQIECBAgAABAgQIEHAQ2gABAgQIECBAgAABAgQIECBAgAABAgQIECBAgACBkYCDcFS2qAQIECBAgAABAgQIECBAgAABAgQIECBAgAABAgQchDZAgAABAgQIECBAgAABAgQIECBAgAABAgQIECBAYCTgIByVLSoBAgQIECBAgAABAgQIECBAgAABAgQIECBAgAABB6ENECBAgAABAgQIECBAgAABAgQIECBAgAABAgQIEBgJOAhHZYtKgAABAgQIECBAgAABAgQIECBAgAABAgQIECBAwEFoAwQIECBAgAABAgQIECBAgAABAgQIECBAgAABAgRGAg7CUdmiEiBAgAABAgQIECBAgAABAgQIECBAgAABAgQIEHAQ2gABAgQIECBAgAABAgQIECBAgAABAgQIECBAgACBkYCDcFS2qAQIECBAgAABAgQIECBAgAABAgQIECBAgAABAgQchDZAgAABAgQIECBAgAABAgQIECBAgAABAgQIECBAYCTgIByVLSoBAgQIECBAgAABAgQIECBAgAABAgQIECBAgAABB6ENECBAgAABAgQIECBAgAABAgQIECBAgAABAgQIEBgJOAhHZYtKgAABAgQIECBAgAABAgQIECBAgAABAgQIECBAwEFoAwQIECBAgAABAgQIECBAgAABAgQIECBAgAABAgRGAg7CUdmiEiBAgAABAgQIECBAgAABAgQIECBAgAABAgQIEHAQ2gABAgQIECBAgAABAgQIECBAgAABAgQIECBAgACBkYCDcFS2qAQIECBAgAABAgQIECBAgAABAgQIECBAgAABAgQchDZAgAABAgQIECBAgAABAgQIECBAgAABAgQIECBAYCTgIByVLSoBAgQIECBAgAABAgQIECBAgAABAgQIECBAgAABB6ENECBAgAABAgQIECBAgAABAgQIECBAgAABAgQIEBgJOAhHZYtKgAABAgQIECBAgAABAgQIECBAgAABAgQIECBAwEFoAwQIECBAgAABAgQIECBAgAABAgQIECBAgAABAgRGAg7CUdmiEiBAgAABAgQIECBAgAABAgQIECBAgAABAgQIEHAQ2gABAgQIECBAgAABAgQIECBAgAABAgQIECBAgACBkYCDcFS2qAQIECBAgAABAgQIECBAgAABAgQIECBAgAABAgQchDZAgAABAgQIECBAgAABAgQIECBAgAABAgQIECBAYCTgIByVLSoBAgQIECBAgAABAgQIECBAgAABAgQIECBAgAABB6ENECBAgAABAgQIECBAgAABAgQIECBAgAABAgQIEBgJOAhHZYtKgAABAgQIECBAgAABAgQIECBAgAABAgQIECBAwEFoAwQIECBAgAABAgQIECBAgAABAgQIECBAgAABAgRGAg7CUdmiEiBAgAABAgQIECBAgAABAgQIECBAgAABAgQIEHAQ2gABAgQIECBAgAABAgQIECBAgAABAgQIECBAgACBkYCDcFS2qAQIECBAgAABAgQIECBAgAABAgQIECBAgAABAgQchDZAgAABAgQIECBAgAABAgQIECBAgAABAgQIECBAYCTgIByVLSoBAgQIECBAgAABAgQIECBAgAABAgQIECBAgAABB6ENECBAgAABAgQIECBAgAABAgQIECBAgAABAgQIEBgJOAhHZYtKgAABAgQIECBAgAABAgQIECBAgAABAgQIECBAwEFoAwQIECBAgAABAgQIECBAgAABAgQIECBAgAABAgRGAg7CUdmiEiBAgAABAgQIECBAgAABAgQIECBAgAABAgQIEHAQ2gABAgQIECBAgAABAgQIECBAgAABAgQIECBAgACBkYCDcFS2qAQIECBAgAABAgQIECBAgAABAgQIECBAgAABAgQchDZAgAABAgQIECBAgAABAgQIECBAgAABAgQIECBAYCTgIByVLSoBAgQIECBAgAABAgQIECBAgAABAgQIECBAgAABB6ENECBAgAABAgQIECBAgAABAgQIECBAgAABAgQIEBgJOAhHZYtKgAABAgQIECBAgAABAgQIECBAgAABAgQIECBAwEFoAwQIECBAgAABAgQIECBAgAABAgQIECBAgAABAgRGAg7CUdmiEiBAgAABAgQIECBAgAABAgQIECBAgAABAgQIEHAQ2gABAgQIECBAgAABAgQIECBAgAABAgQIECBAgACBkYCDcFS2qAQIECBAgAABAgQIECBAgAABAgQIECBAgAABAgQchDZAgAABAgQIECBAgAABAgQIECBAgAABAgQIECBAYCTgIByVLSoBAgQIECBAgAABAgQIECBAgAABAgQIECBAgAABB6ENECBAgAABAgQIECBAgAABAgQIECBAgAABAgQIEBgJOAhHZYtKgAABAgQIECBAgAABAgQIECBAgAABAgQIECBAwEFoAwQIECBAgAABAgQIECBAgAABAgQIECBAgAABAgRGAg7CUdmiEiBAgAABAgQIECBAgAABAgQIECBAgAABAgQIEHAQ2gABAgQIECBAgAABAgQIECBAgAABAgQIECBAgACBkYCDcFS2qAQIECBAgAABAgQIECBAgAABAgQIECBAgAABAgQchDZAgAABAgQIECBAgAABAgQIECBAgAABAgQIECBAYCTgIByVLSoBAgQIECBAgAABAgQIECBAgAABAgQIECBAgAABB6ENECBAgAABAgQIECBAgAABAgQIECBAgAABAgQIEBgJOAhHZYtKgAABAgQIECBAgAABAgQIECBAgAABAgQIECBAwEFoAwQIECBAgAABAgQIECBAgAABAgQIECBAgAABAgRGAg7CUdmiEiBAgAABAgQIECBAgAABAgQIECBAgAABAgQIEHAQ2gABAgQIECBAgAABAgQIECBAgAABAgQIECBAgACBkYCDcFS2qAQIECBAgAABAgQIECBAgAABAgQIECBAgAABAgQchDZAgAABAgQIECBAgAABAgQIECBAgAABAgQIECBAYCTgIByVLSoBAgQIECBAgAABAgQIECBAgAABAgQIECBAgAABB6ENECBAgAABAgQIECBAgAABAgQIECBAgAABAgQIEBgJOAhHZYtKgAABAgQIECBAgAABAgQIECBAgAABAgQIECBAwEFoAwQIECBAgAABAgQIECBAgAABAgQIECBAgAABAgRGAg7CUdmiEiBAgAABAgQIECBAgAABAgQIECBAgAABAgQIEHAQ2gABAgQIECBAgAABAgQIECBAgAABAgQIECBAgACBkYCDcFS2qAQIECBAgAABAgQIECBAgAABAgQIECBAgAABAgQchDZAgAABAgQIECBAgAABAgQIECBAgAABAgQIECBAYCTgIByVLSoBAgQIECBAgAABAgQIECBAgAABAgQIECBAgAABB6ENECBAgAABAgQIECBAgAABAgQIECBAgAABAgQIEBgJOAhHZYtKgAABAgQIECBAgAABAgQIECBAgAABAgQIECBAwEFoAwQIECBAgAABAgQIECBAgAABAgQIECBAgAABAgRGAg7CUdmiEiBAgAABAgQIECBAgAABAgQIECBAgAABAgQIEHAQ2gABAgQIECBAgAABAgQIECBAgAABAgQIECBAgACBkYCDcFS2qAQIECBAgAABAgQIECBAgAABAgQIECBAgAABAgQchDZAgAABAgQIECBAgAABAgQIECBAgAABAgQIECBAYCTgIByVLSoBAgQIECBAgAABAgQIECBAgAABAgQIECBAgAABB6ENECBAgAABAgQIECBAgAABAgQIECBAgAABAgQIEBgJOAhHZYtKgAABAgQIECBAgAABAgQIECBAgAABAgQIECBAwEFoAwQIECBAgAABAgQIECBAgAABAgQIECBAgAABAgRGAg7CUdmiEiBAgAABAgQIECBAgAABAgQIECBAgAABAgQIEHAQ2gABAgQIECBAgAABAgQIECBAgAABAgQIECBAgACBkYCDcFS2qAQIECBAgAABAgQIECBAgAABAgQIECBAgAABAgQchDZAgAABAgQIECBAgAABAgQIECBAgAABAgQIECBAYCTgIByVLSoBAgQIECBAgAABAgQIECBAgAABAgQIECBAgAABB6ENECBAgAABAgQIECBAgAABAgQIECBAgAABAgQIEBgJOAhHZYtKgAABAgQIECBAgAABAgQIECBAgAABAgQIECBAwEFoAwQIECBAgAABAgQIECBAgAABAgQIECBAgAABAgRGAg7CUdmiEiBAgAABAgQIECBAgAABAgQIECBAgAABAgQIEHAQ2gABAgQIECBAgAABAgQIECBAgAABAgQIECBAgACBkYCDcFS2qAQIECBAgAABAgQIECBAgAABAgQIECBAgAABAgQchDZAgAABAgQIECBAgAABAgQIECBAgAABAgQIECBAYCTgIByVLSoBAgQIECBAgAABAgQIECBAgAABAgQIECBAgAABB6ENECBAgAABAgQIECBAgAABAgQIECBAgAABAgQIEBgJOAhHZYtKgAABAgQIECBAgAABAgQIECBAgAABAgQIECBAwEFoAwQIECBAgAABAgQIECBAgAABAgQIECBAgAABAgRGAg7CUdmiEiBAgAABAgQIECBAgAABAgQIECBAgAABAgQIEHAQ2gABAgQIECBAgAABAgQIECBAgAABAgQIECBAgACBkYCDcFS2qAQIECBAgAABAgQIECBAgAABAgQIECBAgAABAgQchDZAgAABAgQIECBAgAABAgQIECBAgAABAgQIECBAYCTgIByVLSoBAgQIECBAgAABAgQIECBAgAABAgQIECBAgAABB6ENECBAgAABAgQIECBAgAABAgQIECBAgAABAgQIEBgJOAhHZYtKgAABAgQIECBAgAABAgQIECBAgAABAgQIECBAwEFoAwQIECBAgAABAgQIECBAgAABAgQIECBAgAABAgRGAg7CUdmiEiBAgAABAgQIECBAgAABAgQIECBAgAABAgQIEHAQ2gABAgQIECBAgAABAgQIECBAgAABAgQIECBAgACBkYCDcFS2qAQIECBAgAABAgQIECBAgAABAgQIECBAgAABAgQchDZAgAABAgQIECBAgAABAgQIECBAgAABAgQIECBAYCTgIByVLSoBAgQIECBAgAABAgQIECBAgAABAgQIECBAgAABB6ENECBAgAABAgQIECBAgAABAgQIECBAgAABAgQIEBgJOAhHZYtKgAABAgQIECBAgAABAgQIECBAgAABAgQIECBAwEFoAwQIECBAgAABAgQIECBAgAABAgQIECBAgAABAgRGAg7CUdmiEiBAgAABAgQIECBAgAABAgQIECBAgAABAgQIEHAQ2gABAgQIECBAgAABAgQIECBAgAABAgQIECBAgACBkYCDcFS2qAQIECBAgAABAgQIECBAgAABAgQIECBAgAABAgQchDZAgAABAgQIECBAgAABAgQIECBAgAABAgQIECBAYCTgIByVLSoBAgQIECBAgAABAgQIECBAgAABAgQIECBAgAABB6ENECBAgAABAgQIECBAgAABAgQIECBAgAABAgQIEBgJOAhHZYtKgAABAgQIECBAgAABAgQIECBAgAABAgQIECBAwEFoAwQIECBAgAABAgQIECBAgAABAgQIECBAgAABAgRGAg7CUdmiEiBAgAABAgQIECBAgAABAgQIECBAgAABAgQIEHAQ2gABAgQIECBAgAABAgQIECBAgAABAgQIECBAgACBkYCDcFS2qAQIECBAgAABAgQIECBAgAABAgQIECBAgAABAgQchDZAgAABAgQIECBAgAABAgQIECBAgAABAgQIECBAYCTgIByVLSoBAgQIECBAgAABAgQIECBAgAABAgQIECBAgAABB6ENECBAgAABAgQIECBAgAABAgQIECBAgAABAgQIEBgJOAhHZYtKgAABAgQIECBAgAABAgQIECBAgAABAgQIECBAwEFoAwQIECBAgAABAgQIECBAgAABAgQIECBAgAABAgRGAg7CUdmiEiBAgAABAgQIECBAgAABAgQIECBAgAABAgQIEHAQ2gABAgQIECBAgAABAgQIECBAgAABAgQIECBAgACBkYCDcFS2qAQIECBAgAABAgQIECBAgAABAgQIECBAgAABAgQchDZAgAABAgQIECBAgAABAgQIECBAgAABAgQIECBAYCTgIByVLSoBAgQIECBAgAABAgQIECBAgAABAgQIECBAgAABB6ENECBAgAABAgQIECBAgAABAgQIECBAgAABAgQIEBgJOAhHZYtKgAABAgQIECBAgAABAgQIECBAgAABAgQIECBAwEFoAwQIECBAgAABAgQIECBAgAABAgQIECBAgAABAgRGAg7CUdmiEiBAgAABAgQIECBAgAABAgQIECBAgAABAgQIEHAQ2gABAgQIECBAgAABAgQIECBAgAABAgQIECBAgACBkYCDcFS2qAQIECBAgAABAgQIECBAgAABAgQIECBAgAABAgQchDZAgAABAgQIECBAgAABAgQIECBAgAABAgQIECBAYCTgIByVLSoBAgQIECBAgAABAgQIECBAgAABAgQIECBAgAABB6ENECBAgAABAgQIECBAgAABAgQIECBAgAABAgQIEBgJOAhHZYtKgAABAgQIECBAgAABAgQIECBAgAABAgQIECBAwEFoAwQIECBAgAABAgQIECBAgAABAgQIECBAgAABAgRGAg7CUdmiEiBAgAABAgQIECBAgAABAgQIECBAgAABAgQIEHAQ2gABAgQIECBAgAABAgQIECBAgAABAgQIECBAgACBkYCDcFS2qAQIECBAgAABAgQIECBAgAABAgQIECBAgAABAgQchDZAgAABAgQIECBAgAABAgQIECBAgAABAgQIECBAYCTgIByVLSoBAgQIECBAgAABAgQIECBAgAABAgQIECBAgAABB6ENECBAgAABAgQIECBAgAABAgQIECBAgAABAgQIEBgJOAhHZYtKgAABAgQIECBAgAABAgQIECBAgAABAgQIECBAwEFoAwQIECBAgAABAgQIECBAgAABAgQIECBAgAABAgRGAg7CUdmiEiBAgAABAgQIECBAgAABAgQIECBAgAABAgQIEHAQ2gABAgQIECBAgAABAgQIECBAgAABAgQIECBAgACBkYCDcFS2qAQIECBAgAABAgQIECBAgAABAgQIECBAgAABAgQchDZAgAABAgQIECBAgAABAgQIECBAgAABAgQIECBAYCTgIByVLSoBAgQIECBAgAABAgQIECBAgAABAgQIECBAgAABB6ENECBAgAABAgQIECBAgAABAgQIECBAgAABAgQIEBgJOAhHZYtKgAABAgQIECBAgAABAgQIECBAgAABAgQIECBAwEFoAwQIECBAgAABAgQIECBAgAABAgQIECBAgAABAgRGAg7CUdmiEiBAgAABAgQIECBAgAABAgQIECBAgAABAgQIEHAQ2gABAgQIECBAgAABAgQIECBAgAABAgQIECBAgACBkYCDcFS2qAQIECBAgAABAgQIECBAgAABAgQIECBAgAABAgQchDZAgAABAgQIECBAgAABAgQIECBAgAABAgQIECBAYCTgIByVLSoBAgQIECBAgAABAgQIECBAgAABAgQIECBAgAABB6ENECBAgAABAgQIECBAgAABAgQIECBAgAABAgQIEBgJOAhHZYtKgAABAgQIECBAgAABAgQIECBAgAABAgQIECBAwEFoAwQIECBAgAABAgQIECBAgAABAgQIECBAgAABAgRGAg7CUdmiEiBAgAABAgQIECBAgAABAgQIECBAgAABAgQIEHAQ2gABAgQIECBAgAABAgQIECBAgAABAgQIECBAgACBkYCDcFS2qAQIECBAgAABAgQIECBAgAABAgQIECBAgAABAgQchDZAgAABAgQIECBAgAABAgQIECBAgAABAgQIECBAYCTgIByVLSoBAgQIECBAgAABAgQIECBAgAABAgQIECBAgAABB6ENECBAgAABAgQIECBAgAABAgQIECBAgAABAgQIEBgJOAhHZYtKgAABAgQIECBAgAABAgQIECBAgAABAgQIECBAwEFoAwQIECBAgAABAgQIECBAgAABAgQIECBAgAABAgRGAg7CUdmiEiBAgAABAgQIECBAgAABAgQIECBAgAABAgQIEHAQ2gABAgQIECBAgAABAgQIECBAgAABAgQIECBAgACBkYCDcFS2qAQIECBAgAABAgQIECBAgAABAgQIECBAgAABAgQchDZAgAABAgQIECBAgAABAgQIECBAgAABAgQIECBAYCTgIByVLSoBAgQIECBAgAABAgQIECBAgAABAgQIECBAgAABB6F7bBn8AAAQ9UlEQVQNECBAgAABAgQIECBAgAABAgQIECBAgAABAgQIEBgJOAhHZYtKgAABAgQIECBAgAABAgQIECBAgAABAgQIECBAwEFoAwQIECBAgAABAgQIECBAgAABAgQIECBAgAABAgRGAg7CUdmiEiBAgAABAgQIECBAgAABAgQIECBAgAABAgQIEHAQ2gABAgQIECBAgAABAgQIECBAgAABAgQIECBAgACBkYCDcFS2qAQIECBAgAABAgQIECBAgAABAgQIECBAgAABAgQchDZAgAABAgQIECBAgAABAgQIECBAgAABAgQIECBAYCTgIByVLSoBAgQIECBAgAABAgQIECBAgAABAgQIECBAgAABB6ENECBAgAABAgQIECBAgAABAgQIECBAgAABAgQIEBgJOAhHZYtKgAABAgQIECBAgAABAgQIECBAgAABAgQIECBAwEFoAwQIECBAgAABAgQIECBAgAABAgQIECBAgAABAgRGAg7CUdmiEiBAgAABAgQIECBAgAABAgQIECBAgAABAgQIEHAQ2gABAgQIECBAgAABAgQIECBAgAABAgQIECBAgACBkYCDcFS2qAQIECBAgAABAgQIECBAgAABAgQIECBAgAABAgQchDZAgAABAgQIECBAgAABAgQIECBAgAABAgQIECBAYCTgIByVLSoBAgQIECBAgAABAgQIECBAgAABAgQIECBAgAABB6ENECBAgAABAgQIECBAgAABAgQIECBAgAABAgQIEBgJOAhHZYtKgAABAgQIECBAgAABAgQIECBAgAABAgQIECBAwEFoAwQIECBAgAABAgQIECBAgAABAgQIECBAgAABAgRGAg7CUdmiEiBAgAABAgQIECBAgAABAgQIECBAgAABAgQIEHAQ2gABAgQIECBAgAABAgQIECBAgAABAgQIECBAgACBkYCDcFS2qAQIECBAgAABAgQIECBAgAABAgQIECBAgAABAgQchDZAgAABAgQIECBAgAABAgQIECBAgAABAgQIECBAYCTgIByVLSoBAgQIECBAgAABAgQIECBAgAABAgQIECBAgAABB6ENECBAgAABAgQIECBAgAABAgQIECBAgAABAgQIEBgJOAhHZYtKgAABAgQIECBAgAABAgQIECBAgAABAgQIECBAwEFoAwQIECBAgAABAgQIECBAgAABAgQIECBAgAABAgRGAg7CUdmiEiBAgAABAgQIECBAgAABAgQIECBAgAABAgQIEHAQ2gABAgQIECBAgAABAgQIECBAgAABAgQIECBAgACBkYCDcFS2qAQIECBAgAABAgQIECBAgAABAgQIECBAgAABAgQchDZAgAABAgQIECBAgAABAgQIECBAgAABAgQIECBAYCTgIByVLSoBAgQIECBAgAABAgQIECBAgAABAgQIECBAgAABB6ENECBAgAABAgQIECBAgAABAgQIECBAgAABAgQIEBgJOAhHZYtKgAABAgQIECBAgAABAgQIECBAgAABAgQIECBAwEFoAwQIECBAgAABAgQIECBAgAABAgQIECBAgAABAgRGAg7CUdmiEiBAgAABAgQIECBAgAABAgQIECBAgAABAgQIEHAQ2gABAgQIECBAgAABAgQIECBAgAABAgQIECBAgACBkYCDcFS2qAQIECBAgAABAgQIECBAgAABAgQIECBAgAABAgQchDZAgAABAgQIECBAgAABAgQIECBAgAABAgQIECBAYCTgIByVLSoBAgQIECBAgAABAgQIECBAgAABAgQIECBAgAABB6ENECBAgAABAgQIECBAgAABAgQIECBAgAABAgQIEBgJOAhHZYtKgAABAgQIECBAgAABAgQIECBAgAABAgQIECBAwEFoAwQIECBAgAABAgQIECBAgAABAgQIECBAgAABAgRGAg7CUdmiEiBAgAABAgQIECBAgAABAgQIECBAgAABAgQIEHAQ2gABAgQIECBAgAABAgQIECBAgAABAgQIECBAgACBkYCDcFS2qAQIECBAgAABAgQIECBAgAABAgQIECBAgAABAgQchDZAgAABAgQIECBAgAABAgQIECBAgAABAgQIECBAYCTgIByVLSoBAgQIECBAgAABAgQIECBAgAABAgQIECBAgAABB6ENECBAgAABAgQIECBAgAABAgQIECBAgAABAgQIEBgJOAhHZYtKgAABAgQIECBAgAABAgQIECBAgAABAgQIECBAwEFoAwQIECBAgAABAgQIECBAgAABAgQIECBAgAABAgRGAg7CUdmiEiBAgAABAgQIECBAgAABAgQIECBAgAABAgQIEHAQ2gABAgQIECBAgAABAgQIECBAgAABAgQIECBAgACBkYCDcFS2qAQIECBAgAABAgQIECBAgAABAgQIECBAgAABAgQchDZAgAABAgQIECBAgAABAgQIECBAgAABAgQIECBAYCTgIByVLSoBAgQIECBAgAABAgQIECBAgAABAgQIECBAgAABB6ENECBAgAABAgQIECBAgAABAgQIECBAgAABAgQIEBgJOAhHZYtKgAABAgQIECBAgAABAgQIECBAgAABAgQIECBAwEFoAwQIECBAgAABAgQIECBAgAABAgQIECBAgAABAgRGAg7CUdmiEiBAgAABAgQIECBAgAABAgQIECBAgAABAgQIEHAQ2gABAgQIECBAgAABAgQIECBAgAABAgQIECBAgACBkYCDcFS2qAQIECBAgAABAgQIECBAgAABAgQIECBAgAABAgQchDZAgAABAgQIECBAgAABAgQIECBAgAABAgQIECBAYCTgIByVLSoBAgQIECBAgAABAgQIECBAgAABAgQIECBAgAABB6ENECBAgAABAgQIECBAgAABAgQIECBAgAABAgQIEBgJOAhHZYtKgAABAgQIECBAgAABAgQIECBAgAABAgQIECBAwEFoAwQIECBAgAABAgQIECBAgAABAgQIECBAgAABAgRGAg7CUdmiEiBAgAABAgQIECBAgAABAgQIECBAgAABAgQIEHAQ2gABAgQIECBAgAABAgQIECBAgAABAgQIECBAgACBkYCDcFS2qAQIECBAgAABAgQIECBAgAABAgQIECBAgAABAgQchDZAgAABAgQIECBAgAABAgQIECBAgAABAgQIECBAYCTgIByVLSoBAgQIECBAgAABAgQIECBAgAABAgQIECBAgAABB6ENECBAgAABAgQIECBAgAABAgQIECBAgAABAgQIEBgJOAhHZYtKgAABAgQIECBAgAABAgQIECBAgAABAgQIECBAwEFoAwQIECBAgAABAgQIECBAgAABAgQIECBAgAABAgRGAg7CUdmiEiBAgAABAgQIECBAgAABAgQIECBAgAABAgQIEHAQ2gABAgQIECBAgAABAgQIECBAgAABAgQIECBAgACBkYCDcFS2qAQIECBAgAABAgQIECBAgAABAgQIECBAgAABAgQchDZAgAABAgQIECBAgAABAgQIECBAgAABAgQIECBAYCTgIByVLSoBAgQIECBAgAABAgQIECBAgAABAgQIECBAgAABB6ENECBAgAABAgQIECBAgAABAgQIECBAgAABAgQIEBgJOAhHZYtKgAABAgQIECBAgAABAgQIECBAgAABAgQIECBAwEFoAwQIECBAgAABAgQIECBAgAABAgQIECBAgAABAgRGAg7CUdmiEiBAgAABAgQIECBAgAABAgQIECBAgAABAgQIEHAQ2gABAgQIECBAgAABAgQIECBAgAABAgQIECBAgACBkYCDcFS2qAQIECBAgAABAgQIECBAgAABAgQIECBAgAABAgQchDZAgAABAgQIECBAgAABAgQIECBAgAABAgQIECBAYCTgIByVLSoBAgQIECBAgAABAgQIECBAgAABAgQIECBAgAABB6ENECBAgAABAgQIECBAgAABAgQIECBAgAABAgQIEBgJOAhHZYtKgAABAgQIECBAgAABAgQIECBAgAABAgQIECBAwEFoAwQIECBAgAABAgQIECBAgAABAgQIECBAgAABAgRGAg7CUdmiEiBAgAABAgQIECBAgAABAgQIECBAgAABAgQIEHAQ2gABAgQIECBAgAABAgQIECBAgAABAgQIECBAgACBkYCDcFS2qAQIECBAgAABAgQIECBAgAABAgQIECBAgAABAgQchDZAgAABAgQIECBAgAABAgQIECBAgAABAgQIECBAYCTgIByVLSoBAgQIECBAgAABAgQIECBAgAABAgQIECBAgAABB6ENECBAgAABAgQIECBAgAABAgQIECBAgAABAgQIEBgJOAhHZYtKgAABAgQIECBAgAABAgQIECBAgAABAgQIECBAwEFoAwQIECBAgAABAgQIECBAgAABAgQIECBAgAABAgRGAg7CUdmiEiBAgAABAgQIECBAgAABAgQIECBAgAABAgQIEHAQ2gABAgQIECBAgAABAgQIECBAgAABAgQIECBAgACBkYCDcFS2qAQIECBAgAABAgQIECBAgAABAgQIECBAgAABAgQchDZAgAABAgQIECBAgAABAgQIECBAgAABAgQIECBAYCTgIByVLSoBAgQIECBAgAABAgQIECBAgAABAgQIECBAgAABB6ENECBAgAABAgQIECBAgAABAgQIECBAgAABAgQIEBgJOAhHZYtKgAABAgQIECBAgAABAgQIECBAgAABAgQIECBAwEFoAwQIECBAgAABAgQIECBAgAABAgQIECBAgAABAgRGAg7CUdmiEiBAgAABAgQIECBAgAABAgQIECBAgAABAgQIEHAQ2gABAgQIECBAgAABAgQIECBAgAABAgQIECBAgACBkYCDcFS2qAQIECBAgAABAgQIECBAgAABAgQIECBAgAABAgQchDZAgAABAgQIECBAgAABAgQIECBAgAABAgQIECBAYCTgIByVLSoBAgQIECBAgAABAgQIECBAgAABAgQIECBAgAABB6ENECBAgAABAgQIECBAgAABAgQIECBAgAABAgQIEBgJOAhHZYtKgAABAgQIECBAgAABAgQIECBAgAABAgQIECBAwEFoAwQIECBAgAABAgQIECBAgAABAgQIECBAgAABAgRGAg7CUdmiEiBAgAABAgQIECBAgAABAgQIECBAgAABAgQIEHAQ2gABAgQIECBAgAABAgQIECBAgAABAgQIECBAgACBkYCDcFS2qAQIECBAgAABAgQIECBAgAABAgQIECBAgAABAgQchDZAgAABAgQIECBAgAABAgQIECBAgAABAgQIECBAYCTgIByVLSoBAgQIECBAgAABAgQIECBAgAABAgQIECBAgAABB6ENECBAgAABAgQIECBAgAABAgQIECBAgAABAgQIEBgJOAhHZYtKgAABAgQIECBAgAABAgQIECBAgAABAgQIECBAwEFoAwQIECBAgAABAgQIECBAgAABAgQIECBAgAABAgRGAg7CUdmiEiBAgAABAgQIECBAgAABAgQIECBAgAABAgQIEHAQ2gABAgQIECBAgAABAgQIECBAgAABAgQIECBAgACBkYCDcFS2qAQIECBAgAABAgQIECBAgAABAgQIECBAgAABAgQchDZAgAABAgQIECBAgAABAgQIECBAgAABAgQIECBAYCTgIByVLSoBAgQIECBAgAABAgQIECBAgAABAgQIECBAgAABB6ENECBAgAABAgQIECBAgAABAgQIECBAgAABAgQIEBgJOAhHZYtKgAABAgQIECBAgAABAgQIECBAgAABAgQIECBAIH+UBkHDdHBjAAAAAElFTkSuQmCC\" preserveAspectRatio=\"none\" x=\"0\" y=\"0\" width=\"900px\" height=\"800px\"/></g><defs id=\"topdefs-c860e9\"><g class=\"clips\"/><clipPath id=\"legendc860e9\"><rect width=\"211\" height=\"48\" x=\"0\" y=\"0\"/></clipPath></defs><g class=\"layer-above\"><g class=\"imagelayer\"/><g class=\"shapelayer\"/></g><g class=\"infolayer\"><g class=\"legend\" pointer-events=\"all\" transform=\"translate(372,751.6)\"><rect class=\"bg\" shape-rendering=\"crispEdges\" width=\"211\" height=\"48\" x=\"0\" y=\"0\" style=\"stroke: rgb(68, 68, 68); stroke-opacity: 1; fill: rgb(255, 255, 255); fill-opacity: 1; stroke-width: 0px;\"/><g class=\"scrollbox\" transform=\"\" clip-path=\"url(#legendc860e9)\"><g class=\"groups\" transform=\"\"><g class=\"traces\" transform=\"translate(0,14.5)\" style=\"opacity: 1;\"><text class=\"legendtext\" text-anchor=\"start\" x=\"40\" y=\"4.680000000000001\" style=\"font-family: 'Open Sans', verdana, arial, sans-serif; font-size: 12px; fill: rgb(42, 63, 95); fill-opacity: 1; white-space: pre;\">mean_reward_monte_carlo</text><g class=\"layers\" style=\"opacity: 1;\"><g class=\"legendfill\"/><g class=\"legendlines\"/><g class=\"legendsymbols\"><g class=\"legendpoints\"><path class=\"scatterpts\" transform=\"translate(20,0)\" d=\"M1,0A1,1 0 1,1 0,-1A1,1 0 0,1 1,0Z\" style=\"opacity: 1; stroke-width: 0px; fill: rgb(255, 0, 0); fill-opacity: 1;\"/></g></g></g><rect class=\"legendtoggle\" x=\"0\" y=\"-9.5\" width=\"208.484375\" height=\"19\" style=\"fill: rgb(0, 0, 0); fill-opacity: 0;\"/></g><g class=\"traces\" transform=\"translate(0,33.5)\" style=\"opacity: 1;\"><text class=\"legendtext\" text-anchor=\"start\" x=\"40\" y=\"4.680000000000001\" style=\"font-family: 'Open Sans', verdana, arial, sans-serif; font-size: 12px; fill: rgb(42, 63, 95); fill-opacity: 1; white-space: pre;\">mean_reward_q</text><g class=\"layers\" style=\"opacity: 1;\"><g class=\"legendfill\"/><g class=\"legendlines\"/><g class=\"legendsymbols\"><g class=\"legendpoints\"><path class=\"scatterpts\" transform=\"translate(20,0)\" d=\"M1,0A1,1 0 1,1 0,-1A1,1 0 0,1 1,0Z\" style=\"opacity: 1; stroke-width: 0px; fill: rgb(0, 0, 0); fill-opacity: 1;\"/></g></g></g><rect class=\"legendtoggle\" x=\"0\" y=\"-9.5\" width=\"140.75\" height=\"19\" style=\"fill: rgb(0, 0, 0); fill-opacity: 0;\"/></g></g></g><rect class=\"scrollbar\" rx=\"20\" ry=\"3\" width=\"0\" height=\"0\" x=\"0\" y=\"0\" style=\"fill: rgb(128, 139, 164); fill-opacity: 1;\"/></g><g class=\"g-gtitle\"><text class=\"gtitle\" x=\"45\" y=\"15\" text-anchor=\"start\" dy=\"0em\" style=\"font-family: 'Open Sans', verdana, arial, sans-serif; font-size: 17px; fill: rgb(42, 63, 95); opacity: 1; font-weight: normal; white-space: pre;\">Eps greedy Q learning strategy</text></g><g class=\"g-xtitle\"><text class=\"xtitle\" x=\"477.5\" y=\"726.3\" text-anchor=\"middle\" style=\"font-family: 'Open Sans', verdana, arial, sans-serif; font-size: 14px; fill: rgb(42, 63, 95); opacity: 1; font-weight: normal; white-space: pre;\">Games</text></g><g class=\"g-ytitle\" transform=\"translate(14.2529296875,0)\"><text class=\"ytitle\" transform=\"rotate(-90,-0.25312499999999716,358)\" x=\"-0.25312499999999716\" y=\"358\" text-anchor=\"middle\" style=\"font-family: 'Open Sans', verdana, arial, sans-serif; font-size: 14px; fill: rgb(42, 63, 95); opacity: 1; font-weight: normal; white-space: pre;\">Mean rewards</text></g></g></svg>"
      ]
     },
     "metadata": {},
     "output_type": "display_data"
    }
   ],
   "source": [
    "import plotly.graph_objects as go\n",
    "import pandas as pd\n",
    "\n",
    "fig2 = px.scatter(mean_reward_q, \n",
    "                  trendline=\"ols\", \n",
    "                  trendline_color_override='black',\n",
    "                  trendline_scope='trace', \n",
    "                  color_discrete_sequence=['black'],\n",
    "                )\n",
    "\n",
    "fig2.update_traces(mode='markers', marker_size=2)\n",
    "\n",
    "\n",
    "fig1 = px.scatter(mean_reward_monte_carlo, \n",
    "                  trendline=\"ols\", \n",
    "                  trendline_color_override='red', \n",
    "                  trendline_scope='trace',\n",
    "                  color_discrete_sequence=['red'],\n",
    "                )\n",
    "\n",
    "fig1.update_traces(mode='markers', marker_size=2)\n",
    "\n",
    "\n",
    "fig = go.Figure(data = fig1.data + fig2.data)\n",
    "\n",
    "fig.update_traces(\n",
    "    line=dict(dash=\"dot\", width=4),\n",
    "    selector=dict(type=\"scatter\", mode=\"lines\"))\n",
    "\n",
    "line_size = 3\n",
    "fig.data[1].marker.size=line_size\n",
    "fig.data[3].marker.size=line_size\n",
    "\n",
    "fig.data[0].name=\"mean_reward_monte_carlo\"\n",
    "fig.data[2].name=\"mean_reward_q\"\n",
    "\n",
    "fig.update_layout(legend_orientation=\"h\",\n",
    "                  legend=dict(x=.5, xanchor=\"center\"),\n",
    "                  title=\"Eps greedy Q learning strategy\",\n",
    "                  xaxis_title=\"Games\",\n",
    "                  yaxis_title=\"Mean rewards\",\n",
    "                  margin=dict(l=0, r=0, t=30, b=0))\n",
    "\n",
    "\n",
    "fig.show(renderer=\"svg\", width=900, height=800)"
   ]
  },
  {
   "cell_type": "markdown",
   "id": "d18322dc",
   "metadata": {},
   "source": [
    "**На графике выше видно, что линия тренда (то есть средний выигрыш) при $\\epsilon$ жадной Q стратегии лучше (в среднем за игру проигрываем уже 0.18031**"
   ]
  },
  {
   "cell_type": "markdown",
   "id": "d99e76c5",
   "metadata": {},
   "source": [
    "3. Сколько выигрывает казино у вашей стратегии? Нарисуйте графики среднего дохода вашего метода (усреднённого по крайней мере по 100000 раздач, а лучше больше) по ходу обучения. Попробуйте подобрать оптимальные гиперпараметры.\n",
    "\n",
    "Попробуем подобрать оптимальные параметры $\\alpha$, $\\epsilon$, $\\gamma$"
   ]
  },
  {
   "cell_type": "code",
   "execution_count": 268,
   "id": "7ff3fe82",
   "metadata": {},
   "outputs": [],
   "source": [
    "# eps_greedy_Q_learning_strategy(alpha=0.1, epsilon=0.1, gamma=0.95, N=10000, debug=False):\n",
    "def greed_searh_params(N=10000,\n",
    "                       alphas=np.linspace(0.1, 1, 10), \n",
    "                       epsilons=np.linspace(0, 1, 10),\n",
    "                       gammas=np.linspace(0.5, 1, 10),\n",
    "                      ):\n",
    "    best_reward = -1\n",
    "    best_alpha = 0\n",
    "    best_epsilon = 0\n",
    "    best_gamma = 0\n",
    "\n",
    "    alphas_epsilons_meshgrid = np.meshgrid(alphas, epsilons)\n",
    "    alphas_gammas_meshgrid = np.meshgrid(alphas, best_gamma)\n",
    "    epsilons_gammas_meshgrid = np.meshgrid(alphas, epsilons)\n",
    "    rewards = np.zeros_like(alphas_epsilons_meshgrid)\n",
    "\n",
    "    for i, alpha in enumerate(alphas):\n",
    "        for j, epsilon in enumerate(epsilons):\n",
    "            for k, gamma in enumerate(gammas):\n",
    "                total_reward_q, mean_reward_q, Q = eps_greedy_Q_learning_strategy(N=N,\n",
    "                                                                                  alpha=alpha,\n",
    "                                                                                  gamma=gamma,\n",
    "                                                                                  epsilon=epsilon)\n",
    "                mean_reward = np.sum(total_reward_q) / N\n",
    "                rewards[i][j] = mean_reward\n",
    "                if mean_reward > best_reward:\n",
    "                    best_reward = mean_reward\n",
    "                    best_alpha = alpha\n",
    "                    best_gamma = gamma\n",
    "                    best_epsilon = epsilon\n",
    "\n",
    "                \n",
    "    print(f\"Лучший средний выигрыш: {best_reward} (gamma: {best_gamma}, epsilon: {best_epsilon})\")\n",
    "    return best_alpha, best_epsilon, best_gamma, XX, YY, ZZ, rewards"
   ]
  },
  {
   "cell_type": "code",
   "execution_count": 269,
   "id": "065b3af4",
   "metadata": {},
   "outputs": [
    {
     "name": "stdout",
     "output_type": "stream",
     "text": [
      "Лучший средний выигрыш: 0.11 (gamma: 0.6666666666666666, epsilon: 0.4444444444444444)\n"
     ]
    }
   ],
   "source": [
    "best_alpha, best_epsilon, best_gamma, XX, YY, ZZ, rewards = greed_searh_params(N=100)"
   ]
  },
  {
   "cell_type": "code",
   "execution_count": 273,
   "id": "919725e2",
   "metadata": {},
   "outputs": [
    {
     "data": {
      "application/vnd.plotly.v1+json": {
       "config": {
        "plotlyServerURL": "https://plot.ly"
       },
       "data": [
        {
         "type": "surface",
         "x": [
          [
           0.1,
           0.1,
           0.1,
           0.1,
           0.1,
           0.1,
           0.1,
           0.1,
           0.1,
           0.1
          ],
          [
           0.2,
           0.2,
           0.2,
           0.2,
           0.2,
           0.2,
           0.2,
           0.2,
           0.2,
           0.2
          ],
          [
           0.30000000000000004,
           0.30000000000000004,
           0.30000000000000004,
           0.30000000000000004,
           0.30000000000000004,
           0.30000000000000004,
           0.30000000000000004,
           0.30000000000000004,
           0.30000000000000004,
           0.30000000000000004
          ],
          [
           0.4,
           0.4,
           0.4,
           0.4,
           0.4,
           0.4,
           0.4,
           0.4,
           0.4,
           0.4
          ],
          [
           0.5,
           0.5,
           0.5,
           0.5,
           0.5,
           0.5,
           0.5,
           0.5,
           0.5,
           0.5
          ],
          [
           0.6,
           0.6,
           0.6,
           0.6,
           0.6,
           0.6,
           0.6,
           0.6,
           0.6,
           0.6
          ],
          [
           0.7000000000000001,
           0.7000000000000001,
           0.7000000000000001,
           0.7000000000000001,
           0.7000000000000001,
           0.7000000000000001,
           0.7000000000000001,
           0.7000000000000001,
           0.7000000000000001,
           0.7000000000000001
          ],
          [
           0.8,
           0.8,
           0.8,
           0.8,
           0.8,
           0.8,
           0.8,
           0.8,
           0.8,
           0.8
          ],
          [
           0.9,
           0.9,
           0.9,
           0.9,
           0.9,
           0.9,
           0.9,
           0.9,
           0.9,
           0.9
          ],
          [
           1,
           1,
           1,
           1,
           1,
           1,
           1,
           1,
           1,
           1
          ]
         ],
         "y": [
          [
           0,
           0,
           0,
           0,
           0,
           0,
           0,
           0,
           0,
           0
          ],
          [
           0,
           0,
           0,
           0,
           0,
           0,
           0,
           0,
           0,
           0
          ],
          [
           0,
           0,
           0,
           0,
           0,
           0,
           0,
           0,
           0,
           0
          ],
          [
           0,
           0,
           0,
           0,
           0,
           0,
           0,
           0,
           0,
           0
          ],
          [
           0,
           0,
           0,
           0,
           0,
           0,
           0,
           0,
           0,
           0
          ],
          [
           0,
           0,
           0,
           0,
           0,
           0,
           0,
           0,
           0,
           0
          ],
          [
           0,
           0,
           0,
           0,
           0,
           0,
           0,
           0,
           0,
           0
          ],
          [
           0,
           0,
           0,
           0,
           0,
           0,
           0,
           0,
           0,
           0
          ],
          [
           0,
           0,
           0,
           0,
           0,
           0,
           0,
           0,
           0,
           0
          ],
          [
           0,
           0,
           0,
           0,
           0,
           0,
           0,
           0,
           0,
           0
          ]
         ],
         "z": [
          [
           [
            -0.12,
            -0.12,
            -0.12,
            -0.12,
            -0.12,
            -0.12,
            -0.12,
            -0.12,
            -0.12,
            -0.12
           ],
           [
            -0.29,
            -0.29,
            -0.29,
            -0.29,
            -0.29,
            -0.29,
            -0.29,
            -0.29,
            -0.29,
            -0.29
           ],
           [
            -0.18,
            -0.18,
            -0.18,
            -0.18,
            -0.18,
            -0.18,
            -0.18,
            -0.18,
            -0.18,
            -0.18
           ],
           [
            -0.25,
            -0.25,
            -0.25,
            -0.25,
            -0.25,
            -0.25,
            -0.25,
            -0.25,
            -0.25,
            -0.25
           ],
           [
            -0.22,
            -0.22,
            -0.22,
            -0.22,
            -0.22,
            -0.22,
            -0.22,
            -0.22,
            -0.22,
            -0.22
           ],
           [
            -0.53,
            -0.53,
            -0.53,
            -0.53,
            -0.53,
            -0.53,
            -0.53,
            -0.53,
            -0.53,
            -0.53
           ],
           [
            -0.25,
            -0.25,
            -0.25,
            -0.25,
            -0.25,
            -0.25,
            -0.25,
            -0.25,
            -0.25,
            -0.25
           ],
           [
            -0.21,
            -0.21,
            -0.21,
            -0.21,
            -0.21,
            -0.21,
            -0.21,
            -0.21,
            -0.21,
            -0.21
           ],
           [
            -0.23,
            -0.23,
            -0.23,
            -0.23,
            -0.23,
            -0.23,
            -0.23,
            -0.23,
            -0.23,
            -0.23
           ],
           [
            -0.21,
            -0.21,
            -0.21,
            -0.21,
            -0.21,
            -0.21,
            -0.21,
            -0.21,
            -0.21,
            -0.21
           ]
          ],
          [
           [
            -0.06,
            -0.06,
            -0.06,
            -0.06,
            -0.06,
            -0.06,
            -0.06,
            -0.06,
            -0.06,
            -0.06
           ],
           [
            0,
            0,
            0,
            0,
            0,
            0,
            0,
            0,
            0,
            0
           ],
           [
            -0.14,
            -0.14,
            -0.14,
            -0.14,
            -0.14,
            -0.14,
            -0.14,
            -0.14,
            -0.14,
            -0.14
           ],
           [
            -0.18,
            -0.18,
            -0.18,
            -0.18,
            -0.18,
            -0.18,
            -0.18,
            -0.18,
            -0.18,
            -0.18
           ],
           [
            -0.22,
            -0.22,
            -0.22,
            -0.22,
            -0.22,
            -0.22,
            -0.22,
            -0.22,
            -0.22,
            -0.22
           ],
           [
            -0.14,
            -0.14,
            -0.14,
            -0.14,
            -0.14,
            -0.14,
            -0.14,
            -0.14,
            -0.14,
            -0.14
           ],
           [
            -0.36,
            -0.36,
            -0.36,
            -0.36,
            -0.36,
            -0.36,
            -0.36,
            -0.36,
            -0.36,
            -0.36
           ],
           [
            -0.27,
            -0.27,
            -0.27,
            -0.27,
            -0.27,
            -0.27,
            -0.27,
            -0.27,
            -0.27,
            -0.27
           ],
           [
            -0.19,
            -0.19,
            -0.19,
            -0.19,
            -0.19,
            -0.19,
            -0.19,
            -0.19,
            -0.19,
            -0.19
           ],
           [
            -0.36,
            -0.36,
            -0.36,
            -0.36,
            -0.36,
            -0.36,
            -0.36,
            -0.36,
            -0.36,
            -0.36
           ]
          ],
          [
           [
            -0.33,
            -0.33,
            -0.33,
            -0.33,
            -0.33,
            -0.33,
            -0.33,
            -0.33,
            -0.33,
            -0.33
           ],
           [
            -0.13,
            -0.13,
            -0.13,
            -0.13,
            -0.13,
            -0.13,
            -0.13,
            -0.13,
            -0.13,
            -0.13
           ],
           [
            -0.26,
            -0.26,
            -0.26,
            -0.26,
            -0.26,
            -0.26,
            -0.26,
            -0.26,
            -0.26,
            -0.26
           ],
           [
            -0.14,
            -0.14,
            -0.14,
            -0.14,
            -0.14,
            -0.14,
            -0.14,
            -0.14,
            -0.14,
            -0.14
           ],
           [
            -0.33,
            -0.33,
            -0.33,
            -0.33,
            -0.33,
            -0.33,
            -0.33,
            -0.33,
            -0.33,
            -0.33
           ],
           [
            -0.24,
            -0.24,
            -0.24,
            -0.24,
            -0.24,
            -0.24,
            -0.24,
            -0.24,
            -0.24,
            -0.24
           ],
           [
            -0.29,
            -0.29,
            -0.29,
            -0.29,
            -0.29,
            -0.29,
            -0.29,
            -0.29,
            -0.29,
            -0.29
           ],
           [
            -0.29,
            -0.29,
            -0.29,
            -0.29,
            -0.29,
            -0.29,
            -0.29,
            -0.29,
            -0.29,
            -0.29
           ],
           [
            -0.42,
            -0.42,
            -0.42,
            -0.42,
            -0.42,
            -0.42,
            -0.42,
            -0.42,
            -0.42,
            -0.42
           ],
           [
            -0.33,
            -0.33,
            -0.33,
            -0.33,
            -0.33,
            -0.33,
            -0.33,
            -0.33,
            -0.33,
            -0.33
           ]
          ],
          [
           [
            -0.18,
            -0.18,
            -0.18,
            -0.18,
            -0.18,
            -0.18,
            -0.18,
            -0.18,
            -0.18,
            -0.18
           ],
           [
            -0.08,
            -0.08,
            -0.08,
            -0.08,
            -0.08,
            -0.08,
            -0.08,
            -0.08,
            -0.08,
            -0.08
           ],
           [
            -0.22,
            -0.22,
            -0.22,
            -0.22,
            -0.22,
            -0.22,
            -0.22,
            -0.22,
            -0.22,
            -0.22
           ],
           [
            -0.39,
            -0.39,
            -0.39,
            -0.39,
            -0.39,
            -0.39,
            -0.39,
            -0.39,
            -0.39,
            -0.39
           ],
           [
            -0.32,
            -0.32,
            -0.32,
            -0.32,
            -0.32,
            -0.32,
            -0.32,
            -0.32,
            -0.32,
            -0.32
           ],
           [
            -0.48,
            -0.48,
            -0.48,
            -0.48,
            -0.48,
            -0.48,
            -0.48,
            -0.48,
            -0.48,
            -0.48
           ],
           [
            -0.32,
            -0.32,
            -0.32,
            -0.32,
            -0.32,
            -0.32,
            -0.32,
            -0.32,
            -0.32,
            -0.32
           ],
           [
            -0.34,
            -0.34,
            -0.34,
            -0.34,
            -0.34,
            -0.34,
            -0.34,
            -0.34,
            -0.34,
            -0.34
           ],
           [
            -0.39,
            -0.39,
            -0.39,
            -0.39,
            -0.39,
            -0.39,
            -0.39,
            -0.39,
            -0.39,
            -0.39
           ],
           [
            -0.27,
            -0.27,
            -0.27,
            -0.27,
            -0.27,
            -0.27,
            -0.27,
            -0.27,
            -0.27,
            -0.27
           ]
          ],
          [
           [
            -0.15,
            -0.15,
            -0.15,
            -0.15,
            -0.15,
            -0.15,
            -0.15,
            -0.15,
            -0.15,
            -0.15
           ],
           [
            -0.22,
            -0.22,
            -0.22,
            -0.22,
            -0.22,
            -0.22,
            -0.22,
            -0.22,
            -0.22,
            -0.22
           ],
           [
            -0.18,
            -0.18,
            -0.18,
            -0.18,
            -0.18,
            -0.18,
            -0.18,
            -0.18,
            -0.18,
            -0.18
           ],
           [
            -0.1,
            -0.1,
            -0.1,
            -0.1,
            -0.1,
            -0.1,
            -0.1,
            -0.1,
            -0.1,
            -0.1
           ],
           [
            -0.33,
            -0.33,
            -0.33,
            -0.33,
            -0.33,
            -0.33,
            -0.33,
            -0.33,
            -0.33,
            -0.33
           ],
           [
            -0.23,
            -0.23,
            -0.23,
            -0.23,
            -0.23,
            -0.23,
            -0.23,
            -0.23,
            -0.23,
            -0.23
           ],
           [
            -0.22,
            -0.22,
            -0.22,
            -0.22,
            -0.22,
            -0.22,
            -0.22,
            -0.22,
            -0.22,
            -0.22
           ],
           [
            -0.36,
            -0.36,
            -0.36,
            -0.36,
            -0.36,
            -0.36,
            -0.36,
            -0.36,
            -0.36,
            -0.36
           ],
           [
            -0.24,
            -0.24,
            -0.24,
            -0.24,
            -0.24,
            -0.24,
            -0.24,
            -0.24,
            -0.24,
            -0.24
           ],
           [
            -0.5,
            -0.5,
            -0.5,
            -0.5,
            -0.5,
            -0.5,
            -0.5,
            -0.5,
            -0.5,
            -0.5
           ]
          ],
          [
           [
            -0.13,
            -0.13,
            -0.13,
            -0.13,
            -0.13,
            -0.13,
            -0.13,
            -0.13,
            -0.13,
            -0.13
           ],
           [
            -0.19,
            -0.19,
            -0.19,
            -0.19,
            -0.19,
            -0.19,
            -0.19,
            -0.19,
            -0.19,
            -0.19
           ],
           [
            -0.35,
            -0.35,
            -0.35,
            -0.35,
            -0.35,
            -0.35,
            -0.35,
            -0.35,
            -0.35,
            -0.35
           ],
           [
            -0.38,
            -0.38,
            -0.38,
            -0.38,
            -0.38,
            -0.38,
            -0.38,
            -0.38,
            -0.38,
            -0.38
           ],
           [
            -0.13,
            -0.13,
            -0.13,
            -0.13,
            -0.13,
            -0.13,
            -0.13,
            -0.13,
            -0.13,
            -0.13
           ],
           [
            -0.21,
            -0.21,
            -0.21,
            -0.21,
            -0.21,
            -0.21,
            -0.21,
            -0.21,
            -0.21,
            -0.21
           ],
           [
            -0.39,
            -0.39,
            -0.39,
            -0.39,
            -0.39,
            -0.39,
            -0.39,
            -0.39,
            -0.39,
            -0.39
           ],
           [
            -0.54,
            -0.54,
            -0.54,
            -0.54,
            -0.54,
            -0.54,
            -0.54,
            -0.54,
            -0.54,
            -0.54
           ],
           [
            -0.37,
            -0.37,
            -0.37,
            -0.37,
            -0.37,
            -0.37,
            -0.37,
            -0.37,
            -0.37,
            -0.37
           ],
           [
            -0.39,
            -0.39,
            -0.39,
            -0.39,
            -0.39,
            -0.39,
            -0.39,
            -0.39,
            -0.39,
            -0.39
           ]
          ],
          [
           [
            -0.2,
            -0.2,
            -0.2,
            -0.2,
            -0.2,
            -0.2,
            -0.2,
            -0.2,
            -0.2,
            -0.2
           ],
           [
            -0.25,
            -0.25,
            -0.25,
            -0.25,
            -0.25,
            -0.25,
            -0.25,
            -0.25,
            -0.25,
            -0.25
           ],
           [
            -0.32,
            -0.32,
            -0.32,
            -0.32,
            -0.32,
            -0.32,
            -0.32,
            -0.32,
            -0.32,
            -0.32
           ],
           [
            -0.12,
            -0.12,
            -0.12,
            -0.12,
            -0.12,
            -0.12,
            -0.12,
            -0.12,
            -0.12,
            -0.12
           ],
           [
            -0.26,
            -0.26,
            -0.26,
            -0.26,
            -0.26,
            -0.26,
            -0.26,
            -0.26,
            -0.26,
            -0.26
           ],
           [
            -0.52,
            -0.52,
            -0.52,
            -0.52,
            -0.52,
            -0.52,
            -0.52,
            -0.52,
            -0.52,
            -0.52
           ],
           [
            -0.26,
            -0.26,
            -0.26,
            -0.26,
            -0.26,
            -0.26,
            -0.26,
            -0.26,
            -0.26,
            -0.26
           ],
           [
            -0.34,
            -0.34,
            -0.34,
            -0.34,
            -0.34,
            -0.34,
            -0.34,
            -0.34,
            -0.34,
            -0.34
           ],
           [
            -0.39,
            -0.39,
            -0.39,
            -0.39,
            -0.39,
            -0.39,
            -0.39,
            -0.39,
            -0.39,
            -0.39
           ],
           [
            -0.44,
            -0.44,
            -0.44,
            -0.44,
            -0.44,
            -0.44,
            -0.44,
            -0.44,
            -0.44,
            -0.44
           ]
          ],
          [
           [
            -0.21,
            -0.21,
            -0.21,
            -0.21,
            -0.21,
            -0.21,
            -0.21,
            -0.21,
            -0.21,
            -0.21
           ],
           [
            -0.16,
            -0.16,
            -0.16,
            -0.16,
            -0.16,
            -0.16,
            -0.16,
            -0.16,
            -0.16,
            -0.16
           ],
           [
            -0.35,
            -0.35,
            -0.35,
            -0.35,
            -0.35,
            -0.35,
            -0.35,
            -0.35,
            -0.35,
            -0.35
           ],
           [
            -0.26,
            -0.26,
            -0.26,
            -0.26,
            -0.26,
            -0.26,
            -0.26,
            -0.26,
            -0.26,
            -0.26
           ],
           [
            -0.49,
            -0.49,
            -0.49,
            -0.49,
            -0.49,
            -0.49,
            -0.49,
            -0.49,
            -0.49,
            -0.49
           ],
           [
            -0.21,
            -0.21,
            -0.21,
            -0.21,
            -0.21,
            -0.21,
            -0.21,
            -0.21,
            -0.21,
            -0.21
           ],
           [
            -0.35,
            -0.35,
            -0.35,
            -0.35,
            -0.35,
            -0.35,
            -0.35,
            -0.35,
            -0.35,
            -0.35
           ],
           [
            -0.26,
            -0.26,
            -0.26,
            -0.26,
            -0.26,
            -0.26,
            -0.26,
            -0.26,
            -0.26,
            -0.26
           ],
           [
            -0.49,
            -0.49,
            -0.49,
            -0.49,
            -0.49,
            -0.49,
            -0.49,
            -0.49,
            -0.49,
            -0.49
           ],
           [
            -0.39,
            -0.39,
            -0.39,
            -0.39,
            -0.39,
            -0.39,
            -0.39,
            -0.39,
            -0.39,
            -0.39
           ]
          ],
          [
           [
            -0.21,
            -0.21,
            -0.21,
            -0.21,
            -0.21,
            -0.21,
            -0.21,
            -0.21,
            -0.21,
            -0.21
           ],
           [
            -0.28,
            -0.28,
            -0.28,
            -0.28,
            -0.28,
            -0.28,
            -0.28,
            -0.28,
            -0.28,
            -0.28
           ],
           [
            -0.29,
            -0.29,
            -0.29,
            -0.29,
            -0.29,
            -0.29,
            -0.29,
            -0.29,
            -0.29,
            -0.29
           ],
           [
            -0.23,
            -0.23,
            -0.23,
            -0.23,
            -0.23,
            -0.23,
            -0.23,
            -0.23,
            -0.23,
            -0.23
           ],
           [
            -0.09,
            -0.09,
            -0.09,
            -0.09,
            -0.09,
            -0.09,
            -0.09,
            -0.09,
            -0.09,
            -0.09
           ],
           [
            -0.17,
            -0.17,
            -0.17,
            -0.17,
            -0.17,
            -0.17,
            -0.17,
            -0.17,
            -0.17,
            -0.17
           ],
           [
            -0.1,
            -0.1,
            -0.1,
            -0.1,
            -0.1,
            -0.1,
            -0.1,
            -0.1,
            -0.1,
            -0.1
           ],
           [
            -0.3,
            -0.3,
            -0.3,
            -0.3,
            -0.3,
            -0.3,
            -0.3,
            -0.3,
            -0.3,
            -0.3
           ],
           [
            -0.34,
            -0.34,
            -0.34,
            -0.34,
            -0.34,
            -0.34,
            -0.34,
            -0.34,
            -0.34,
            -0.34
           ],
           [
            -0.35,
            -0.35,
            -0.35,
            -0.35,
            -0.35,
            -0.35,
            -0.35,
            -0.35,
            -0.35,
            -0.35
           ]
          ],
          [
           [
            -0.31,
            -0.31,
            -0.31,
            -0.31,
            -0.31,
            -0.31,
            -0.31,
            -0.31,
            -0.31,
            -0.31
           ],
           [
            -0.4,
            -0.4,
            -0.4,
            -0.4,
            -0.4,
            -0.4,
            -0.4,
            -0.4,
            -0.4,
            -0.4
           ],
           [
            -0.18,
            -0.18,
            -0.18,
            -0.18,
            -0.18,
            -0.18,
            -0.18,
            -0.18,
            -0.18,
            -0.18
           ],
           [
            -0.21,
            -0.21,
            -0.21,
            -0.21,
            -0.21,
            -0.21,
            -0.21,
            -0.21,
            -0.21,
            -0.21
           ],
           [
            -0.17,
            -0.17,
            -0.17,
            -0.17,
            -0.17,
            -0.17,
            -0.17,
            -0.17,
            -0.17,
            -0.17
           ],
           [
            -0.31,
            -0.31,
            -0.31,
            -0.31,
            -0.31,
            -0.31,
            -0.31,
            -0.31,
            -0.31,
            -0.31
           ],
           [
            -0.29,
            -0.29,
            -0.29,
            -0.29,
            -0.29,
            -0.29,
            -0.29,
            -0.29,
            -0.29,
            -0.29
           ],
           [
            -0.32,
            -0.32,
            -0.32,
            -0.32,
            -0.32,
            -0.32,
            -0.32,
            -0.32,
            -0.32,
            -0.32
           ],
           [
            -0.2,
            -0.2,
            -0.2,
            -0.2,
            -0.2,
            -0.2,
            -0.2,
            -0.2,
            -0.2,
            -0.2
           ],
           [
            -0.34,
            -0.34,
            -0.34,
            -0.34,
            -0.34,
            -0.34,
            -0.34,
            -0.34,
            -0.34,
            -0.34
           ]
          ]
         ]
        }
       ],
       "layout": {
        "autosize": true,
        "height": 800,
        "margin": {
         "b": 65,
         "l": 65,
         "r": 50,
         "t": 90
        },
        "scene": {
         "xaxis": {
          "title": {
           "text": "GAMMA"
          }
         },
         "yaxis": {
          "title": {
           "text": "EPSILON"
          }
         },
         "zaxis": {
          "title": {
           "text": "REWARDS"
          }
         }
        },
        "template": {
         "data": {
          "bar": [
           {
            "error_x": {
             "color": "#2a3f5f"
            },
            "error_y": {
             "color": "#2a3f5f"
            },
            "marker": {
             "line": {
              "color": "#E5ECF6",
              "width": 0.5
             },
             "pattern": {
              "fillmode": "overlay",
              "size": 10,
              "solidity": 0.2
             }
            },
            "type": "bar"
           }
          ],
          "barpolar": [
           {
            "marker": {
             "line": {
              "color": "#E5ECF6",
              "width": 0.5
             },
             "pattern": {
              "fillmode": "overlay",
              "size": 10,
              "solidity": 0.2
             }
            },
            "type": "barpolar"
           }
          ],
          "carpet": [
           {
            "aaxis": {
             "endlinecolor": "#2a3f5f",
             "gridcolor": "white",
             "linecolor": "white",
             "minorgridcolor": "white",
             "startlinecolor": "#2a3f5f"
            },
            "baxis": {
             "endlinecolor": "#2a3f5f",
             "gridcolor": "white",
             "linecolor": "white",
             "minorgridcolor": "white",
             "startlinecolor": "#2a3f5f"
            },
            "type": "carpet"
           }
          ],
          "choropleth": [
           {
            "colorbar": {
             "outlinewidth": 0,
             "ticks": ""
            },
            "type": "choropleth"
           }
          ],
          "contour": [
           {
            "colorbar": {
             "outlinewidth": 0,
             "ticks": ""
            },
            "colorscale": [
             [
              0,
              "#0d0887"
             ],
             [
              0.1111111111111111,
              "#46039f"
             ],
             [
              0.2222222222222222,
              "#7201a8"
             ],
             [
              0.3333333333333333,
              "#9c179e"
             ],
             [
              0.4444444444444444,
              "#bd3786"
             ],
             [
              0.5555555555555556,
              "#d8576b"
             ],
             [
              0.6666666666666666,
              "#ed7953"
             ],
             [
              0.7777777777777778,
              "#fb9f3a"
             ],
             [
              0.8888888888888888,
              "#fdca26"
             ],
             [
              1,
              "#f0f921"
             ]
            ],
            "type": "contour"
           }
          ],
          "contourcarpet": [
           {
            "colorbar": {
             "outlinewidth": 0,
             "ticks": ""
            },
            "type": "contourcarpet"
           }
          ],
          "heatmap": [
           {
            "colorbar": {
             "outlinewidth": 0,
             "ticks": ""
            },
            "colorscale": [
             [
              0,
              "#0d0887"
             ],
             [
              0.1111111111111111,
              "#46039f"
             ],
             [
              0.2222222222222222,
              "#7201a8"
             ],
             [
              0.3333333333333333,
              "#9c179e"
             ],
             [
              0.4444444444444444,
              "#bd3786"
             ],
             [
              0.5555555555555556,
              "#d8576b"
             ],
             [
              0.6666666666666666,
              "#ed7953"
             ],
             [
              0.7777777777777778,
              "#fb9f3a"
             ],
             [
              0.8888888888888888,
              "#fdca26"
             ],
             [
              1,
              "#f0f921"
             ]
            ],
            "type": "heatmap"
           }
          ],
          "heatmapgl": [
           {
            "colorbar": {
             "outlinewidth": 0,
             "ticks": ""
            },
            "colorscale": [
             [
              0,
              "#0d0887"
             ],
             [
              0.1111111111111111,
              "#46039f"
             ],
             [
              0.2222222222222222,
              "#7201a8"
             ],
             [
              0.3333333333333333,
              "#9c179e"
             ],
             [
              0.4444444444444444,
              "#bd3786"
             ],
             [
              0.5555555555555556,
              "#d8576b"
             ],
             [
              0.6666666666666666,
              "#ed7953"
             ],
             [
              0.7777777777777778,
              "#fb9f3a"
             ],
             [
              0.8888888888888888,
              "#fdca26"
             ],
             [
              1,
              "#f0f921"
             ]
            ],
            "type": "heatmapgl"
           }
          ],
          "histogram": [
           {
            "marker": {
             "pattern": {
              "fillmode": "overlay",
              "size": 10,
              "solidity": 0.2
             }
            },
            "type": "histogram"
           }
          ],
          "histogram2d": [
           {
            "colorbar": {
             "outlinewidth": 0,
             "ticks": ""
            },
            "colorscale": [
             [
              0,
              "#0d0887"
             ],
             [
              0.1111111111111111,
              "#46039f"
             ],
             [
              0.2222222222222222,
              "#7201a8"
             ],
             [
              0.3333333333333333,
              "#9c179e"
             ],
             [
              0.4444444444444444,
              "#bd3786"
             ],
             [
              0.5555555555555556,
              "#d8576b"
             ],
             [
              0.6666666666666666,
              "#ed7953"
             ],
             [
              0.7777777777777778,
              "#fb9f3a"
             ],
             [
              0.8888888888888888,
              "#fdca26"
             ],
             [
              1,
              "#f0f921"
             ]
            ],
            "type": "histogram2d"
           }
          ],
          "histogram2dcontour": [
           {
            "colorbar": {
             "outlinewidth": 0,
             "ticks": ""
            },
            "colorscale": [
             [
              0,
              "#0d0887"
             ],
             [
              0.1111111111111111,
              "#46039f"
             ],
             [
              0.2222222222222222,
              "#7201a8"
             ],
             [
              0.3333333333333333,
              "#9c179e"
             ],
             [
              0.4444444444444444,
              "#bd3786"
             ],
             [
              0.5555555555555556,
              "#d8576b"
             ],
             [
              0.6666666666666666,
              "#ed7953"
             ],
             [
              0.7777777777777778,
              "#fb9f3a"
             ],
             [
              0.8888888888888888,
              "#fdca26"
             ],
             [
              1,
              "#f0f921"
             ]
            ],
            "type": "histogram2dcontour"
           }
          ],
          "mesh3d": [
           {
            "colorbar": {
             "outlinewidth": 0,
             "ticks": ""
            },
            "type": "mesh3d"
           }
          ],
          "parcoords": [
           {
            "line": {
             "colorbar": {
              "outlinewidth": 0,
              "ticks": ""
             }
            },
            "type": "parcoords"
           }
          ],
          "pie": [
           {
            "automargin": true,
            "type": "pie"
           }
          ],
          "scatter": [
           {
            "fillpattern": {
             "fillmode": "overlay",
             "size": 10,
             "solidity": 0.2
            },
            "type": "scatter"
           }
          ],
          "scatter3d": [
           {
            "line": {
             "colorbar": {
              "outlinewidth": 0,
              "ticks": ""
             }
            },
            "marker": {
             "colorbar": {
              "outlinewidth": 0,
              "ticks": ""
             }
            },
            "type": "scatter3d"
           }
          ],
          "scattercarpet": [
           {
            "marker": {
             "colorbar": {
              "outlinewidth": 0,
              "ticks": ""
             }
            },
            "type": "scattercarpet"
           }
          ],
          "scattergeo": [
           {
            "marker": {
             "colorbar": {
              "outlinewidth": 0,
              "ticks": ""
             }
            },
            "type": "scattergeo"
           }
          ],
          "scattergl": [
           {
            "marker": {
             "colorbar": {
              "outlinewidth": 0,
              "ticks": ""
             }
            },
            "type": "scattergl"
           }
          ],
          "scattermapbox": [
           {
            "marker": {
             "colorbar": {
              "outlinewidth": 0,
              "ticks": ""
             }
            },
            "type": "scattermapbox"
           }
          ],
          "scatterpolar": [
           {
            "marker": {
             "colorbar": {
              "outlinewidth": 0,
              "ticks": ""
             }
            },
            "type": "scatterpolar"
           }
          ],
          "scatterpolargl": [
           {
            "marker": {
             "colorbar": {
              "outlinewidth": 0,
              "ticks": ""
             }
            },
            "type": "scatterpolargl"
           }
          ],
          "scatterternary": [
           {
            "marker": {
             "colorbar": {
              "outlinewidth": 0,
              "ticks": ""
             }
            },
            "type": "scatterternary"
           }
          ],
          "surface": [
           {
            "colorbar": {
             "outlinewidth": 0,
             "ticks": ""
            },
            "colorscale": [
             [
              0,
              "#0d0887"
             ],
             [
              0.1111111111111111,
              "#46039f"
             ],
             [
              0.2222222222222222,
              "#7201a8"
             ],
             [
              0.3333333333333333,
              "#9c179e"
             ],
             [
              0.4444444444444444,
              "#bd3786"
             ],
             [
              0.5555555555555556,
              "#d8576b"
             ],
             [
              0.6666666666666666,
              "#ed7953"
             ],
             [
              0.7777777777777778,
              "#fb9f3a"
             ],
             [
              0.8888888888888888,
              "#fdca26"
             ],
             [
              1,
              "#f0f921"
             ]
            ],
            "type": "surface"
           }
          ],
          "table": [
           {
            "cells": {
             "fill": {
              "color": "#EBF0F8"
             },
             "line": {
              "color": "white"
             }
            },
            "header": {
             "fill": {
              "color": "#C8D4E3"
             },
             "line": {
              "color": "white"
             }
            },
            "type": "table"
           }
          ]
         },
         "layout": {
          "annotationdefaults": {
           "arrowcolor": "#2a3f5f",
           "arrowhead": 0,
           "arrowwidth": 1
          },
          "autotypenumbers": "strict",
          "coloraxis": {
           "colorbar": {
            "outlinewidth": 0,
            "ticks": ""
           }
          },
          "colorscale": {
           "diverging": [
            [
             0,
             "#8e0152"
            ],
            [
             0.1,
             "#c51b7d"
            ],
            [
             0.2,
             "#de77ae"
            ],
            [
             0.3,
             "#f1b6da"
            ],
            [
             0.4,
             "#fde0ef"
            ],
            [
             0.5,
             "#f7f7f7"
            ],
            [
             0.6,
             "#e6f5d0"
            ],
            [
             0.7,
             "#b8e186"
            ],
            [
             0.8,
             "#7fbc41"
            ],
            [
             0.9,
             "#4d9221"
            ],
            [
             1,
             "#276419"
            ]
           ],
           "sequential": [
            [
             0,
             "#0d0887"
            ],
            [
             0.1111111111111111,
             "#46039f"
            ],
            [
             0.2222222222222222,
             "#7201a8"
            ],
            [
             0.3333333333333333,
             "#9c179e"
            ],
            [
             0.4444444444444444,
             "#bd3786"
            ],
            [
             0.5555555555555556,
             "#d8576b"
            ],
            [
             0.6666666666666666,
             "#ed7953"
            ],
            [
             0.7777777777777778,
             "#fb9f3a"
            ],
            [
             0.8888888888888888,
             "#fdca26"
            ],
            [
             1,
             "#f0f921"
            ]
           ],
           "sequentialminus": [
            [
             0,
             "#0d0887"
            ],
            [
             0.1111111111111111,
             "#46039f"
            ],
            [
             0.2222222222222222,
             "#7201a8"
            ],
            [
             0.3333333333333333,
             "#9c179e"
            ],
            [
             0.4444444444444444,
             "#bd3786"
            ],
            [
             0.5555555555555556,
             "#d8576b"
            ],
            [
             0.6666666666666666,
             "#ed7953"
            ],
            [
             0.7777777777777778,
             "#fb9f3a"
            ],
            [
             0.8888888888888888,
             "#fdca26"
            ],
            [
             1,
             "#f0f921"
            ]
           ]
          },
          "colorway": [
           "#636efa",
           "#EF553B",
           "#00cc96",
           "#ab63fa",
           "#FFA15A",
           "#19d3f3",
           "#FF6692",
           "#B6E880",
           "#FF97FF",
           "#FECB52"
          ],
          "font": {
           "color": "#2a3f5f"
          },
          "geo": {
           "bgcolor": "white",
           "lakecolor": "white",
           "landcolor": "#E5ECF6",
           "showlakes": true,
           "showland": true,
           "subunitcolor": "white"
          },
          "hoverlabel": {
           "align": "left"
          },
          "hovermode": "closest",
          "mapbox": {
           "style": "light"
          },
          "paper_bgcolor": "white",
          "plot_bgcolor": "#E5ECF6",
          "polar": {
           "angularaxis": {
            "gridcolor": "white",
            "linecolor": "white",
            "ticks": ""
           },
           "bgcolor": "#E5ECF6",
           "radialaxis": {
            "gridcolor": "white",
            "linecolor": "white",
            "ticks": ""
           }
          },
          "scene": {
           "xaxis": {
            "backgroundcolor": "#E5ECF6",
            "gridcolor": "white",
            "gridwidth": 2,
            "linecolor": "white",
            "showbackground": true,
            "ticks": "",
            "zerolinecolor": "white"
           },
           "yaxis": {
            "backgroundcolor": "#E5ECF6",
            "gridcolor": "white",
            "gridwidth": 2,
            "linecolor": "white",
            "showbackground": true,
            "ticks": "",
            "zerolinecolor": "white"
           },
           "zaxis": {
            "backgroundcolor": "#E5ECF6",
            "gridcolor": "white",
            "gridwidth": 2,
            "linecolor": "white",
            "showbackground": true,
            "ticks": "",
            "zerolinecolor": "white"
           }
          },
          "shapedefaults": {
           "line": {
            "color": "#2a3f5f"
           }
          },
          "ternary": {
           "aaxis": {
            "gridcolor": "white",
            "linecolor": "white",
            "ticks": ""
           },
           "baxis": {
            "gridcolor": "white",
            "linecolor": "white",
            "ticks": ""
           },
           "bgcolor": "#E5ECF6",
           "caxis": {
            "gridcolor": "white",
            "linecolor": "white",
            "ticks": ""
           }
          },
          "title": {
           "x": 0.05
          },
          "xaxis": {
           "automargin": true,
           "gridcolor": "white",
           "linecolor": "white",
           "ticks": "",
           "title": {
            "standoff": 15
           },
           "zerolinecolor": "white",
           "zerolinewidth": 2
          },
          "yaxis": {
           "automargin": true,
           "gridcolor": "white",
           "linecolor": "white",
           "ticks": "",
           "title": {
            "standoff": 15
           },
           "zerolinecolor": "white",
           "zerolinewidth": 2
          }
         }
        },
        "title": {
         "text": "Grid Searh gamma and epsilon"
        },
        "width": 900
       }
      },
      "text/html": [
       "<div>                            <div id=\"032ad1c8-1065-4ce9-8ca2-00558c21f0c0\" class=\"plotly-graph-div\" style=\"height:800px; width:900px;\"></div>            <script type=\"text/javascript\">                require([\"plotly\"], function(Plotly) {                    window.PLOTLYENV=window.PLOTLYENV || {};                                    if (document.getElementById(\"032ad1c8-1065-4ce9-8ca2-00558c21f0c0\")) {                    Plotly.newPlot(                        \"032ad1c8-1065-4ce9-8ca2-00558c21f0c0\",                        [{\"x\":[[0.1,0.1,0.1,0.1,0.1,0.1,0.1,0.1,0.1,0.1],[0.2,0.2,0.2,0.2,0.2,0.2,0.2,0.2,0.2,0.2],[0.30000000000000004,0.30000000000000004,0.30000000000000004,0.30000000000000004,0.30000000000000004,0.30000000000000004,0.30000000000000004,0.30000000000000004,0.30000000000000004,0.30000000000000004],[0.4,0.4,0.4,0.4,0.4,0.4,0.4,0.4,0.4,0.4],[0.5,0.5,0.5,0.5,0.5,0.5,0.5,0.5,0.5,0.5],[0.6,0.6,0.6,0.6,0.6,0.6,0.6,0.6,0.6,0.6],[0.7000000000000001,0.7000000000000001,0.7000000000000001,0.7000000000000001,0.7000000000000001,0.7000000000000001,0.7000000000000001,0.7000000000000001,0.7000000000000001,0.7000000000000001],[0.8,0.8,0.8,0.8,0.8,0.8,0.8,0.8,0.8,0.8],[0.9,0.9,0.9,0.9,0.9,0.9,0.9,0.9,0.9,0.9],[1.0,1.0,1.0,1.0,1.0,1.0,1.0,1.0,1.0,1.0]],\"y\":[[0.0,0.0,0.0,0.0,0.0,0.0,0.0,0.0,0.0,0.0],[0.0,0.0,0.0,0.0,0.0,0.0,0.0,0.0,0.0,0.0],[0.0,0.0,0.0,0.0,0.0,0.0,0.0,0.0,0.0,0.0],[0.0,0.0,0.0,0.0,0.0,0.0,0.0,0.0,0.0,0.0],[0.0,0.0,0.0,0.0,0.0,0.0,0.0,0.0,0.0,0.0],[0.0,0.0,0.0,0.0,0.0,0.0,0.0,0.0,0.0,0.0],[0.0,0.0,0.0,0.0,0.0,0.0,0.0,0.0,0.0,0.0],[0.0,0.0,0.0,0.0,0.0,0.0,0.0,0.0,0.0,0.0],[0.0,0.0,0.0,0.0,0.0,0.0,0.0,0.0,0.0,0.0],[0.0,0.0,0.0,0.0,0.0,0.0,0.0,0.0,0.0,0.0]],\"z\":[[[-0.12,-0.12,-0.12,-0.12,-0.12,-0.12,-0.12,-0.12,-0.12,-0.12],[-0.29,-0.29,-0.29,-0.29,-0.29,-0.29,-0.29,-0.29,-0.29,-0.29],[-0.18,-0.18,-0.18,-0.18,-0.18,-0.18,-0.18,-0.18,-0.18,-0.18],[-0.25,-0.25,-0.25,-0.25,-0.25,-0.25,-0.25,-0.25,-0.25,-0.25],[-0.22,-0.22,-0.22,-0.22,-0.22,-0.22,-0.22,-0.22,-0.22,-0.22],[-0.53,-0.53,-0.53,-0.53,-0.53,-0.53,-0.53,-0.53,-0.53,-0.53],[-0.25,-0.25,-0.25,-0.25,-0.25,-0.25,-0.25,-0.25,-0.25,-0.25],[-0.21,-0.21,-0.21,-0.21,-0.21,-0.21,-0.21,-0.21,-0.21,-0.21],[-0.23,-0.23,-0.23,-0.23,-0.23,-0.23,-0.23,-0.23,-0.23,-0.23],[-0.21,-0.21,-0.21,-0.21,-0.21,-0.21,-0.21,-0.21,-0.21,-0.21]],[[-0.06,-0.06,-0.06,-0.06,-0.06,-0.06,-0.06,-0.06,-0.06,-0.06],[0.0,0.0,0.0,0.0,0.0,0.0,0.0,0.0,0.0,0.0],[-0.14,-0.14,-0.14,-0.14,-0.14,-0.14,-0.14,-0.14,-0.14,-0.14],[-0.18,-0.18,-0.18,-0.18,-0.18,-0.18,-0.18,-0.18,-0.18,-0.18],[-0.22,-0.22,-0.22,-0.22,-0.22,-0.22,-0.22,-0.22,-0.22,-0.22],[-0.14,-0.14,-0.14,-0.14,-0.14,-0.14,-0.14,-0.14,-0.14,-0.14],[-0.36,-0.36,-0.36,-0.36,-0.36,-0.36,-0.36,-0.36,-0.36,-0.36],[-0.27,-0.27,-0.27,-0.27,-0.27,-0.27,-0.27,-0.27,-0.27,-0.27],[-0.19,-0.19,-0.19,-0.19,-0.19,-0.19,-0.19,-0.19,-0.19,-0.19],[-0.36,-0.36,-0.36,-0.36,-0.36,-0.36,-0.36,-0.36,-0.36,-0.36]],[[-0.33,-0.33,-0.33,-0.33,-0.33,-0.33,-0.33,-0.33,-0.33,-0.33],[-0.13,-0.13,-0.13,-0.13,-0.13,-0.13,-0.13,-0.13,-0.13,-0.13],[-0.26,-0.26,-0.26,-0.26,-0.26,-0.26,-0.26,-0.26,-0.26,-0.26],[-0.14,-0.14,-0.14,-0.14,-0.14,-0.14,-0.14,-0.14,-0.14,-0.14],[-0.33,-0.33,-0.33,-0.33,-0.33,-0.33,-0.33,-0.33,-0.33,-0.33],[-0.24,-0.24,-0.24,-0.24,-0.24,-0.24,-0.24,-0.24,-0.24,-0.24],[-0.29,-0.29,-0.29,-0.29,-0.29,-0.29,-0.29,-0.29,-0.29,-0.29],[-0.29,-0.29,-0.29,-0.29,-0.29,-0.29,-0.29,-0.29,-0.29,-0.29],[-0.42,-0.42,-0.42,-0.42,-0.42,-0.42,-0.42,-0.42,-0.42,-0.42],[-0.33,-0.33,-0.33,-0.33,-0.33,-0.33,-0.33,-0.33,-0.33,-0.33]],[[-0.18,-0.18,-0.18,-0.18,-0.18,-0.18,-0.18,-0.18,-0.18,-0.18],[-0.08,-0.08,-0.08,-0.08,-0.08,-0.08,-0.08,-0.08,-0.08,-0.08],[-0.22,-0.22,-0.22,-0.22,-0.22,-0.22,-0.22,-0.22,-0.22,-0.22],[-0.39,-0.39,-0.39,-0.39,-0.39,-0.39,-0.39,-0.39,-0.39,-0.39],[-0.32,-0.32,-0.32,-0.32,-0.32,-0.32,-0.32,-0.32,-0.32,-0.32],[-0.48,-0.48,-0.48,-0.48,-0.48,-0.48,-0.48,-0.48,-0.48,-0.48],[-0.32,-0.32,-0.32,-0.32,-0.32,-0.32,-0.32,-0.32,-0.32,-0.32],[-0.34,-0.34,-0.34,-0.34,-0.34,-0.34,-0.34,-0.34,-0.34,-0.34],[-0.39,-0.39,-0.39,-0.39,-0.39,-0.39,-0.39,-0.39,-0.39,-0.39],[-0.27,-0.27,-0.27,-0.27,-0.27,-0.27,-0.27,-0.27,-0.27,-0.27]],[[-0.15,-0.15,-0.15,-0.15,-0.15,-0.15,-0.15,-0.15,-0.15,-0.15],[-0.22,-0.22,-0.22,-0.22,-0.22,-0.22,-0.22,-0.22,-0.22,-0.22],[-0.18,-0.18,-0.18,-0.18,-0.18,-0.18,-0.18,-0.18,-0.18,-0.18],[-0.1,-0.1,-0.1,-0.1,-0.1,-0.1,-0.1,-0.1,-0.1,-0.1],[-0.33,-0.33,-0.33,-0.33,-0.33,-0.33,-0.33,-0.33,-0.33,-0.33],[-0.23,-0.23,-0.23,-0.23,-0.23,-0.23,-0.23,-0.23,-0.23,-0.23],[-0.22,-0.22,-0.22,-0.22,-0.22,-0.22,-0.22,-0.22,-0.22,-0.22],[-0.36,-0.36,-0.36,-0.36,-0.36,-0.36,-0.36,-0.36,-0.36,-0.36],[-0.24,-0.24,-0.24,-0.24,-0.24,-0.24,-0.24,-0.24,-0.24,-0.24],[-0.5,-0.5,-0.5,-0.5,-0.5,-0.5,-0.5,-0.5,-0.5,-0.5]],[[-0.13,-0.13,-0.13,-0.13,-0.13,-0.13,-0.13,-0.13,-0.13,-0.13],[-0.19,-0.19,-0.19,-0.19,-0.19,-0.19,-0.19,-0.19,-0.19,-0.19],[-0.35,-0.35,-0.35,-0.35,-0.35,-0.35,-0.35,-0.35,-0.35,-0.35],[-0.38,-0.38,-0.38,-0.38,-0.38,-0.38,-0.38,-0.38,-0.38,-0.38],[-0.13,-0.13,-0.13,-0.13,-0.13,-0.13,-0.13,-0.13,-0.13,-0.13],[-0.21,-0.21,-0.21,-0.21,-0.21,-0.21,-0.21,-0.21,-0.21,-0.21],[-0.39,-0.39,-0.39,-0.39,-0.39,-0.39,-0.39,-0.39,-0.39,-0.39],[-0.54,-0.54,-0.54,-0.54,-0.54,-0.54,-0.54,-0.54,-0.54,-0.54],[-0.37,-0.37,-0.37,-0.37,-0.37,-0.37,-0.37,-0.37,-0.37,-0.37],[-0.39,-0.39,-0.39,-0.39,-0.39,-0.39,-0.39,-0.39,-0.39,-0.39]],[[-0.2,-0.2,-0.2,-0.2,-0.2,-0.2,-0.2,-0.2,-0.2,-0.2],[-0.25,-0.25,-0.25,-0.25,-0.25,-0.25,-0.25,-0.25,-0.25,-0.25],[-0.32,-0.32,-0.32,-0.32,-0.32,-0.32,-0.32,-0.32,-0.32,-0.32],[-0.12,-0.12,-0.12,-0.12,-0.12,-0.12,-0.12,-0.12,-0.12,-0.12],[-0.26,-0.26,-0.26,-0.26,-0.26,-0.26,-0.26,-0.26,-0.26,-0.26],[-0.52,-0.52,-0.52,-0.52,-0.52,-0.52,-0.52,-0.52,-0.52,-0.52],[-0.26,-0.26,-0.26,-0.26,-0.26,-0.26,-0.26,-0.26,-0.26,-0.26],[-0.34,-0.34,-0.34,-0.34,-0.34,-0.34,-0.34,-0.34,-0.34,-0.34],[-0.39,-0.39,-0.39,-0.39,-0.39,-0.39,-0.39,-0.39,-0.39,-0.39],[-0.44,-0.44,-0.44,-0.44,-0.44,-0.44,-0.44,-0.44,-0.44,-0.44]],[[-0.21,-0.21,-0.21,-0.21,-0.21,-0.21,-0.21,-0.21,-0.21,-0.21],[-0.16,-0.16,-0.16,-0.16,-0.16,-0.16,-0.16,-0.16,-0.16,-0.16],[-0.35,-0.35,-0.35,-0.35,-0.35,-0.35,-0.35,-0.35,-0.35,-0.35],[-0.26,-0.26,-0.26,-0.26,-0.26,-0.26,-0.26,-0.26,-0.26,-0.26],[-0.49,-0.49,-0.49,-0.49,-0.49,-0.49,-0.49,-0.49,-0.49,-0.49],[-0.21,-0.21,-0.21,-0.21,-0.21,-0.21,-0.21,-0.21,-0.21,-0.21],[-0.35,-0.35,-0.35,-0.35,-0.35,-0.35,-0.35,-0.35,-0.35,-0.35],[-0.26,-0.26,-0.26,-0.26,-0.26,-0.26,-0.26,-0.26,-0.26,-0.26],[-0.49,-0.49,-0.49,-0.49,-0.49,-0.49,-0.49,-0.49,-0.49,-0.49],[-0.39,-0.39,-0.39,-0.39,-0.39,-0.39,-0.39,-0.39,-0.39,-0.39]],[[-0.21,-0.21,-0.21,-0.21,-0.21,-0.21,-0.21,-0.21,-0.21,-0.21],[-0.28,-0.28,-0.28,-0.28,-0.28,-0.28,-0.28,-0.28,-0.28,-0.28],[-0.29,-0.29,-0.29,-0.29,-0.29,-0.29,-0.29,-0.29,-0.29,-0.29],[-0.23,-0.23,-0.23,-0.23,-0.23,-0.23,-0.23,-0.23,-0.23,-0.23],[-0.09,-0.09,-0.09,-0.09,-0.09,-0.09,-0.09,-0.09,-0.09,-0.09],[-0.17,-0.17,-0.17,-0.17,-0.17,-0.17,-0.17,-0.17,-0.17,-0.17],[-0.1,-0.1,-0.1,-0.1,-0.1,-0.1,-0.1,-0.1,-0.1,-0.1],[-0.3,-0.3,-0.3,-0.3,-0.3,-0.3,-0.3,-0.3,-0.3,-0.3],[-0.34,-0.34,-0.34,-0.34,-0.34,-0.34,-0.34,-0.34,-0.34,-0.34],[-0.35,-0.35,-0.35,-0.35,-0.35,-0.35,-0.35,-0.35,-0.35,-0.35]],[[-0.31,-0.31,-0.31,-0.31,-0.31,-0.31,-0.31,-0.31,-0.31,-0.31],[-0.4,-0.4,-0.4,-0.4,-0.4,-0.4,-0.4,-0.4,-0.4,-0.4],[-0.18,-0.18,-0.18,-0.18,-0.18,-0.18,-0.18,-0.18,-0.18,-0.18],[-0.21,-0.21,-0.21,-0.21,-0.21,-0.21,-0.21,-0.21,-0.21,-0.21],[-0.17,-0.17,-0.17,-0.17,-0.17,-0.17,-0.17,-0.17,-0.17,-0.17],[-0.31,-0.31,-0.31,-0.31,-0.31,-0.31,-0.31,-0.31,-0.31,-0.31],[-0.29,-0.29,-0.29,-0.29,-0.29,-0.29,-0.29,-0.29,-0.29,-0.29],[-0.32,-0.32,-0.32,-0.32,-0.32,-0.32,-0.32,-0.32,-0.32,-0.32],[-0.2,-0.2,-0.2,-0.2,-0.2,-0.2,-0.2,-0.2,-0.2,-0.2],[-0.34,-0.34,-0.34,-0.34,-0.34,-0.34,-0.34,-0.34,-0.34,-0.34]]],\"type\":\"surface\"}],                        {\"template\":{\"data\":{\"histogram2dcontour\":[{\"type\":\"histogram2dcontour\",\"colorbar\":{\"outlinewidth\":0,\"ticks\":\"\"},\"colorscale\":[[0.0,\"#0d0887\"],[0.1111111111111111,\"#46039f\"],[0.2222222222222222,\"#7201a8\"],[0.3333333333333333,\"#9c179e\"],[0.4444444444444444,\"#bd3786\"],[0.5555555555555556,\"#d8576b\"],[0.6666666666666666,\"#ed7953\"],[0.7777777777777778,\"#fb9f3a\"],[0.8888888888888888,\"#fdca26\"],[1.0,\"#f0f921\"]]}],\"choropleth\":[{\"type\":\"choropleth\",\"colorbar\":{\"outlinewidth\":0,\"ticks\":\"\"}}],\"histogram2d\":[{\"type\":\"histogram2d\",\"colorbar\":{\"outlinewidth\":0,\"ticks\":\"\"},\"colorscale\":[[0.0,\"#0d0887\"],[0.1111111111111111,\"#46039f\"],[0.2222222222222222,\"#7201a8\"],[0.3333333333333333,\"#9c179e\"],[0.4444444444444444,\"#bd3786\"],[0.5555555555555556,\"#d8576b\"],[0.6666666666666666,\"#ed7953\"],[0.7777777777777778,\"#fb9f3a\"],[0.8888888888888888,\"#fdca26\"],[1.0,\"#f0f921\"]]}],\"heatmap\":[{\"type\":\"heatmap\",\"colorbar\":{\"outlinewidth\":0,\"ticks\":\"\"},\"colorscale\":[[0.0,\"#0d0887\"],[0.1111111111111111,\"#46039f\"],[0.2222222222222222,\"#7201a8\"],[0.3333333333333333,\"#9c179e\"],[0.4444444444444444,\"#bd3786\"],[0.5555555555555556,\"#d8576b\"],[0.6666666666666666,\"#ed7953\"],[0.7777777777777778,\"#fb9f3a\"],[0.8888888888888888,\"#fdca26\"],[1.0,\"#f0f921\"]]}],\"heatmapgl\":[{\"type\":\"heatmapgl\",\"colorbar\":{\"outlinewidth\":0,\"ticks\":\"\"},\"colorscale\":[[0.0,\"#0d0887\"],[0.1111111111111111,\"#46039f\"],[0.2222222222222222,\"#7201a8\"],[0.3333333333333333,\"#9c179e\"],[0.4444444444444444,\"#bd3786\"],[0.5555555555555556,\"#d8576b\"],[0.6666666666666666,\"#ed7953\"],[0.7777777777777778,\"#fb9f3a\"],[0.8888888888888888,\"#fdca26\"],[1.0,\"#f0f921\"]]}],\"contourcarpet\":[{\"type\":\"contourcarpet\",\"colorbar\":{\"outlinewidth\":0,\"ticks\":\"\"}}],\"contour\":[{\"type\":\"contour\",\"colorbar\":{\"outlinewidth\":0,\"ticks\":\"\"},\"colorscale\":[[0.0,\"#0d0887\"],[0.1111111111111111,\"#46039f\"],[0.2222222222222222,\"#7201a8\"],[0.3333333333333333,\"#9c179e\"],[0.4444444444444444,\"#bd3786\"],[0.5555555555555556,\"#d8576b\"],[0.6666666666666666,\"#ed7953\"],[0.7777777777777778,\"#fb9f3a\"],[0.8888888888888888,\"#fdca26\"],[1.0,\"#f0f921\"]]}],\"surface\":[{\"type\":\"surface\",\"colorbar\":{\"outlinewidth\":0,\"ticks\":\"\"},\"colorscale\":[[0.0,\"#0d0887\"],[0.1111111111111111,\"#46039f\"],[0.2222222222222222,\"#7201a8\"],[0.3333333333333333,\"#9c179e\"],[0.4444444444444444,\"#bd3786\"],[0.5555555555555556,\"#d8576b\"],[0.6666666666666666,\"#ed7953\"],[0.7777777777777778,\"#fb9f3a\"],[0.8888888888888888,\"#fdca26\"],[1.0,\"#f0f921\"]]}],\"mesh3d\":[{\"type\":\"mesh3d\",\"colorbar\":{\"outlinewidth\":0,\"ticks\":\"\"}}],\"scatter\":[{\"fillpattern\":{\"fillmode\":\"overlay\",\"size\":10,\"solidity\":0.2},\"type\":\"scatter\"}],\"parcoords\":[{\"type\":\"parcoords\",\"line\":{\"colorbar\":{\"outlinewidth\":0,\"ticks\":\"\"}}}],\"scatterpolargl\":[{\"type\":\"scatterpolargl\",\"marker\":{\"colorbar\":{\"outlinewidth\":0,\"ticks\":\"\"}}}],\"bar\":[{\"error_x\":{\"color\":\"#2a3f5f\"},\"error_y\":{\"color\":\"#2a3f5f\"},\"marker\":{\"line\":{\"color\":\"#E5ECF6\",\"width\":0.5},\"pattern\":{\"fillmode\":\"overlay\",\"size\":10,\"solidity\":0.2}},\"type\":\"bar\"}],\"scattergeo\":[{\"type\":\"scattergeo\",\"marker\":{\"colorbar\":{\"outlinewidth\":0,\"ticks\":\"\"}}}],\"scatterpolar\":[{\"type\":\"scatterpolar\",\"marker\":{\"colorbar\":{\"outlinewidth\":0,\"ticks\":\"\"}}}],\"histogram\":[{\"marker\":{\"pattern\":{\"fillmode\":\"overlay\",\"size\":10,\"solidity\":0.2}},\"type\":\"histogram\"}],\"scattergl\":[{\"type\":\"scattergl\",\"marker\":{\"colorbar\":{\"outlinewidth\":0,\"ticks\":\"\"}}}],\"scatter3d\":[{\"type\":\"scatter3d\",\"line\":{\"colorbar\":{\"outlinewidth\":0,\"ticks\":\"\"}},\"marker\":{\"colorbar\":{\"outlinewidth\":0,\"ticks\":\"\"}}}],\"scattermapbox\":[{\"type\":\"scattermapbox\",\"marker\":{\"colorbar\":{\"outlinewidth\":0,\"ticks\":\"\"}}}],\"scatterternary\":[{\"type\":\"scatterternary\",\"marker\":{\"colorbar\":{\"outlinewidth\":0,\"ticks\":\"\"}}}],\"scattercarpet\":[{\"type\":\"scattercarpet\",\"marker\":{\"colorbar\":{\"outlinewidth\":0,\"ticks\":\"\"}}}],\"carpet\":[{\"aaxis\":{\"endlinecolor\":\"#2a3f5f\",\"gridcolor\":\"white\",\"linecolor\":\"white\",\"minorgridcolor\":\"white\",\"startlinecolor\":\"#2a3f5f\"},\"baxis\":{\"endlinecolor\":\"#2a3f5f\",\"gridcolor\":\"white\",\"linecolor\":\"white\",\"minorgridcolor\":\"white\",\"startlinecolor\":\"#2a3f5f\"},\"type\":\"carpet\"}],\"table\":[{\"cells\":{\"fill\":{\"color\":\"#EBF0F8\"},\"line\":{\"color\":\"white\"}},\"header\":{\"fill\":{\"color\":\"#C8D4E3\"},\"line\":{\"color\":\"white\"}},\"type\":\"table\"}],\"barpolar\":[{\"marker\":{\"line\":{\"color\":\"#E5ECF6\",\"width\":0.5},\"pattern\":{\"fillmode\":\"overlay\",\"size\":10,\"solidity\":0.2}},\"type\":\"barpolar\"}],\"pie\":[{\"automargin\":true,\"type\":\"pie\"}]},\"layout\":{\"autotypenumbers\":\"strict\",\"colorway\":[\"#636efa\",\"#EF553B\",\"#00cc96\",\"#ab63fa\",\"#FFA15A\",\"#19d3f3\",\"#FF6692\",\"#B6E880\",\"#FF97FF\",\"#FECB52\"],\"font\":{\"color\":\"#2a3f5f\"},\"hovermode\":\"closest\",\"hoverlabel\":{\"align\":\"left\"},\"paper_bgcolor\":\"white\",\"plot_bgcolor\":\"#E5ECF6\",\"polar\":{\"bgcolor\":\"#E5ECF6\",\"angularaxis\":{\"gridcolor\":\"white\",\"linecolor\":\"white\",\"ticks\":\"\"},\"radialaxis\":{\"gridcolor\":\"white\",\"linecolor\":\"white\",\"ticks\":\"\"}},\"ternary\":{\"bgcolor\":\"#E5ECF6\",\"aaxis\":{\"gridcolor\":\"white\",\"linecolor\":\"white\",\"ticks\":\"\"},\"baxis\":{\"gridcolor\":\"white\",\"linecolor\":\"white\",\"ticks\":\"\"},\"caxis\":{\"gridcolor\":\"white\",\"linecolor\":\"white\",\"ticks\":\"\"}},\"coloraxis\":{\"colorbar\":{\"outlinewidth\":0,\"ticks\":\"\"}},\"colorscale\":{\"sequential\":[[0.0,\"#0d0887\"],[0.1111111111111111,\"#46039f\"],[0.2222222222222222,\"#7201a8\"],[0.3333333333333333,\"#9c179e\"],[0.4444444444444444,\"#bd3786\"],[0.5555555555555556,\"#d8576b\"],[0.6666666666666666,\"#ed7953\"],[0.7777777777777778,\"#fb9f3a\"],[0.8888888888888888,\"#fdca26\"],[1.0,\"#f0f921\"]],\"sequentialminus\":[[0.0,\"#0d0887\"],[0.1111111111111111,\"#46039f\"],[0.2222222222222222,\"#7201a8\"],[0.3333333333333333,\"#9c179e\"],[0.4444444444444444,\"#bd3786\"],[0.5555555555555556,\"#d8576b\"],[0.6666666666666666,\"#ed7953\"],[0.7777777777777778,\"#fb9f3a\"],[0.8888888888888888,\"#fdca26\"],[1.0,\"#f0f921\"]],\"diverging\":[[0,\"#8e0152\"],[0.1,\"#c51b7d\"],[0.2,\"#de77ae\"],[0.3,\"#f1b6da\"],[0.4,\"#fde0ef\"],[0.5,\"#f7f7f7\"],[0.6,\"#e6f5d0\"],[0.7,\"#b8e186\"],[0.8,\"#7fbc41\"],[0.9,\"#4d9221\"],[1,\"#276419\"]]},\"xaxis\":{\"gridcolor\":\"white\",\"linecolor\":\"white\",\"ticks\":\"\",\"title\":{\"standoff\":15},\"zerolinecolor\":\"white\",\"automargin\":true,\"zerolinewidth\":2},\"yaxis\":{\"gridcolor\":\"white\",\"linecolor\":\"white\",\"ticks\":\"\",\"title\":{\"standoff\":15},\"zerolinecolor\":\"white\",\"automargin\":true,\"zerolinewidth\":2},\"scene\":{\"xaxis\":{\"backgroundcolor\":\"#E5ECF6\",\"gridcolor\":\"white\",\"linecolor\":\"white\",\"showbackground\":true,\"ticks\":\"\",\"zerolinecolor\":\"white\",\"gridwidth\":2},\"yaxis\":{\"backgroundcolor\":\"#E5ECF6\",\"gridcolor\":\"white\",\"linecolor\":\"white\",\"showbackground\":true,\"ticks\":\"\",\"zerolinecolor\":\"white\",\"gridwidth\":2},\"zaxis\":{\"backgroundcolor\":\"#E5ECF6\",\"gridcolor\":\"white\",\"linecolor\":\"white\",\"showbackground\":true,\"ticks\":\"\",\"zerolinecolor\":\"white\",\"gridwidth\":2}},\"shapedefaults\":{\"line\":{\"color\":\"#2a3f5f\"}},\"annotationdefaults\":{\"arrowcolor\":\"#2a3f5f\",\"arrowhead\":0,\"arrowwidth\":1},\"geo\":{\"bgcolor\":\"white\",\"landcolor\":\"#E5ECF6\",\"subunitcolor\":\"white\",\"showland\":true,\"showlakes\":true,\"lakecolor\":\"white\"},\"title\":{\"x\":0.05},\"mapbox\":{\"style\":\"light\"}}},\"margin\":{\"l\":65,\"r\":50,\"b\":65,\"t\":90},\"title\":{\"text\":\"Grid Searh gamma and epsilon\"},\"autosize\":true,\"width\":900,\"height\":800,\"scene\":{\"xaxis\":{\"title\":{\"text\":\"GAMMA\"}},\"yaxis\":{\"title\":{\"text\":\"EPSILON\"}},\"zaxis\":{\"title\":{\"text\":\"REWARDS\"}}}},                        {\"responsive\": true}                    ).then(function(){\n",
       "                            \n",
       "var gd = document.getElementById('032ad1c8-1065-4ce9-8ca2-00558c21f0c0');\n",
       "var x = new MutationObserver(function (mutations, observer) {{\n",
       "        var display = window.getComputedStyle(gd).display;\n",
       "        if (!display || display === 'none') {{\n",
       "            console.log([gd, 'removed!']);\n",
       "            Plotly.purge(gd);\n",
       "            observer.disconnect();\n",
       "        }}\n",
       "}});\n",
       "\n",
       "// Listen for the removal of the full notebook cells\n",
       "var notebookContainer = gd.closest('#notebook-container');\n",
       "if (notebookContainer) {{\n",
       "    x.observe(notebookContainer, {childList: true});\n",
       "}}\n",
       "\n",
       "// Listen for the clearing of the current output cell\n",
       "var outputEl = gd.closest('.output');\n",
       "if (outputEl) {{\n",
       "    x.observe(outputEl, {childList: true});\n",
       "}}\n",
       "\n",
       "                        })                };                });            </script>        </div>"
      ]
     },
     "metadata": {},
     "output_type": "display_data"
    }
   ],
   "source": [
    "import plotly.graph_objects as go\n",
    "fig = go.Figure(data = [go.Surface(x=XX[0], y=YY[0], z=rewards)])\n",
    "\n",
    "fig.update_layout(title='Grid Searh gamma and epsilon', \n",
    "\n",
    "           \n",
    "                  autosize=True,\n",
    "                  width=900, \n",
    "                  height=800,\n",
    "                  margin=dict(l=65, r=50, b=65, t=90), \n",
    "                  scene = dict(\n",
    "                      xaxis = dict(title='GAMMA'),\n",
    "                      yaxis = dict(title='EPSILON'),\n",
    "                      zaxis = dict(title='REWARDS'),),\n",
    "                 )\n",
    "fig.show()"
   ]
  },
  {
   "cell_type": "code",
   "execution_count": 272,
   "id": "dd8cfc7f",
   "metadata": {},
   "outputs": [
    {
     "data": {
      "text/plain": [
       "array([[0.1, 0.1, 0.1, 0.1, 0.1, 0.1, 0.1, 0.1, 0.1, 0.1],\n",
       "       [0.2, 0.2, 0.2, 0.2, 0.2, 0.2, 0.2, 0.2, 0.2, 0.2],\n",
       "       [0.3, 0.3, 0.3, 0.3, 0.3, 0.3, 0.3, 0.3, 0.3, 0.3],\n",
       "       [0.4, 0.4, 0.4, 0.4, 0.4, 0.4, 0.4, 0.4, 0.4, 0.4],\n",
       "       [0.5, 0.5, 0.5, 0.5, 0.5, 0.5, 0.5, 0.5, 0.5, 0.5],\n",
       "       [0.6, 0.6, 0.6, 0.6, 0.6, 0.6, 0.6, 0.6, 0.6, 0.6],\n",
       "       [0.7, 0.7, 0.7, 0.7, 0.7, 0.7, 0.7, 0.7, 0.7, 0.7],\n",
       "       [0.8, 0.8, 0.8, 0.8, 0.8, 0.8, 0.8, 0.8, 0.8, 0.8],\n",
       "       [0.9, 0.9, 0.9, 0.9, 0.9, 0.9, 0.9, 0.9, 0.9, 0.9],\n",
       "       [1. , 1. , 1. , 1. , 1. , 1. , 1. , 1. , 1. , 1. ]])"
      ]
     },
     "execution_count": 272,
     "metadata": {},
     "output_type": "execute_result"
    }
   ],
   "source": []
  },
  {
   "cell_type": "code",
   "execution_count": null,
   "id": "7e269b67",
   "metadata": {},
   "outputs": [],
   "source": []
  },
  {
   "cell_type": "code",
   "execution_count": null,
   "id": "e32d084f",
   "metadata": {},
   "outputs": [],
   "source": []
  }
 ],
 "metadata": {
  "kernelspec": {
   "display_name": "Python 3 (ipykernel)",
   "language": "python",
   "name": "python3"
  },
  "language_info": {
   "codemirror_mode": {
    "name": "ipython",
    "version": 3
   },
   "file_extension": ".py",
   "mimetype": "text/x-python",
   "name": "python",
   "nbconvert_exporter": "python",
   "pygments_lexer": "ipython3",
   "version": "3.8.8"
  }
 },
 "nbformat": 4,
 "nbformat_minor": 5
}
